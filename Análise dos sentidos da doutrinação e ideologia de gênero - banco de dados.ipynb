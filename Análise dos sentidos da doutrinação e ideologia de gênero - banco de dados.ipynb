{
 "cells": [
  {
   "cell_type": "markdown",
   "id": "63c02364",
   "metadata": {},
   "source": [
    "# Análise dos sentidos da doutrinação e ideologia de gênero"
   ]
  },
  {
   "cell_type": "markdown",
   "id": "c40a9489",
   "metadata": {},
   "source": [
    "## Material: notas taquigráficas da Comissão Escola sem Partido"
   ]
  },
  {
   "cell_type": "markdown",
   "id": "c2ba242f",
   "metadata": {},
   "source": [
    "## 1ª parte:"
   ]
  },
  {
   "cell_type": "markdown",
   "id": "d15b90f0",
   "metadata": {},
   "source": [
    "### Bibliotecas"
   ]
  },
  {
   "cell_type": "code",
   "execution_count": 8,
   "id": "6a856d9d",
   "metadata": {},
   "outputs": [],
   "source": [
    "import pdfplumber\n",
    "import nltk\n",
    "\n",
    "from wordcloud import WordCloud\n",
    "import matplotlib.pyplot as plt\n",
    "\n",
    "import requests\n",
    "import datetime\n",
    "import csv\n",
    "import sys\n",
    "import re\n",
    "\n",
    "import pandas as pd\n",
    "import numpy as np\n",
    "import string\n",
    "\n",
    "from tqdm.auto import tqdm\n",
    "import glob \n",
    "import os"
   ]
  },
  {
   "cell_type": "markdown",
   "id": "e3809aac",
   "metadata": {},
   "source": [
    "### Obtenção dos pdfs"
   ]
  },
  {
   "cell_type": "code",
   "execution_count": 9,
   "id": "cb210cbe",
   "metadata": {},
   "outputs": [],
   "source": [
    "endereco = glob.glob(r'C:/Users/Andre G/Documents/Pesquisa/Fontes ESP/Projetos de Lei Doutrinação/Notas Taquigráficas/*.pdf')"
   ]
  },
  {
   "cell_type": "markdown",
   "id": "f115f6db",
   "metadata": {},
   "source": [
    "### Qtd de arquivos analisados"
   ]
  },
  {
   "cell_type": "code",
   "execution_count": 10,
   "id": "532064e2",
   "metadata": {},
   "outputs": [
    {
     "data": {
      "text/plain": [
       "33"
      ]
     },
     "execution_count": 10,
     "metadata": {},
     "output_type": "execute_result"
    }
   ],
   "source": [
    "len(endereco)"
   ]
  },
  {
   "cell_type": "markdown",
   "id": "1bd9232f",
   "metadata": {},
   "source": [
    "### Função para extrair e juntar o texto de várias páginas de um PDF\n"
   ]
  },
  {
   "cell_type": "code",
   "execution_count": 11,
   "id": "0cd49b0f",
   "metadata": {},
   "outputs": [],
   "source": [
    "def extract_pdf(pdf_path):\n",
    "    all_text = ''\n",
    "    with pdfplumber.open(pdf_path) as pdf:\n",
    "        #print(len(pdf.pages))\n",
    "        total_.append(len(pdf.pages))\n",
    "        for pdf_page in pdf.pages:\n",
    "            single_page_text = pdf_page.extract_text()\n",
    "            all_text = all_text + '\\n' + single_page_text\n",
    "    return all_text"
   ]
  },
  {
   "cell_type": "markdown",
   "id": "85b11558",
   "metadata": {},
   "source": [
    "## 2ª parte"
   ]
  },
  {
   "cell_type": "markdown",
   "id": "68bd1b3d",
   "metadata": {},
   "source": [
    "### Conversão dos pdfs em texto"
   ]
  },
  {
   "cell_type": "code",
   "execution_count": 18,
   "id": "4a96f30a",
   "metadata": {},
   "outputs": [
    {
     "data": {
      "application/vnd.jupyter.widget-view+json": {
       "model_id": "d99b06a925eb49969581016f1695e622",
       "version_major": 2,
       "version_minor": 0
      },
      "text/plain": [
       "  0%|          | 0/33 [00:00<?, ?it/s]"
      ]
     },
     "metadata": {},
     "output_type": "display_data"
    },
    {
     "name": "stdout",
     "output_type": "stream",
     "text": [
      "\n",
      "\n",
      "Foram processados 33 arquivos no total.\n",
      "\n",
      "\n",
      "O número total de páginas analisadas foi 1141.\n"
     ]
    }
   ],
   "source": [
    "total_ = []\n",
    "EMPILHADOS = []\n",
    "\n",
    "for arquivo in tqdm(endereco):\n",
    "    INDIVIDUAIS = []\n",
    "    try:\n",
    "        ## Cria uma variáve de data que está no fim do endereço do arquivo\n",
    "        data = arquivo.split('\\\\')[-1].replace('.pdf','').replace('\\uf02b','-')\n",
    "        ## Extrai o texto do arquivo PDF e faz split para retirar o excesso de espaços e parágrafos.\n",
    "        audiencia = extract_pdf(arquivo).split()\n",
    "        texto_limpo = [palavra for palavra in audiencia] ## insert palavra.lower()\n",
    "        ## Junta o texto\n",
    "        tex = \" \".join(item for item in texto_limpo)\n",
    "        ## Variável ano vazia\n",
    "        ano = ''\n",
    "        ## limpeza dos dados\n",
    "        text = tex.replace('CÂMARA DOS DEPUTADOS - DETAQ COM REDAÇÃO FINAL Comissão Especial - PL 7180/14 - Escola sem Partido Número: 0040/17 21/02/2017 ','').replace('CÂMARA DOS DEPUTADOS - DETAQ COM REDAÇÃO FINAL Comissão Especial - PL 7180/14 - Escola sem Partido Número: 0017/17 14/02/2017 ','').replace('CÂMARA DOS DEPUTADOS - DETAQ COM REDAÇÃO FINAL Comissão Especial - PL 7180/14 - Escola sem Partido Número: 0024/17 15/02/2017 ','').replace('CÂMARA DOS DEPUTADOS - DETAQ COM REDAÇÃO FINAL Comissão Especial - PL 7180/14 - Escola sem Partido Número: 0004/17 07/02/2017','').replace('CÂMARA DOS DEPUTADOS - DETAQ COM REDAÇÃO FINAL Comissão Especial - PL 7180/14 - Escola sem Partido Número: 0056/17 07/03/2017','')\n",
    "        \n",
    "        ## Salva arquivos individuais // NOTAS TAQUIGRAFICAS INDIVIDUAIS\n",
    "        INDIVIDUAIS.append([data,ano,text])\n",
    "        tab_ind = pd.DataFrame(INDIVIDUAIS,columns=['Data', 'Ano', 'Texto'])\n",
    "        ## Converte as datas        \n",
    "        tab_ind['Data'] = pd.to_datetime(tab_ind['Data'])\n",
    "        tab_ind['Ano'] = tab_ind['Data'].dt.year\n",
    "        tab_ind.sort_values('Data',inplace=True)\n",
    "        ##Salva\n",
    "        tab_ind.to_csv(r'./Texto das notas taquigráficas individuais/' + str(data) + '_texto_notas_taquigraficas.txt', sep=';', encoding='utf-8-sig')\n",
    "        \n",
    "        ## Salva tudo num único arquivo // NOTAS TAQUIGRAFICAS EMPILHADOS\n",
    "        EMPILHADOS.append([data,ano,text])\n",
    "        tab_todos = pd.DataFrame(EMPILHADOS,columns=['Data', 'Ano', 'Texto'])\n",
    "        ## Converte as datas        \n",
    "        tab_todos['Data'] = pd.to_datetime(tab_todos['Data'])\n",
    "        tab_todos['Ano'] = tab_todos['Data'].dt.year\n",
    "        tab_todos.sort_values('Data',inplace=True)\n",
    "        ##Salva\n",
    "        tab_todos.to_csv(r'./Texto das notas taquigráficas empilhados/texto_notas_taquigraficas.txt', sep=';', encoding='utf-8-sig')\n",
    "        \n",
    "    except Exception as e:\n",
    "        print(e)\n",
    "        break\n",
    "\n",
    "\n",
    "print(f'\\n')\n",
    "print(f'Foram processados {len(total_)} arquivos no total.')\n",
    "print(f'\\n')\n",
    "print(f'O número total de páginas analisadas foi {pd.DataFrame(total_).astype(int).sum()[0]}.')\n"
   ]
  },
  {
   "cell_type": "markdown",
   "id": "9f66ae8f",
   "metadata": {},
   "source": [
    "### Lista com todos os PDFs das audiências públicas e reuniões convertidos em texto"
   ]
  },
  {
   "cell_type": "code",
   "execution_count": 20,
   "id": "31a39098",
   "metadata": {},
   "outputs": [
    {
     "data": {
      "text/html": [
       "<div>\n",
       "<style scoped>\n",
       "    .dataframe tbody tr th:only-of-type {\n",
       "        vertical-align: middle;\n",
       "    }\n",
       "\n",
       "    .dataframe tbody tr th {\n",
       "        vertical-align: top;\n",
       "    }\n",
       "\n",
       "    .dataframe thead th {\n",
       "        text-align: right;\n",
       "    }\n",
       "</style>\n",
       "<table border=\"1\" class=\"dataframe\">\n",
       "  <thead>\n",
       "    <tr style=\"text-align: right;\">\n",
       "      <th></th>\n",
       "      <th>Data</th>\n",
       "      <th>Ano</th>\n",
       "      <th>Texto</th>\n",
       "    </tr>\n",
       "  </thead>\n",
       "  <tbody>\n",
       "    <tr>\n",
       "      <th>17</th>\n",
       "      <td>2017-02-14</td>\n",
       "      <td>2017</td>\n",
       "      <td>CÂMARA DOS DEPUTADOS DEPARTAMENTO DE TAQUIGRAF...</td>\n",
       "    </tr>\n",
       "    <tr>\n",
       "      <th>19</th>\n",
       "      <td>2017-02-15</td>\n",
       "      <td>2017</td>\n",
       "      <td>CÂMARA DOS DEPUTADOS DEPARTAMENTO DE TAQUIGRAF...</td>\n",
       "    </tr>\n",
       "    <tr>\n",
       "      <th>23</th>\n",
       "      <td>2017-02-21</td>\n",
       "      <td>2017</td>\n",
       "      <td>CÂMARA DOS DEPUTADOS DEPARTAMENTO DE TAQUIGRAF...</td>\n",
       "    </tr>\n",
       "    <tr>\n",
       "      <th>24</th>\n",
       "      <td>2017-03-21</td>\n",
       "      <td>2017</td>\n",
       "      <td>Discursos e Notas Taquigráﬁcas CÂMARA DOS DEPU...</td>\n",
       "    </tr>\n",
       "    <tr>\n",
       "      <th>29</th>\n",
       "      <td>2017-03-28</td>\n",
       "      <td>2017</td>\n",
       "      <td>Discursos e Notas Taquigráﬁcas CÂMARA DOS DEPU...</td>\n",
       "    </tr>\n",
       "    <tr>\n",
       "      <th>0</th>\n",
       "      <td>2017-04-04</td>\n",
       "      <td>2017</td>\n",
       "      <td>Discursos e Notas Taquigráﬁcas CÂMARA DOS DEPU...</td>\n",
       "    </tr>\n",
       "    <tr>\n",
       "      <th>21</th>\n",
       "      <td>2017-04-18</td>\n",
       "      <td>2017</td>\n",
       "      <td>Discursos e Notas Taquigráﬁcas CÂMARA DOS DEPU...</td>\n",
       "    </tr>\n",
       "    <tr>\n",
       "      <th>30</th>\n",
       "      <td>2017-05-30</td>\n",
       "      <td>2017</td>\n",
       "      <td>Discursos e Notas Taquigráﬁcas CÂMARA DOS DEPU...</td>\n",
       "    </tr>\n",
       "    <tr>\n",
       "      <th>15</th>\n",
       "      <td>2017-06-13</td>\n",
       "      <td>2017</td>\n",
       "      <td>Discursos e Notas Taquigráﬁcas CÂMARA DOS DEPU...</td>\n",
       "    </tr>\n",
       "    <tr>\n",
       "      <th>28</th>\n",
       "      <td>2017-06-27</td>\n",
       "      <td>2017</td>\n",
       "      <td>Discursos e Notas Taquigráﬁcas CÂMARA DOS DEPU...</td>\n",
       "    </tr>\n",
       "    <tr>\n",
       "      <th>4</th>\n",
       "      <td>2017-07-02</td>\n",
       "      <td>2017</td>\n",
       "      <td>CÂMARA DOS DEPUTADOS DEPARTAMENTO DE TAQUIGRAF...</td>\n",
       "    </tr>\n",
       "    <tr>\n",
       "      <th>5</th>\n",
       "      <td>2017-07-03</td>\n",
       "      <td>2017</td>\n",
       "      <td>CÂMARA DOS DEPUTADOS DEPARTAMENTO DE TAQUIGRAF...</td>\n",
       "    </tr>\n",
       "    <tr>\n",
       "      <th>6</th>\n",
       "      <td>2017-07-11</td>\n",
       "      <td>2017</td>\n",
       "      <td>Discursos e Notas Taquigráﬁcas CÂMARA DOS DEPU...</td>\n",
       "    </tr>\n",
       "    <tr>\n",
       "      <th>9</th>\n",
       "      <td>2017-08-08</td>\n",
       "      <td>2017</td>\n",
       "      <td>Discursos e Notas Taquigráﬁcas CÂMARA DOS DEPU...</td>\n",
       "    </tr>\n",
       "    <tr>\n",
       "      <th>10</th>\n",
       "      <td>2017-09-05</td>\n",
       "      <td>2017</td>\n",
       "      <td>Discursos e Notas Taquigráﬁcas CÂMARA DOS DEPU...</td>\n",
       "    </tr>\n",
       "    <tr>\n",
       "      <th>27</th>\n",
       "      <td>2017-10-24</td>\n",
       "      <td>2017</td>\n",
       "      <td>Discursos e Notas Taquigráﬁcas CÂMARA DOS DEPU...</td>\n",
       "    </tr>\n",
       "    <tr>\n",
       "      <th>31</th>\n",
       "      <td>2017-10-31</td>\n",
       "      <td>2017</td>\n",
       "      <td>Discursos e Notas Taquigráﬁcas CÂMARA DOS DEPU...</td>\n",
       "    </tr>\n",
       "    <tr>\n",
       "      <th>25</th>\n",
       "      <td>2017-11-21</td>\n",
       "      <td>2017</td>\n",
       "      <td>Discursos e Notas Taquigráﬁcas CÂMARA DOS DEPU...</td>\n",
       "    </tr>\n",
       "    <tr>\n",
       "      <th>14</th>\n",
       "      <td>2017-12-09</td>\n",
       "      <td>2017</td>\n",
       "      <td>Discursos e Notas Taquigráﬁcas CÂMARA DOS DEPU...</td>\n",
       "    </tr>\n",
       "    <tr>\n",
       "      <th>18</th>\n",
       "      <td>2018-03-14</td>\n",
       "      <td>2018</td>\n",
       "      <td>Discursos e Notas Taquigráﬁcas CÂMARA DOS DEPU...</td>\n",
       "    </tr>\n",
       "    <tr>\n",
       "      <th>1</th>\n",
       "      <td>2018-04-04</td>\n",
       "      <td>2018</td>\n",
       "      <td>Discursos e Notas Taquigráﬁcas CÂMARA DOS DEPU...</td>\n",
       "    </tr>\n",
       "    <tr>\n",
       "      <th>2</th>\n",
       "      <td>2018-04-12</td>\n",
       "      <td>2018</td>\n",
       "      <td>Reunião de: 04/12/2018 Notas Taquigráficas - C...</td>\n",
       "    </tr>\n",
       "    <tr>\n",
       "      <th>20</th>\n",
       "      <td>2018-04-17</td>\n",
       "      <td>2018</td>\n",
       "      <td>Discursos e Notas Taquigráﬁcas CÂMARA DOS DEPU...</td>\n",
       "    </tr>\n",
       "    <tr>\n",
       "      <th>3</th>\n",
       "      <td>2018-05-12</td>\n",
       "      <td>2018</td>\n",
       "      <td>Reunião de: 05/12/2018 Notas Taquigráficas - C...</td>\n",
       "    </tr>\n",
       "    <tr>\n",
       "      <th>7</th>\n",
       "      <td>2018-07-11</td>\n",
       "      <td>2018</td>\n",
       "      <td>Reunião de: 07/11/2018 Notas Taquigráficas - C...</td>\n",
       "    </tr>\n",
       "    <tr>\n",
       "      <th>8</th>\n",
       "      <td>2018-08-05</td>\n",
       "      <td>2018</td>\n",
       "      <td>Discursos e Notas Taquigráﬁcas CÂMARA DOS DEPU...</td>\n",
       "    </tr>\n",
       "    <tr>\n",
       "      <th>11</th>\n",
       "      <td>2018-10-04</td>\n",
       "      <td>2018</td>\n",
       "      <td>Discursos e Notas Taquigráﬁcas CÂMARA DOS DEPU...</td>\n",
       "    </tr>\n",
       "    <tr>\n",
       "      <th>32</th>\n",
       "      <td>2018-10-31</td>\n",
       "      <td>2018</td>\n",
       "      <td>Reunião de: 31/10/2018 Notas Taquigráficas - C...</td>\n",
       "    </tr>\n",
       "    <tr>\n",
       "      <th>12</th>\n",
       "      <td>2018-11-07</td>\n",
       "      <td>2018</td>\n",
       "      <td>Discursos e Notas Taquigráﬁcas CÂMARA DOS DEPU...</td>\n",
       "    </tr>\n",
       "    <tr>\n",
       "      <th>13</th>\n",
       "      <td>2018-11-12</td>\n",
       "      <td>2018</td>\n",
       "      <td>Reunião de: 11/12/2018 Notas Taquigráficas - C...</td>\n",
       "    </tr>\n",
       "    <tr>\n",
       "      <th>16</th>\n",
       "      <td>2018-11-13</td>\n",
       "      <td>2018</td>\n",
       "      <td>Reunião de: 13/11/2018 Notas Taquigráficas - C...</td>\n",
       "    </tr>\n",
       "    <tr>\n",
       "      <th>22</th>\n",
       "      <td>2018-11-20</td>\n",
       "      <td>2018</td>\n",
       "      <td>Reunião de: 20/11/2018 Notas Taquigráficas - C...</td>\n",
       "    </tr>\n",
       "    <tr>\n",
       "      <th>26</th>\n",
       "      <td>2018-11-22</td>\n",
       "      <td>2018</td>\n",
       "      <td>Reunião de: 22/11/2018 Notas Taquigráficas - C...</td>\n",
       "    </tr>\n",
       "  </tbody>\n",
       "</table>\n",
       "</div>"
      ],
      "text/plain": [
       "         Data   Ano                                              Texto\n",
       "17 2017-02-14  2017  CÂMARA DOS DEPUTADOS DEPARTAMENTO DE TAQUIGRAF...\n",
       "19 2017-02-15  2017  CÂMARA DOS DEPUTADOS DEPARTAMENTO DE TAQUIGRAF...\n",
       "23 2017-02-21  2017  CÂMARA DOS DEPUTADOS DEPARTAMENTO DE TAQUIGRAF...\n",
       "24 2017-03-21  2017  Discursos e Notas Taquigráﬁcas CÂMARA DOS DEPU...\n",
       "29 2017-03-28  2017  Discursos e Notas Taquigráﬁcas CÂMARA DOS DEPU...\n",
       "0  2017-04-04  2017  Discursos e Notas Taquigráﬁcas CÂMARA DOS DEPU...\n",
       "21 2017-04-18  2017  Discursos e Notas Taquigráﬁcas CÂMARA DOS DEPU...\n",
       "30 2017-05-30  2017  Discursos e Notas Taquigráﬁcas CÂMARA DOS DEPU...\n",
       "15 2017-06-13  2017  Discursos e Notas Taquigráﬁcas CÂMARA DOS DEPU...\n",
       "28 2017-06-27  2017  Discursos e Notas Taquigráﬁcas CÂMARA DOS DEPU...\n",
       "4  2017-07-02  2017  CÂMARA DOS DEPUTADOS DEPARTAMENTO DE TAQUIGRAF...\n",
       "5  2017-07-03  2017  CÂMARA DOS DEPUTADOS DEPARTAMENTO DE TAQUIGRAF...\n",
       "6  2017-07-11  2017  Discursos e Notas Taquigráﬁcas CÂMARA DOS DEPU...\n",
       "9  2017-08-08  2017  Discursos e Notas Taquigráﬁcas CÂMARA DOS DEPU...\n",
       "10 2017-09-05  2017  Discursos e Notas Taquigráﬁcas CÂMARA DOS DEPU...\n",
       "27 2017-10-24  2017  Discursos e Notas Taquigráﬁcas CÂMARA DOS DEPU...\n",
       "31 2017-10-31  2017  Discursos e Notas Taquigráﬁcas CÂMARA DOS DEPU...\n",
       "25 2017-11-21  2017  Discursos e Notas Taquigráﬁcas CÂMARA DOS DEPU...\n",
       "14 2017-12-09  2017  Discursos e Notas Taquigráﬁcas CÂMARA DOS DEPU...\n",
       "18 2018-03-14  2018  Discursos e Notas Taquigráﬁcas CÂMARA DOS DEPU...\n",
       "1  2018-04-04  2018  Discursos e Notas Taquigráﬁcas CÂMARA DOS DEPU...\n",
       "2  2018-04-12  2018  Reunião de: 04/12/2018 Notas Taquigráficas - C...\n",
       "20 2018-04-17  2018  Discursos e Notas Taquigráﬁcas CÂMARA DOS DEPU...\n",
       "3  2018-05-12  2018  Reunião de: 05/12/2018 Notas Taquigráficas - C...\n",
       "7  2018-07-11  2018  Reunião de: 07/11/2018 Notas Taquigráficas - C...\n",
       "8  2018-08-05  2018  Discursos e Notas Taquigráﬁcas CÂMARA DOS DEPU...\n",
       "11 2018-10-04  2018  Discursos e Notas Taquigráﬁcas CÂMARA DOS DEPU...\n",
       "32 2018-10-31  2018  Reunião de: 31/10/2018 Notas Taquigráficas - C...\n",
       "12 2018-11-07  2018  Discursos e Notas Taquigráﬁcas CÂMARA DOS DEPU...\n",
       "13 2018-11-12  2018  Reunião de: 11/12/2018 Notas Taquigráficas - C...\n",
       "16 2018-11-13  2018  Reunião de: 13/11/2018 Notas Taquigráficas - C...\n",
       "22 2018-11-20  2018  Reunião de: 20/11/2018 Notas Taquigráficas - C...\n",
       "26 2018-11-22  2018  Reunião de: 22/11/2018 Notas Taquigráficas - C..."
      ]
     },
     "execution_count": 20,
     "metadata": {},
     "output_type": "execute_result"
    }
   ],
   "source": [
    "#lista todos\n",
    "tab_todos"
   ]
  },
  {
   "cell_type": "code",
   "execution_count": 22,
   "id": "20fbb136",
   "metadata": {},
   "outputs": [
    {
     "data": {
      "text/html": [
       "<div>\n",
       "<style scoped>\n",
       "    .dataframe tbody tr th:only-of-type {\n",
       "        vertical-align: middle;\n",
       "    }\n",
       "\n",
       "    .dataframe tbody tr th {\n",
       "        vertical-align: top;\n",
       "    }\n",
       "\n",
       "    .dataframe thead th {\n",
       "        text-align: right;\n",
       "    }\n",
       "</style>\n",
       "<table border=\"1\" class=\"dataframe\">\n",
       "  <thead>\n",
       "    <tr style=\"text-align: right;\">\n",
       "      <th></th>\n",
       "      <th>Data</th>\n",
       "      <th>Ano</th>\n",
       "      <th>Texto</th>\n",
       "    </tr>\n",
       "  </thead>\n",
       "  <tbody>\n",
       "    <tr>\n",
       "      <th>0</th>\n",
       "      <td>2018-10-31</td>\n",
       "      <td>2018</td>\n",
       "      <td>Reunião de: 31/10/2018 Notas Taquigráficas - C...</td>\n",
       "    </tr>\n",
       "  </tbody>\n",
       "</table>\n",
       "</div>"
      ],
      "text/plain": [
       "        Data   Ano                                              Texto\n",
       "0 2018-10-31  2018  Reunião de: 31/10/2018 Notas Taquigráficas - C..."
      ]
     },
     "execution_count": 22,
     "metadata": {},
     "output_type": "execute_result"
    }
   ],
   "source": [
    "#lista individual\n",
    "tab_ind"
   ]
  },
  {
   "cell_type": "markdown",
   "id": "7174f060",
   "metadata": {},
   "source": [
    "### Exemplo de saída do primeiro arquivo"
   ]
  },
  {
   "cell_type": "code",
   "execution_count": 23,
   "id": "10f0ed4c",
   "metadata": {},
   "outputs": [
    {
     "data": {
      "text/plain": [
       "['04-04-2017',\n",
       " '',\n",
       " 'Discursos e Notas Taquigráﬁcas CÂMARA DOS DEPUTADOS - DETAQ Reunião: 0203/17 Hora: Data: idth=100%>DEPARTAMENTO DE TAQUIGRAFIA, REVISÃO E REDAÇÃO NÚCLEO DE REDAÇÃO FINAL EM COMISSÕES TEXTO COM REDAÇÃO FINAL Versão para registro histórico Não passível de alteração COMISSÃO ESPECIAL - PL 7180/14 - ESCOLA SEM PARTIDOEVENTO: Audiência Pública/Reunião Ordinária DeliberativaREUNIÃO Nº: 0203/17DATA: 04/04/2017LOCAL: Plenário 11 das ComissõesINÍCIO: 15h51minTÉRMINO: 18h35minPÁGINAS: 65 DEPOENTE/CONVIDADO - QUALIFICAÇÃO FÁBIO ARAGÃO - Procurador da República, titular do 1º Ofício da Tutela Coletiva da Educação no Rio de Janeiro e professor de Direito Constitucional AILTON BENEDITO - Procurador da República em Goiás, atuando na Procuradoria Regional dos Direitos do Cidadão e especialista em direito e gestão ambiental. SUMÁRIO Discussão acerca do PL nº 7.180/14. Deliberação de requerimento. OBSERVAÇÕES Há palavras ou expressões ininteligíveis. Houve intervenções ininteligíveis. Há oradores não identificados. O SR. PRESIDENTE (Deputado Marcos Rogério) - Boa tarde a todos. Nos termos regimentais, declaro aberta a 12ª Reunião da Comissão Especial destinada a proferir parecer ao Projeto de Lei nº 7.180, de 2014, do Sr. Erivelton Santana, que altera o art. 3º da Lei nº 9.394, de 20 de dezembro de 1996, que estabelece as diretrizes e bases da educação nacional, e seus apensados. Esclareço que esta reunião se destina à realização de audiência pública, nos termos da alínea a do inciso III do art. 50 do Regimento Interno, e à deliberação de requerimentos. Dando início à audiência pública, vou convidar a tomarem assento à Mesa os convidados desta reunião legislativa. O SR. DEPUTADO GLAUBER BRAGA - Sr. Presidente, eu queria só fazer uma pergunta a V.Exa. - não vou nem considerá-la uma questão de ordem -, para um esclarecimento. Normalmente, esta Comissão tem feito encontros com dois palestrantes que sejam a favor do projeto que está sendo analisado, o Escola sem Partido, e dois palestrantes que tenham uma posição contra a aprovação dessa matéria. Eu só queria entender se na Mesa de hoje isso efetivamente aconteceu e, se não aconteceu, por que motivo, se foi falta de requerimento para aprovação de outros convidados; se os dois convidados têm uma posição favorável à proposição, por que outros convidados não estão presentes nesta Mesa para que o contraditório possa ser feito. O SR. PRESIDENTE (Deputado Marcos Rogério) - Deputado Glauber, V.Exa. suscita um questionamento que, desde o começo dos trabalhos desta Comissão, foi um cuidado desta Presidência: tentar estabelecer aqui o equilíbrio no debate, garantindo sempre o convite a um convidado favorável e outro contrário à matéria. Nós fizemos esse esforço em todas as audiências públicas, convidando, de forma paritária, contrários e favoráveis. Não foi diferente para esta reunião também. Hoje, lamento, nós só temos aqui dois convidados favoráveis ao tema, não por omissão, negligência ou alguma ação desta Presidência ou desta Comissão, mas porque os convidados contrários à matéria não se colocaram à disposição de aqui comparecer. Foram feitos convites a várias autoridades e personalidades arroladas como convidadas desta Comissão para debater contra o projeto, mas a maioria está declinando do convite para estar nesta Comissão. É o caso do Ministro da Educação, de que tenho o ofício em mãos; é o caso de Maria Virgínia de Freitas; é o caso de Rodrigo Ratier, entre outros que nós temos aqui. De sorte que informo a V.Exa. que, daqueles que tiveram seus nomes aprovados para comparecerem a esta Comissão a fim de debater o assunto com posições contrárias, não há mais convidados a receber. Todos declinaram do convite. Obviamente, o esforço desta Presidência é convidá-los. Não me cabe convocá-los a estar aqui, assim como não o posso fazer em relação àqueles que são favoráveis à matéria. O SR. DEPUTADO GLAUBER BRAGA - Então, eu queria só fazer um pedido a V.Exa., Presidente. Eu mesmo apresentei um conjunto de requerimentos e, em relação a esses requerimentos, ainda não havia a notícia de que os convidados que têm uma posição crítica à proposta já tinham anunciado o seu desejo de não participar desta Comissão. Mas, com certeza, a Secretaria vai poder apresentar a posição desses convidados e o momento em que eles porventura foram contatados e deram uma resposta negativa à presença. Entre outros, por exemplo, eu fiz o convite a Leandro Karnal. Esse foi um dos primeiros requerimentos que aprovamos nesta Comissão. O SR. PRESIDENTE (Deputado Marcos Rogério) - Perfeito. O SR. DEPUTADO GLAUBER BRAGA - Não se trata de desconfiança, pelo contrário. A partir da audiência de hoje, eu recebi várias ligações e contatos de pessoas que gostariam de fazer parte e, inclusive, estabelecer o contraditório com os procuradores que vão aqui fazer uso da palavra. O que eu queria pedir a V.Exa.? A possibilidade de aprovarmos um requerimento na próxima reunião da Comissão para que outras pessoas possam ser ouvidas daquelas que se disponham a estar presentes aqui no encontro. Se alguns convidados declinaram do convite, outros com certeza aceitarão a possibilidade de realização do contraditório em relação a essas audiências. O SR. PRESIDENTE (Deputado Marcos Rogério) - Agradeço a V.Exa. pelas ponderações. Quando à sugestão de V.Exa., não há nenhuma objeção por parte desta Presidência. Eu vou pedir à Secretaria da Comissão que informe depois ao gabinete de V.Exa. aqueles que declinaram do convite e aqueles que justificaram a impossibilidade de vir. No caso do Leandro Karnal - eu estou aqui com o relatório -, ele declinou do convite porque não tinha disponibilidade de agenda. No dia 8 de fevereiro, ele recebeu o convite. Mas há outros aqui que deram outras justificativas. Eu vou encaminhar essa informação ao gabinete de V.Exa. O SR. DEPUTADO GLAUBER BRAGA - Está bom. O SR. PRESIDENTE (Deputado Marcos Rogério) - Eu penso que de repente nós teremos aqui mais uma ou duas sessões apenas, e depois nós vamos fazer as regionais. De qualquer sorte, para que V.Exa. tenha conhecimento dos convites que foram feitos, eu os encaminharei a V.Exa. O SR. DEPUTADO GLAUBER BRAGA - Eu queria pedir a possibilidade, então, de que na próxima semana, como um limite para apresentação dos requerimentos que não foram deliberados de pessoas que possam ser ouvidas, deliberássemos esses requerimentos, na semana que vem, se os procuradores quiserem e puderem estar presentes nessa reunião, para que o contraditório se estabeleça normalmente, senão o faremos em momentos diferentes. Se eles porventura quiserem estar presentes nessa audiência, eu posso apresentar até um requerimento em conjunto para que o contraditório possa se estabelecer. Mas peço a V.Exa. que paute isso na próxima semana, por favor. O SR. PRESIDENTE (Deputado Marcos Rogério) - O apelo de V.Exa. será atendido. O SR. DEPUTADO GLAUBER BRAGA - Obrigado. O SR. PRESIDENTE (Deputado Marcos Rogério) - Eu só não tenho a confirmação ainda, Deputado Glauber, se na semana que vem teremos reunião da Comissão, porque essa semana a Secretaria Geral da Mesa ainda não anunciou como serão os trabalhos da Casa. Havendo a reunião da Comissão, eu me comprometo a atender ao apelo de V.Exa., sem maiores dificuldades. Então, faremos neste momento a composição da Mesa. Convido a tomar assento à mesa o nosso convidado Dr. Fábio Aragão, Procurador da República, Titular do 1º Ofício da Tutela Coletiva da Educação no Rio de Janeiro, Professor de Direito Constitucional. V.Exa. é convidado a compor a Mesa. Convido também o Dr. Ailton Benedito, Procurador da República em Goiás, que está atuando na Procuradoria Regional dos Direitos do Cidadão, especialista em Direito e Gestão Ambiental. (Pausa.) Para melhor andamento dos trabalhos, esclareço que adotaremos os seguintes procedimentos. Cada convidado terá até 20 minutos para sua exposição. Durante suas falas, os convidados não poderão ser aparteados e deverão limitar-se ao tema em debate. Findas as apresentações, concederei a palavra primeiramente ao Relator, o eminente Deputado Flavinho, e em seguida aos Deputados inscritos para o debate. A palavra aos Líderes, para Comunicação de Liderança, será concedida após a fala dos convidados, na ordem em que a solicitarem. Nos termos do § 1º do art. 66 do Regimento, os Líderes não poderão interpelar os convidados, se estiverem usando o tempo da Comunicação de Liderança. Ao interpelar os convidados, os Parlamentares só poderão fazê-lo estritamente sobre o assunto da exposição, pelo prazo de 3 minutos, tendo os convidados o mesmo tempo para a resposta. Por último, concederei a palavra aos Deputados não membros que estiverem inscritos. Eu faria um apelo aos Parlamentares presentes: se é possível, como fizemos nas reuniões anteriores, tão logo tivermos quórum e não estiver a Ordem do Dia em andamento no plenário, votarmos os requerimentos constantes da Ordem do Dia. (Pausa.) Não havendo nenhum embargo ou oposição, fica assim estabelecido. No final, eu vou passar, para o conhecimento do Plenário, a nossa programação para os Estados. Nós aprovamos vários requerimentos aqui com agendas estaduais para debate do tema. Nós a estamos disponibilizando para os e-mails institucionais, mas darei conhecimento também ao Plenário desses agendamentos. O SR. DEPUTADO GLAUBER BRAGA - Essas matérias de requerimento de viagem aos Estados precisam ser aprovadas por requerimento também, Sr. Presidente? O SR. PRESIDENTE (Deputado Marcos Rogério) - Também, porque tem que haver autorização. O SR. DEPUTADO GLAUBER BRAGA - Vai ser votado hoje isso? O SR. PRESIDENTE (Deputado Marcos Rogério) - Já foram aprovados vários, mas há Parlamentares os apresentando ainda. O SR. DEPUTADO GLAUBER BRAGA - Hoje, ainda deliberaremos alguma coisa sobre isso aqui ou não? O SR. PRESIDENTE (Deputado Marcos Rogério) - Há um requerimento do Deputado Hildo Rocha, para o Maranhão. Se V.Exa. tiver sugestão, poderia fazer... O SR. DEPUTADO GLAUBER BRAGA - Já tem o Rio de Janeiro requerimento apresentado? O SR. PRESIDENTE (Deputado Marcos Rogério) - Tem. O SR. DEPUTADO GLAUBER BRAGA - Já está aprovado? O SR. PRESIDENTE (Deputado Marcos Rogério) - O Rio de Janeiro já está... O SR. DEPUTADO GLAUBER BRAGA - Está bom. Obrigado. O SR. PRESIDENTE (Deputado Marcos Rogério) - Agradeço a V.Exa. Dando início à nossa audiência pública, passo a palavra ao nosso convidado Dr. Fábio Aragão, pelo prazo de 20 minutos, para fazer sua manifestação acerca do tema, agradecendo-lhe desde já a presença aos trabalhos desta Comissão Especial. O SR. FÁBIO ARAGÃO - Agradeço a oportunidade de estar aqui no Parlamento, a Casa do Povo. Cumprimento o Deputado Marcos Rogério, o Deputado Flavinho, todos os Parlamentares, autoridades e membros da sociedade civil presentes. Inicialmente, eu gostaria de sublinhar, como professor de Direito Constitucional, que o Projeto de Lei nº 867, de 2015, intitulado Programa Escola sem Partido, está plenamente de acordo com a Constituição da República, visto que decorre de princípios e regras constitucionais da tábua axiológica fundamental de 1988. Esse projeto e os demais apensados versam basicamente sobre duas questões fundamentais, sobre dois pilares. O primeiro pilar se refere à vedação de doutrinação política e ideológica nas instituições de ensino. E o segundo pilar se refere à vedação da ministração de assuntos que venham a vilipendiar as convicções religiosas e morais dos pais na educação de seus filhos. Esses dois pilares estão sintetizados no art. 3º do Projeto de Lei nº 867, que assim dispõe: Art. 3º. São vedadas, em sala de aula, a prática de doutrinação política e ideológica bem como a veiculação de conteúdos ou a realização de atividades que possam estar em conflito com as convicções religiosas ou morais dos pais ou responsáveis pelos estudantes. Então, são duas questões, a doutrinação política e ideológica e a vedação de aviltar as convicções religiosas e morais dos pais na educação dos filhos. Quanto a esse segundo aspecto, o respeito às convicções religiosas e morais, isso não é uma inovação do projeto de lei, pois decorre da própria Constituição da República, que, no art. 5º, inciso VI, preconiza a inviolabilidade da liberdade de consciência e de crença. Se a Constituição da República garante a inviolabilidade da consciência e da crença, os pais, ao educarem os seus filhos, podem ministrar a educação moral e podem professar a fé que seja peculiar à família, sem a possibilidade de o Estado fazer ingestões indevidas em campos morais, que pertencem à família. Não há só o art. 5º, inciso VI. O art. 226 da Constituição estabelece que a família, base da sociedade, tem especial proteção do Estado. O Estado existe para proteger as famílias e respeitar as suas crenças. (Palmas.) O Estado não existe para ser inimigo das famílias. Por quê? Porque, em um Estado Democrático de Direito, os filhos são educados pelos pais, e os pais ministram a educação moral aos seus filhos. Porém, nos Estados totalitários, há uma inversão; neles, os filhos não pertencem à família, os filhos pertencem ao Estado. A Constituição, no art. 5º, § 2º, estabelece o princípio da não tipicidade dos direitos fundamentais, declarando que direitos fundamentais não são apenas aqueles expostos na Constituição, mas também aqueles previstos em tratados internacionais e, por sua vez, na Convenção Americana sobre Direitos Humanos, o Pacto de São José da Costa Rica, do qual o Brasil é signatário. O art. 12, inciso IV, afirma que os pais têm direito a que seus filhos recebam a educação religiosa e moral de acordo com as suas próprias convicções. Isso decorre da Constituição, mas decorre também do próprio ordenamento jurídico, pois o Código Civil brasileiro, no art. 1.630, diz que os filhos estão sujeitos ao poder familiar, enquanto menores. Então, enquanto os filhos são menores, eles não pertencem ao Estado e nunca pertenceram ao Estado. Os filhos são educados pela família, e é a família quem define quais são os valores morais e religiosos a serem ensinados aos seus filhos. Complementando, o art. 1.634, inciso I, do Código Civil, afirma que compete aos pais dirigir a criação e a educação dos seus próprios filhos. Logo, o projeto de lei não inova a ordem jurídica, apenas vem clarificar preceitos constitucionais já existentes em nossa República e regulamentar aspectos que já estão até no Código Civil brasileiro. É por isso que o projeto de lei é plenamente constitucional. A segunda questão de todas as normas do projeto de lei versa sobre a vedação da doutrinação política e ideológica. Vejam, a proibição da doutrinação político- ideológica já existe no nosso ordenamento jurídico. Ainda que o projeto de lei não venha a ser aprovado, de qualquer forma, não pode haver doutrinação político- ideológica, por força de princípios constitucionais, como o princípio constitucional da neutralidade político-ideológica do Estado no uso do patrimônio público. Esse princípio decorre do pluralismo político, previsto no art. 1º, inciso V, da Constituição, e no art. 206, inciso III, da Constituição, que assegura o pluralismo de ideias no âmbito acadêmico. Se vivemos em um Estado plural, em que há a possibilidade da convivência de diversas opiniões diferentes, o Estado tem que ser neutro e não pode impor a ideologia A, B ou C, pois tem que respeitar a liberdade dos cidadãos de conviver com opiniões diferentes. Além disso, ainda que não fosse aprovado o projeto de lei, é proibida a doutrinação político-partidária por força de princípios constitucionais, como o da legalidade, da impessoalidade e da moralidade. Pelo princípio da legalidade, a administração pública só pode fazer aquilo que a lei determina. O agente público só pode exercer a sua competência de acordo com as prescrições legais. Não existe norma dizendo que compete aos educadores doutrinar política e ideologicamente os alunos. Além do mais, viola-se o princípio da impessoalidade, que impede a criação de discriminações odiosas em prol de determinados grupos e favorecimento desses grupos. Decorre também do próprio princípio da finalidade pública, que é sucedâneo da própria noção de Estado Democrático de Direito, pois os agentes públicos não existem para perseguir interesses privados, particulares e sectários, mas, sim, para perseguir interesses públicos definidos em lei. O desvio de finalidade é previsto na lei de ação popular, dizendo que o ato é lesivo ao patrimônio público. Logo, independentemente da aprovação ou não desse projeto de lei, a doutrinação política, ideológica e partidária, por violar esses princípios constitucionais, configura ato de improbidade administrativa, previsto no art. 11 da Lei nº 8.429. (Palmas.) A doutrinação poderia, dependendo das circunstâncias, até incidir também no crime de prevaricação, previsto no art. 319 do Código Penal, pois o agente público, em vez de satisfazer o interesse da coletividade, estaria agindo para satisfazer interesses e sentimentos pessoais. Isso é definido como prevaricação no art. 319 do Código Penal. Por todos esses fundamentos, percebemos que, ainda que não fosse aprovado o projeto de lei, todas essas vedações existem e se extraem do ordenamento jurídico. Alguém poderia me perguntar: Então, qual é a relevância de se aprovar algo que já existe? Existem vários aspectos relevantes, mas destaco dois. Primeiramente, porque a aprovação do projeto de lei esclarecerá, com riqueza de detalhes, quais são os limites éticos da atividade de docência. Hoje em dia, muitos professores cometem atos ilícitos não necessariamente por má- fé, mas pelo próprio desconhecimento da ordem jurídica e pelo próprio desconhecimento dos seus deveres. Então, o projeto de lei prevê, em seu anexo, a edição de cartazes a serem afixados em salas de aula, definindo os deveres dos professores. Então, esse projeto de lei é de suma importância para o professor saber o que ele pode e o que ele não pode fazer, quais são os seus deveres, quais são os limites éticos da atividade de docência. Esse projeto também é importantíssimo - nesse caso, é um aspecto da pedagogia cívica -, porque ensinará quais são os direitos dos alunos. Hoje em dia, muitos alunos - alguns já vieram aqui - são vilipendiados, humilhados e escarnecidos por poucos professores. Eu creio que esses são uma minoria. A maioria dos professores é zelosa, mas uma minoria comete abuso de poder. E os alunos não sabem quais os instrumentos jurídicos que podem acionar para coarctar essas atividades ilícitas. Então, esses alunos têm o direito de saber. Eu não vejo qual o mal de se colocar um cartaz dizendo: Alunos, vocês têm direito a isso. Esses são os deveres dos professores. Somente um Estado totalitário iria sonegar a ciência de direitos a determinadas pessoas. (Palmas.) Eu me lembro de que, quando foi Governador do Estado do Rio de Janeiro, Leonel Brizola forneceu tinta para pintar as casas das comunidades do Rio de Janeiro, e uma medida maravilhosa que fez foi mandar pintar trechos do art. 5º da Constituição nas comunidades, para que os cidadãos de lá conhecessem os seus direitos fundamentais. É exatamente isso que queremos agora, que os alunos conheçam os seus direitos constitucionais e possam pleiteá-los, caso haja a violação desses direitos. Eu gostaria de abordar também sucintamente alguns argumentos que são lançados por aqueles que são contrários ao projeto de lei do Escola sem Partido. Alguns dizem: O projeto vai violar a liberdade de cátedra. Não, a liberdade do professor de ensinar permanece. Na verdade, o projeto de lei é para coibir os abusos perpetrados no exercício da docência. Por exemplo, há 2 semanas, uma mãe do Colégio Pedro II me mandou um áudio do filho dela reclamando de um professor de música que disse: Hoje eu não vou dar aula de música; hoje vou apenas falar sobre o Congresso Nacional, falar que os Deputados são golpistas, tiranos e corruptos. Nessa 1 hora de aula de música, ele não deu aula de música. Na visão desse professor, nós estamos aqui em uma farsa. Os senhores seriam golpistas, eu seria golpista. Um professor de música recebe dinheiro público para lecionar música, mas decide não dar aula de música, apenas ofender, durante 60 minutos, o Congresso Nacional. Isso viola obviamente os limites éticos da atividade docente. Então, a liberdade de cátedra permanece. Ele pode dar aula de música. O que ele não pode é abusar desse direito. Alguns dizem que o Escola sem Partido é contrário ao pluralismo de ideias. Não, o art. 2º, inciso II, do projeto de lei fala sobre assegurar o pluralismo de ideias no âmbito acadêmico. O projeto, na verdade, é justamente para que todos os alunos possam ter opiniões contrárias. O projeto, na verdade, é para que o pluralismo exista. É por isso que o projeto está sendo injustiçado com o nome de Lei da Mordaça. Mas eu creio que esse projeto de lei é uma lei antimordaça, porque amordaçados estão os alunos. (Palmas.) Os alunos estão amordaçados porque eles não conhecem os seus direitos e eles não têm a quem recorrer. Então, essa é uma lei que vai tirar a mordaça para que os alunos tenham voz. Alguns dizem: Eu sou contra o Escola sem Partido, mas eu sou a favor do pluralismo de ideias. É exatamente isso que nós temos defendemos. O projeto de lei é para o pluralismo de ideias. E um argumento final que usam é que ninguém pode ser neutro. Ora, é claro que todo professor pode ter a sua opinião política, pode ter a sua religião; o que ele não pode é aproveitar a sala de aula para impor, coercitivamente, a sua religião. O que ele não pode é, no horário da sala de aula, atuar como um cabo eleitoral e distribuir o santinho do seu candidato a prefeito de uma determinada cidade. (Palmas.) Pois bem, por todos esses motivos, cremos que o projeto de lei está de acordo com a Constituição, porque está ancorado em princípios e regras da Constituição da República. Eu gostaria de trazer ao conhecimento do Parlamento, apesar de ter sido divulgada pela mídia, uma ação que não está em segredo de Justiça, um fato público. Eu ajuizei recentemente uma ação de improbidade administrativa de extrema relevância em razão de fatos gravíssimos ocorridos no Colégio Pedro II envolvendo o Sindicato dos Professores, envolvendo o Partido Socialismo e Liberdade - PSOL, envolvendo o Reitor Oscar Halac, envolvendo vários professores e agentes públicos, porque vários pais de alunos foram ao Ministério Público Federal prestar um depoimento perante mim, narrando que foi fundado um núcleo do PSOL dentro de uma autarquia federal de ensino. Vários pais narraram esta conduta em depoimento. Lembro que, quando alguém presta depoimento ao Ministério Público Federal, caso minta, poderá incorrer no crime de falso testemunho. Eles narraram que foi fundado um núcleo do PSOL dentro do Colégio Pedro II, com o objetivo de realizar reuniões político-partidárias dentro do colégio, com o objetivo de doutrinar alunos na visão do partido, com o objetivo de formar alunos para serem militantes do PSOL e também para fazer campanha eleitoral do PSOL dentro do Colégio Pedro II. Esses pais tiraram fotos, gravaram vídeos. Não só pais, até menores disseram isso a mim, e eu não colhi o depoimento deles, porque eles são menores. Mas ouvi alunos também, estarrecidos com a politização do Colégio. Esse fato é de extrema gravidade porque o Colégio Pedro II é uma autarquia federal de ensino, criado em 1837, na época do Império, com o objetivo de formar a nata da intelectualidade brasileira. Os alunos estão desesperados. Batem à minha porta algumas mães até chorando. Por exemplo, uma mãe, ao chegar à sua casa, viu que colaram na lancheira do filho de 6 ou 7 anos um adesivo de um candidato. A professora cola um adesivo de candidato na lancheira da criança! Portanto, essa ação foi uma ação de improbidade para coibir esses atos gravíssimos que estão ocorrendo. Inclusive, os alunos são doutrinados desde a mais tenra idade no sentido de que, por exemplo, o impeachment - sem analisar o mérito, se é certo ou é errado - aconteceu pelo fato de o Congresso ser uma Casa de golpistas, aviltando o Parlamento. Um professor de Matemática tem que dar aula de Matemática. Não é a função dele se tornar juiz de Parlamentares. Ele, como cidadão, pode criticar o Parlamento, mas ele não pode usar a sala de aula para fazer isso, muito menos distribuir o panfleto do seu candidato e pedir voto para ele. (Palmas.) Eu ajuizei também, no início deste ano, uma ação contra o Reitor da UFRJ, o Roberto Leher, por usar a Universidade Federal do Rio de Janeiro, uma das Universidades mais prestigiadas deste País, como plataforma política pessoal dele. Na época, estava havendo o processo de impeachment da então Presidente Dilma. Parte da sociedade era favorável, parte da sociedade era contrária. É óbvio que ele, como cidadão, tem a opinião dele, mas ele usou o nome da UFRJ, usou as instalações da UFRJ, para fazer um ato contra o golpe. E há mais: houve a promessa de que os alunos que comparecessem a esse evento político-partidário ganhariam horas de atividades acadêmicas, que são aquelas horas que nós precisamos cumprir para ganharmos o nosso diploma. Essa promessa no final nem foi cumprida, mas atraíram-se alunos prometendo horas de atividades acadêmicas para quem participasse de um evento de natureza totalmente político-partidária. Repito: o Reitor, como cidadão, pode ser contrário ao impeachment, mas o que ele não pode fazer é usar a máquina pública, o patrimônio público e o nome da UFRJ para propagar a sua ideologia, até porque ele é fundador de um partido político. Esses dois exemplos - existem outras investigações no meu gabinete, outras que ainda eclodirão - apontam que, na verdade, foi descoberta apenas a ponta de um iceberg. Eu estou falando da realidade do Rio de Janeiro, mas esses fatos ocorrem também em outros Estados. A ponta do iceberg foi desvelada, mas existe um iceberg inteiro a ser investigado, razão pela qual seria até juridicamente cabível - e isso a sabedoria parlamentar vai decidir se convém ou não - a instalação de uma Comissão Parlamentar de Inquérito para apurar esses abusos cometidos (palmas) e inclusive outros crimes que apareceriam, como superfaturamento de contratos, fraudes em licitações, porque geralmente a pessoa que é desonesta em relação à coisa pública não comete apenas uma ilegalidade, ela é desonesta em todos os sentidos. Então, outros fatos gravíssimos poderiam vir à tona. Gostaria de encerrar a minha fala dizendo que esses fatos são seríssimos e merecem apuração do Parlamento, que tem até melhores condições de investigar isso do que o Ministério Público, pois eu estou atuando no Rio de Janeiro, o procurador Ailton está atuando em Goiás, e obviamente a CPI teria um alcance nacional, teria uma visão global de tudo o que acontece neste País. Encerro a minha fala dizendo que eu não estou aqui apenas com professor de Direito Constitucional e procurador da República. Eu vim aqui também como representante de crianças e adolescentes que estão amordaçados. Eu vim aqui hoje ser a voz daqueles que foram silenciados. Muito obrigado. (Palmas.) O SR. PRESIDENTE (Deputado Pastor Eurico) - Agradecemos ao Dr. Fabio Aragão, Procurador da República, titular do 1º Ofício de Tutela Coletiva de Educação do Rio de Janeiro e professor de Direito Constitucional, que fez a sua primeira participação nesta audiência. Dando sequência, eu aproveito para lamentar que só temos hoje a participação de duas pessoas. Apesar da isonomia desta Comissão, só há defensores de um dos lados. Já busquei a informação, e foi justificado pelo Presidente que os dois outros que haviam sido convidados mandaram justificar que não aceitariam estar aqui hoje. Então, respeitamos o posicionamento deles. Seguimos agora dando a oportunidade da fala ao Dr. Ailton Benedito, Procurador da República em Goiás, que atua na Procuradoria Regional dos Direitos do Cidadão e é especialista em Direito e Gestão Ambiental. V.Sa. tem o tempo de 20 minutos. Como houve uma tolerância em relação ao tempo do nobre orador que o antecedeu, se necessário, V.Sa. também terá esse direito. O SR. AILTON BENEDITO - Sr. Presidente, Sr. Relator, Sras. e Srs. Deputados e todos os presentes, boa tarde. Eu quero, primeiramente, cumprimentar esta Casa Legislativa pela oportunidade de estarmos todos aqui presentes discutindo um tema que é tão caro à sociedade brasileira: a educação. A educação, sem sombra de dúvidas, é apontada, no espectro ideológico de esquerda e direita - de extrema esquerda e de extrema direita -, como o principal gargalo que impede o pleno desenvolvimento do País e da sociedade brasileira. Se a educação é o principal gargalo, isso significa que há diversos problemas na educação, que precisam ser devidamente investigados e esclarecidos, para que a sociedade, por intermédio inclusive dos seus representantes nesta Casa, possa tomar as decisões mais importantes para corrigir esses problemas que acontecem e acometem a educação brasileira, especialmente o sistema de ensino, uma vez que a educação é muito mais ampla do que aquilo por que se perpassa no sistema de ensino. Nesse contexto, eu gostaria de apresentar o que leva o Ministério Público Federal, a partir de Goiás, a atuar nessa matéria. E aqui peço vênia ao Presidente para dizer que não se trata de pertencer ao lado A ou B, mas, na verdade, dentro do papel do Ministério Público, de apresentar aquilo que eu, como agente do Ministério Público e Procurador da República, tenho percebido cotidianamente nas minhas atuações, independentemente da coloração partidária. Não é meu papel defender partido A, B ou C, mas os interesses da sociedade, a democracia e o Estado de Direito, conforme preconiza a Constituição. (Palmas.) Nessa linha, eu gostaria de trazer o fato histórico acontecido no ano de 2016 durante o processo de impeachment da então Presidente da República. No Estado de Goiás, em instituições públicas de ensino, era bastante comum a realização de atos de natureza político-partidária em defesa da permanência no mandato da então Presidente da República e contra o seu impeachment. Recebemos do Ministério Público Federal diversas notícias, inclusive de organizações de verdadeiros comitês de resistência ao golpe, entre aspas - assim era chamado o processo de impeachment dentro das instituições federais de ensino no Estado de Goiás. Eu falo em federais porque são federais as instituições nas quais eu atuo, mas a experiência mostrou que isso seguramente acontecia em todas as instituições de ensino que tinham alguma importância dentro do Estado. Consequentemente, o Ministério Público Federal instaurou em Goiás um procedimento no âmbito do qual expediu recomendações a todas essas instituições de ensino e aos demais órgãos e autarquias federais no Estado de Goiás, a fim de que esses órgãos e entidades se abstivessem de praticar qualquer ato de natureza político-partidária relacionado ao processo de impeachment, fosse o ato favorável ou contrário ao processo. Não interessava ao Ministério Público a posição A ou B, mas que o patrimônio público das instituições públicas federais em Goiás não fosse utilizado com finalidade político-partidária, em defesa ou contra a Presidente da República. Isso não nos interessava, como não nos interessa, na medida em que estamos aptos para defender o Estado de Direito, a democracia, a Constituição e as leis que estão em vigor hoje no Brasil. Essa recomendação, expedida aos diversos órgãos e instituições federais em Goiás, surtiu efeito. Muitos resistiram num primeiro momento, dizendo que não reconheciam a prática desses atos de natureza político-partidária dentro das suas estruturas. Outros, especialmente as instituições de ensino, alegavam que isso não acontecia e que o que acontecia se dava exclusivamente no exercício da autonomia universitária. Ora, a mesma Constituição que estabelece autonomia universitária estabelece também o contrato social de todos os agentes públicos e entidades públicas com a sociedade. Estão no art. 37 da Constituição os princípios da legalidade, moralidade, impessoalidade e publicidade. Esse é o contrato social que deve pautar as ações de todos os entes públicos, inclusive dentro do sistema de ensino, por parte dos professores em sala de aula. Às vezes se ouve por aí, especialmente daqueles que são adversários do Programa Escola sem Partido, que a aprovação desse projeto significaria a transformação do ambiente da sala de aula num ambiente policialesco. Os alunos e os familiares poderiam fiscalizar, de forma policialesca, a atividade do professor em sala de aula. Ora, na verdade, a autoridade do professor em sala de aula está sujeita a diversos tipos de controle e fiscalização. Essa atividade não está inexpugnável em relação ao controle e fiscalização do Ministério Público e dos demais órgãos de controle dentro da própria administração pública. Então, quando o professor em sala de aula desvia das suas funções, desvia do exercício pleno - aí, sim - da liberdade de cátedra, nos termos em que o colega pontuou anteriormente, esse professor está sujeito a toda sorte de investigações e sanções, à luz das legislações administrativa e civil. O colega que me antecedeu na semana passada, o Dr. Guilherme Schelb, mencionou aqui um projeto que ele próprio tem de uma notificação extrajudicial que as famílias poderiam encaminhar às escolas com o objetivo, por exemplo, de caracterizar alguma prática ilícita, seja do professor, seja da própria escola, em relação a seus filhos. Esse é um exemplo de um projeto de iniciativa da sociedade com vistas à proteção dos filhos que estão dentro da sala de aula. Qual seria a ilegalidade, a inconstitucionalidade de uma notificação que um pai de família encaminharia a uma escola ou a um professor, apontando que determinada conduta está violando o direito dos seus filhos? Eu não enxergo nenhuma. Trata-se do pleno exercício da cidadania. Inclusive, aqueles que advogam a necessidade de se rejeitar o projeto aqui em discussão defendem que, dentro das salas de aula, dentro das escolas, deve haver a plenitude do exercício da cidadania. Os professores devem ensinar cidadania aos alunos. Comecemos, então, a ensinar cidadania aos alunos pelos seus direitos em face dos professores. (Palmas.) Comecemos a ensinar aos alunos, conforme está exemplificado no projeto do Programa Escola sem Partido, quais os deveres que o professor tem em relação aos alunos dentro da sala de aula, por exemplo. Afinal de contas, é assim tão grave e tão ofensivo que seja ensinado aos alunos que eles têm direitos em face dos professores, que eles podem fiscalizar a atividade do professor em sala de aula e que suas famílias também têm esse direito - mais que um direito, trata-se de um dever -, à luz da Constituição, à luz do Estatuto da Criança e do Adolescente, tão invocado quando se trata, por exemplo, de proteger menores infratores, mas tão negligenciado quando se trata de assegurar à família e aos estudantes, crianças ou adolescentes, a plenitude dos seus direitos? (Palmas.) Não vejo nenhum obstáculo jurídico a que, por exemplo, as informações pertinentes aos deveres dos professores estejam afixadas em quaisquer escolas, públicas, privadas ou confessionais. Afinal de contas, trata-se de uma atividade submetida a diversos tipos de controle. Se o professor de alguma forma descumpre os seus deveres, ele está sujeito a diversos tipos de sanção, assim como eu, Procurador da República. Os Srs. Parlamentares, no exercício das suas funções, se abusam das suas prerrogativas, estão sujeitos a sanções. Por que não estão os professores? Deixo aqui a pergunta: por que os professores não estão sujeitos a sanções? Eu entendo que os professores estão submetidos ao regime jurídico próprio e estão sujeitos a sanções em casos de abusos das suas prerrogativas dentro da sala de aula. A título de uma elucubração sobre o tema da Escola sem Partido, eu tenho uma crítica: o programa não deveria ter o nome de Escola sem Partido; ele deveria se chamar Escola sem Censura, porque o que acontece dentro das salas de aula hoje é a censura a todos os estudantes que não rezam a cartilha que interessa ao partido que é dono das escolas. Essa é a realidade. (Palmas.) Nessa linha, com relação ao nome, o projeto deveria se chamar Escola sem Censura, para assegurar que, de fato, todos os estudantes, sejam crianças ou adolescentes, possam se expressar - é claro, de acordo com os regramentos específicos de uma atividade acadêmica. Afinal de contas, isso não pode se tornar uma balbúrdia, em que todo o mundo fala qualquer coisa, e a educação, a transmissão de conhecimento e de saberes fica relegada a 15º plano. Essa não é a função da escola. Aqui eu me socorro de alguém que, seguramente, é caro a muitos dos que estão presentes: o filósofo Olavo de Carvalho. Ele diz claramente - e eu concordo - que o nome Escola sem Partido está equivocado, que deveria ser Escola sem Censura. Por que ele diz que se deveria chamar Escola sem Censura? Porque a parte mais decisiva da manipulação político-partidária no sistema de ensino brasileiro não consiste da propaganda ativa do partido A, B ou C - que pode até ser eficiente, mesmo quando aplicado em dose mínima -, mas, sim, na exclusão sistemática de tudo o que contraria a visão de mundo que hegemonicamente domina as escolas. Essa é a realidade atual do sistema de ensino brasileiro. O estudante pode até tentar se defender daquilo que, de alguma forma, lhe é transmitido de forma verbal. No entanto, ele tende a se submeter àquilo que chamam de desejos miméticos, ele tende a imitar aqueles que, dentro da sala de aula, funcionam como seus modelos, sejam os colegas, sejam os grupos próximos, de pares, ou grupos antagônicos, sejam os professores. Dentro de uma relação mimética, de imitação, que faz parte do próprio processo de aculturação, todos nós, desde a mais tenra idade, aprendemos por meio da imitação: imitamos os nossos pais, imitamos os nossos irmãos, imitamos os nossos colegas e imitamos, dentro das escolas, os professores, que servem de modelo para muita gente. Nessa linha, o estudante busca imitar aqueles que são seus sujeitos-modelos. Cito, por exemplo, os símbolos, as regras de conduta, os rituais, os ídolos, os tabus, as normas de linguagem, os sentimentos, os valores e também os preconceitos. Preconceito é uma palavra muito cara quando se fala de sistema de ensino. Todos somos acusados de preconceituosos em alguma medida. Cuida-se, na verdade, de um processo de aculturação total, da mudança de comportamento e de transformação das pessoas a partir de um processo que ocorre dentro do sistema de ensino. Cito alguns exemplos desse processo que, na verdade, é de imitação e independe de um processo verbal de doutrinação propriamente dita. Esse processo de aculturação acontece, no mais das vezes, em nível pré-verbal. Cito, por exemplo, a sexualização precoce das crianças, o que acontece ainda na pré-escola, quando, sem ouvir nenhuma teoria sobre sexualidade, elas são incentivadas a imitar comportamentos de adultos. Outros exemplos são os eventos carnavalescos, as paradas gays, os bailes funks. Esse processo acontece nas escolas, como acontece em diversos outros ambientes. Os alunos nas escolas, sem nunca terem sido apresentados a qualquer teoria política, são liberados, como disse o colega, para se juntar a seus sujeitos-modelo, seus grupos, seus colegas e seus professores, em comitês de resistência ao golpe. Há um incentivo, há uma promoção desses eventos, dos quais essas pessoas, ainda não formadas dentro da plenitude do ser humano, são incentivadas, manipuladas a participar, num processo de imitação. Cito ainda o exemplo do aluno do ensino médio, que, no ano passado, foi manipulado - entre aspas - a participar do processo de ocupação de escolas. Muitas das vezes as invasões de escolas são tratadas como ocupação, inclusive por agentes públicos. Não foi incomum que todas aquelas invasões de escolas públicas no final do ano passado tivessem agentes públicos incentivando e manipulando lá dentro, enquanto, externamente, tratavam as invasões como meras ocupações em pleno exercício da cidadania. Eu atuei em casos assim em Goiás. Escolas públicas federais foram praticamente fechadas a qualquer tipo de fiscalização, seja de professores, seja de direção, seja de agentes públicos, supostamente porque as crianças, os estudantes estavam protestando contra a proposta de emenda à Constituição que tratava do teto de gastos, sem que eles, ainda em formação, tivessem a menor noção sobre finanças públicas. Esses são exemplos de que se mistura, de fato, a propaganda ativa de natureza político-partidária com manipulações sutis. São pressões, intimidações que ocorrem dentro do sistema de ensino e que submetem aqueles que não concordam a um processo de exclusão total, os quais são transformados em párias dentro do sistema de ensino. Aí rótulos como fascistas, nazistas, machistas, misóginos, homofóbicos (risos), reacionários, conservadores, golpistas e outros são utilizados corriqueiramente, para excluir aqueles que discordam das pautas defendidas nessas ocasiões, como, por exemplo, durante as invasões de escolas públicas no Estado de Goiás, no segundo semestre do ano de 2016. E aqui, certo de que muita gente discorda, quero novamente citar Olavo de Carvalho. Diz ele claramente, tratando de matéria pertinente a projetos que estão em discussão neste momento: A indução de comportamentos, a engenharia social, a pressão dos pares, a chantagem psicológica e a imitação velada ou aberta são os procedimentos usuais empregados em praticamente todas as universidades brasileiras para manter a população estudantil obediente a padrões de conduta, cujo alcance ideológico ela pode permanecer até incapaz de formular verbalmente. (...) O professor que aplica essas técnicas até transformar os seus alunos no mais obediente dos rebanhos, pode mesmo reagir com indignação ante a sugestão de que esteja doutrinando. E não é impossível que em alguns casos ele de fato esteja sendo sincero (...). Eu acredito que, na verdade, grande parte dos professores nem imaginam que estejam envolvidos nesses processos e foram adrede doutrinados, manipulados, submetidos a esse processo praticamente de lavagem cerebral. Continuo a citação: E não é impossível que em alguns casos ele de fato esteja mesmo sendo sincero, no sentido da autopersuasão histérica que se apega a uma autoimagem grupal defensiva para não precisar julgar moralmente o que faz na realidade. Trata-se, na verdade, de um processo muito mais amplo de aculturação total dentro do sistema de ensino. O projeto Escola sem Partido, especificamente, desnuda uma parte desse processo a partir do debate, das discussões, sobretudo porque revela a faceta da doutrinação verbal que acontece dentro do sistema de ensino. A doutrinação verbal seria, vamos dizer, a distribuição de cartilhas e folders e a realização de palestras, todas com a finalidade de promoção de atos de natureza político-partidária, sem que as pessoas sejam alertadas para o que está acontecendo. Em relação ao processo mais abrangente de aculturação total, o aluno, desde a pré- escola até a universidade, tem seriamente comprometido o seu pleno desenvolvimento individual, social e cultural, que deve se dar à luz das diversas cosmovisões que perpassam a realidade. O certo é que a realidade é muito mais complexa - muito mais complexa - do que a visão de um partido político A, B ou C. No mais das vezes, os partidos, legitimamente, dentro da sua esfera de atuação, defendem visões de mundo que são parciais, senão não seriam partidos. Mas nós, como agentes públicos e instituições públicas, temos que nos preocupar com a realidade também como um todo. E a realidade como um todo que hoje perpassa pelo sistema de ensino no Brasil é uma tragédia sob quaisquer aspectos que se percebam. Nessa medida, devemos nos questionar, por exemplo, que todo o tempo da atividade escolar ou acadêmica seja ocupado por matérias que são absolutamente estranhas, quando deveria ser dedicado à transmissão de conhecimentos, de saberes e de teorias, àquilo que fato é necessário à formação dos alunos. Nós temos verificado que o tempo gasto em atividades alheias em sala de aula, como o colega Fábio mencionou antes, deve ser debitado, sim, na conta daqueles que hoje têm a dominação do sistema de ensino no Brasil. Desde o MEC, como disse o colega Guilherme Schelb, há 2 semanas, às Secretarias de Educação estaduais e municipais, às diretorias de escolas, às reitorias de universidades, todos são responsáveis por esse processo que acontece no sistema de ensino. E à medida que negligenciam o seu dever de assegurar que a sala de aula seja ocupada por atividade própria - conforme os programas, conforme os currículos estabelecidos -, descumprem as suas funções, em prejuízo da formação de crianças e adolescentes, que são o futuro do Brasil. Esta é a realidade. Dito isso, todo o debate que acontece a partir da deflagração do movimento Escola sem Partido tem, felizmente, desencadeado a participação dos Legislativos espalhados pelo Brasil - de Municípios, de Estados e, agora, a Câmara Federal -, no exercício legítimo da sua competência constitucional. Inclusive houve a aprovação de projetos semelhantes em alguns Estados e Municípios do Brasil, com vistas à concretização do que são os direitos dos estudantes e os deveres dos professores. Evidentemente, os professores também têm seus direitos, mas, na relação aluno/professor, o professor tem, sobretudo, o dever de ensinar e, conforme o exercício da liberdade de cátedra, o dever de cumprir os programas de ensino. Agora mesmo, no MEC, nesta semana, deve ser encaminhada ao Conselho Federal de Educação a proposta da Base Nacional Comum Curricular. Ora, pressupõe-se que, a partir da existência de uma base curricular comum, ela seja cumprida em cada escola do Brasil. Adiantará muito pouco uma base aprovada se o tempo que deveria ser gasto em sala de aula para sua introdução, para sua exposição, para sua transmissão aos alunos for utilizado com atividades alheias à escola, à universidade. Sras. e Srs. Deputados, o colega Fábio mencionou que o projeto aqui em discussão, de acordo com o programa Escola sem Partido, é plenamente constitucional. Eu não tenho absolutamente nenhuma dúvida da sua constitucionalidade. Inclusive escrevemos e publicamos em conjunto, eu e outros Procuradores da República, um artigo que defende a perfeita constitucionalidade do projeto Escola sem Partido, à luz da Constituição Federal, da Convenção Americana sobre Direitos Humanos, do Código Civil brasileiro e do Estatuto da Criança e do Adolescente. O projeto Escola sem Partido vem garantir segurança, inclusive aos professores, no sentido de que aquilo que estão fazendo dentro da sala de aula tem respaldo jurídico. Hoje, por exemplo, sem a aprovação de um projeto como esse, existe a possibilidade de que os professores parados pelo Brasil afora que queiram de fato cumprir suas obrigações e deveres para com os alunos não tenham as informações pertinentes, necessárias ao exercício pleno da sua atividade, e não tenham segurança sobre se o que estão fazendo de alguma forma pode caracterizar uma prática ilícita. O projeto Escola sem Partido, objeto desta Comissão, terá a possibilidade de mostrar para esses professores, em todas as salas de aula do Brasil, que aquelas condutas que eles estão adotando, adequadas à transmissão de conhecimento e de saber aos alunos, não caracterizam nenhuma atividade ilícita. Este é um viés importante desse projeto. Eu quero encerrar, mais uma vez parabenizando a Câmara dos Deputados por abrir este espaço, por se apropriar do tema educação, tão caro à sociedade brasileira. A situação relacionada à partidarização do sistema de ensino é apenas um dos aspectos da educação, do sistema de ensino. Espero, torço para que a Câmara Federal, representando a sociedade brasileira, cumpra o seu papel, para que, no futuro, as nossas crianças e os nossos adolescentes de hoje tenham uma formação individual e social plena. (Palmas.) O SR. PRESIDENTE (Deputado Pastor Eurico) - Só à guisa de esclarecimento ao nobre convidado Dr. Ailton, a quem agradecemos por esta primeira exposição, quando aqui colocamos a questão dos lados, nós nos referimos à isonomia desta Comissão e, é claro, ao princípio do contraditório, que é defendido aqui desde a primeira reunião, para que não pairem dúvidas sobre se as pessoas que estavam vindo aqui como palestrantes só vinham defender um lado dessa discussão. Foi exatamente nessa linha que falamos. Dando sequência, passamos agora a palavra ao nobre Relator, que, como sempre, está presente, bem atento a tudo o que se fala, e sempre, de forma ponderada, tem feito suas colocações para enriquecer, com certeza, o relatório que será apresentado em breve. O SR. DEPUTADO FLAVINHO - Sr. Presidente, nobres Parlamentares que estão conosco nesta Comissão, debatedores de hoje, boa tarde! Quero reforçar aquilo que o nosso Presidente já colocou no início, quando indagado pelo meu querido amigo, Deputado Glauber, ou seja, o nosso esforço nesta Comissão para sempre termos esse equilíbrio nos posicionamentos dos debatedores que se dispõem a estar conosco. Já registrei o meu descontentamento de não poder ouvir os debatedores contrários, em outros momentos desta Comissão, quando declinaram de estar conosco. Gostaria muito de ouvi-los, inclusive o historiador citado pelo nobre Deputado Glauber, Sr. Leandro Karnal, que teve o nome aceito em requerimento nesta Comissão. Gostaria bastante de ouvir esses debatedores, porém, infelizmente, não tivemos a possibilidade, porque declinaram de estar aqui, ou por vontade, ou por impossibilidade de agenda. Especialmente nesta reunião, isso gerou um fato atípico. Acho que está bem claro para todos que a audiência de hoje é atípica, dentre todas as audiências que já tivemos aqui, em que pelo menos um debatedor contrário estava presente, seja de um lado ou de outro. Já foi mencionado por parte do Presidente, mas também reitero que, por parte deste Relator, há total imparcialidade na discussão e no acolhimento de todos os posicionamentos, sejam eles contrários ou favoráveis ao Projeto de Lei nº 867, de 2015, e a todos os outros apensados ao PL 7.180/14, objeto desta Comissão. Também faremos esse avanço no debate nos Estados, como Rio de Janeiro e Bahia. Hoje temos outro requerimento, se não me engano, para o Maranhão, que será votado posteriormente. Acho que isso está claro, mas é sempre bom enfatizar que estamos tentando, pelo menos dentro das nossas possibilidades humanas, dar voz a todos aqueles que, tendo seu nome aprovado por esta Comissão, querem debater e apresentar seu posicionamento. Quero agradecer aos nossos expositores de hoje, Dr. Fábio e Dr. Ailton. Algo que me chamou a atenção na fala do Dr. Fábio Aragão foi o que ele mencionou sobre o limite ético dos docentes. Ouvi algumas vezes aqui que parecia que os docentes tinham total autonomia e liberdade. Também isso me chamou a atenção na fala do Dr. Fábio Aragão. Tenho gostado de sempre fazer as mesmas perguntas a todos os debatedores que estão conosco, e são somente duas perguntas. A primeira é se o PL 867/15, especialmente, que traz a proposta de se afixar um cartaz com seis pontos específicos dos direitos dos alunos e deveres dos professores seria suficiente; se esse projeto de lei impõe, então, esses limites éticos aos docentes. Pergunto isso porque já foi inclusive aventada nesta Comissão a possibilidade de se criminalizar a ação dos docentes, no caso de não respeitarem tais limites. E não vejo nenhum problema em dizer que essa possibilidade foi aventada. Vi que os senhores estão muito bem fundamentados sobre os projetos que estão sendo debatidos nesta Comissão. Então, pergunto se esse projeto de lei por si só estabeleceria esses limites dos docentes, ou se nós teríamos que avançar na proposta. Como os senhores tratam diretamente das denúncias que chegam ao Ministério Público, acho que é pertinente essa pergunta. Outra questão, pontuada pelo Dr. Ailton, é algo que sempre procuro ter muito claro para mim, como homem público. Realmente somos cobrados, somos muitas vezes expostos de forma até brutal, porque somos pessoas públicas e estamos enquadrados no art. 37 da Constituição Federal, especialmente no que tange à impessoalidade. Levando isso para a temática que o senhor trabalhava a respeito do docente, o senhor dizia que a docência também é uma atividade sujeita a vários tipos de sanção. Faço, então, esta pergunta, que estendo aos dois expositores: partindo do princípio de que muitos docentes são usados como inocentes úteis, de acordo com essa teoria que o senhor nos traz na sua fala, não seria perigosa, então, a inflexibilização da liberdade de cátedra e da liberdade de expressão na sala de aula? Faço essa pergunta baseado, por exemplo, no que de certa forma está no projeto do Deputado Jean Wyllys, segundo o qual essa liberdade seria usada de forma ampla e irrestrita, respeitando-se o direito do professor, do docente, dentro da sala de aula. O seu posicionamento mostra uma visão contrária a essa flexibilização e a favor do enrijecimento do que seria a liberdade de cátedra e a liberdade de expressão. Dentro dos critérios apresentados pelo senhor, não seria perigosa, então, essa proposta de deixar tão aberta a possibilidade do uso da liberdade de cátedra e da liberdade de expressão? E a terceira pergunta é: se o PL 867/15, que institui o Programa Escola sem Partido, somente reverbera essas outras leis que os senhores pontuaram aqui - eu faço, agora, o papel de advogado do diabo -, qual seria, então, a pertinência e importância de outro projeto como esse? São essas as três perguntas que eu deixo aos senhores. Muito obrigado. O SR. PRESIDENTE (Deputado Pastor Eurico) - Como tem sido praxe nas nossas audiências, fazemos uma inversão na hora das respostas: os que primeiro falam são últimos a responder. Assim, para não alterarmos essa prática, passamos agora a palavra ao Dr. Ailton Benedito, e, na sequência, será a vez do Dr. Fábio Aragão. O SR. AILTON BENEDITO - Sr. Presidente, vou começar pela última pergunta. Na verdade, eu entendo que o projeto Escola sem Partido protege a liberdade de cátedra. É preciso fazer a seguinte distinção: liberdade de cátedra não se confunde com liberdade de expressão. Trata-se de categorias distintas. O professor, o agente público, no exercício de sua atividade, sofre toda sorte de contingências que não repercutem, na esfera privada, na sua liberdade de expressão. Por exemplo, o professor, na escola, na sala de aula, está submetido à liberdade de cátedra, que tem uma contraparte. Dentro da liberdade de cátedra, há os deveres do professor e os deveres do aluno, assim como há os direitos do professor e os direitos do aluno. Liberdade de cátedra não é titularidade exclusiva do professor: há uma cotitularidade de alunos e professores. Quando nós fazemos a distinção entre liberdade de expressão e liberdade de cátedra é exatamente no sentido de que, dentro da sala de aula, não há liberdade de expressão, há liberdade de cátedra. O professor, ao exercer o seu mister, ao transmitir os seus conhecimentos no exercício da sua atividade, tem ampla liberdade para expor, de acordo com o projeto pedagógico da escola, de acordo com o plano de trabalho, de acordo com o currículo, com a base curricular, conforme estas balizas. Como o colega Dr. Fábio mencionou, o professor, por exemplo, de música que deixa de ensinar música durante uma hora do que seria a sua aula para falar sobre a situação do Congresso Nacional ou para, entre aspas, usar toda sorte de ataques ao Congresso Nacional, ele na verdade não está exercendo liberdade de cátedra alguma: ele está abusando da sua condição de professor. Ele está se valendo do lugar em que deveria exercer a liberdade de cátedra e transmitir saberes e conhecimentos para exercer aquilo que é próprio da sua liberdade de expressão como cidadão, fora da escola. Quando eu digo que o projeto Escola sem Partido protege a liberdade de cátedra é porque, nesse sentido, impede - impedirá, se aprovado - que o professor sofra pressões externas, por exemplo, de partidos políticos, de suas agremiações, de interesses partidários dentro do sistema de ensino. Nesse sentido, há a possibilidade de que - assim enxergo - o projeto preserve a liberdade de exercício da atividade docente pelo professor. O Sr. Relator questionou se já existem no ordenamento jurídico injunções a que se pode submeter o professor e se, com isso, haveria uma sobreposição, no caso de aprovação do projeto. Acontece que as categorias da Constituição, da Convenção Americana sobre Direitos Humanos, do Código Civil e do Estatuto da Criança e do Adolescente são muito abrangentes, muito genéricas. O projeto Escola sem Partido, nos termos postos e discutidos, tipifica condutas bastante específicas, condutas sobre as quais o professor terá clareza para decidir praticá-las ou não. E, evidentemente, haverá a possibilidade de, se sancionado, eventualmente se tipificar a prática daquelas condutas. Finalmente, o Relator menciona os limites éticos. Nesse caso, eu prefiro falar de condutas tipificadas no projeto, condutas que são claras, objetivamente tipificadas, sobre as quais estudantes, familiares, professores, diretores de escola terão clareza para praticar ou não, sob o risco de eventualmente praticarem uma conduta sujeita a sanções dentro do ordenamento jurídico. O SR. PRESIDENTE (Deputado Pastor Eurico) - Com a aquiescência dos nobres oradores e também dos nobres Deputados, eu gostaria de propor uma pequena pausa para aprovarmos um requerimento que está em pauta. Trata-se de um procedimento muito rápido. O SR. DEPUTADO IZALCI LUCAS - Sr. Presidente, peço a palavra, pela ordem. Quero subscrever esse requerimento do Deputado Hildo Rocha. Houve um probleminha aqui e, portanto, também quero subscrevê-lo. O SR. PRESIDENTE (Deputado Pastor Eurico) - Passamos à apreciação do requerimento. Item 1. Requerimento nº 25, de 2017, do Deputado Hildo Rocha, que requer a realização de seminário na cidade de São Luís, Estado do Maranhão, com a finalidade de discutir o Projeto de Lei nº 7.180, de 2014, que altera o art. 3º da Lei nº 9.394, de 20 de dezembro de 1996. O requerimento foi subscrito pelo Deputado Izalci Lucas. Indago se algum Deputado deseja encaminhar. O SR. DEPUTADO IZALCI LUCAS - Sr. Presidente, quero apenas pedir o apoio dos pares, para que possamos também debater essa importante matéria no Estado do Maranhão. O SR. PRESIDENTE (Deputado Pastor Eurico) - O.k. Em votação o requerimento. Os Srs. Deputados e Sras. Deputadas que o desejam aprovar permaneçam como estão. (Pausa.) Aprovado. Tendo em vista que a ata da 11ª Reunião Ordinária foi disponibilizada antecipadamente na página da Comissão e que se encontram cópias sobre as bancadas desde a abertura do painel, pergunto se há alguma retificação a fazer. (Pausa.) Não havendo retificação a fazer, coloco-a em votação. Aqueles que aprovam a ata permaneçam como se acham. (Pausa.) Aprovada. Voltando às respostas aos questionamentos do Relator, passamos a palavra ao nobre convidado, Dr. Fábio Aragão. Informo que V.Sa. terá 3 minutos, com tolerância de mais 2 minutos, tal como concedemos ao orador que o antecedeu. Antes, porém, o Relator gostaria de fazer uma observação. O SR. DEPUTADO FLAVINHO - Quero apenas fazer uma pequena correção nas perguntas que fiz. Quanto à primeira, o PL que trata da proposta Escola sem Partido impõe limites éticos aos docentes. Quanto à segunda, desculpe-me, mas fiz uma correção agora. Partindo do princípio de que muitos docentes são utilizados como inocentes úteis - partindo daquilo que o Procurador trazia como opinião -, não seria perigoso então a flexibilização da liberdade de cátedra e a liberdade de expressão na sala de aula? Eu quis dizer flexibilização, mas disse inflexibilização - desculpe-me. E continuo: se o PL 867/15, que trata da Escola sem Partido, somente reverbera outras leis, qual seria, então, a pertinência e a importância de um projeto como esse ser aprovado nesta Casa? Obrigado. O SR. FÁBIO ARAGÃO - Bem, primeiramente, a questão dos limites éticos da atividade de docência deve ser fixada. Para isso, o Projeto de Lei nº 867, de 2015, estabelece um anexo dizendo quais são os deveres dos professores. Então, creio que esse anexo já dá maior concretude e objetividade acerca do que o professor pode ou não fazer. Então, creio que o anexo é satisfatório, pois estabelece com precisão e objetividade quais são esses deveres e limites. Percebo que V.Exa. teve a preocupação de haver uma zona cinzenta ou de não haver a definição do que o professor pode ou não; e daí o professor também não poderia ficar com uma espada pairando sobre sua cabeça, sem saber o que é lícito e o que não é ilícito. Mas, na medida em que o anexo estabelece precisamente quais são os deveres do professor, obviamente ele terá plena consciência daquilo que é lícito e do que é ilícito. Então, isso resolveria a questão dos limites éticos. Quanto ao segundo questionamento, refiro-me ao que falou o colega Ailton, quando disse que alguns professores poderiam não ter plena consciência de que estariam praticando atos ilícitos, eles não teriam consciência plena de que estariam doutrinando. Ora, hoje existem professores que têm consciência, e ele sustentou que alguns não a tem. Mas é aí que vem a relevância da aprovação do projeto de lei, pois este, ao preconizar quais são os deveres dos professores - e os cartazes serão afixados em sala de aula -, todos eles, ao entrar na sala de aula, vão ler o cartaz e estarão plenamente cientes de quais são os seus deveres. Então, não haveria mais a possibilidade de um professor alegar que desconhece, ou que estaria doutrinando sem ter a plena consciência disso. Então, o projeto de lei vai estabelecer isso. E daí, conforme estabelece o Código Civil, ninguém pode se escusar de cumprir a lei alegando que não a conhece. Mas o próprio cartaz vai indicar. E vejam que o professor todos os dias vai dar aula e, dali a pouco, vai decorar quais são os seus deveres, porque todos os dias ele ficará lendo aquilo como se fosse um mantra pedagógico. Portanto, ele já vai saber quais são os seus deveres. A terceira questão refere-se ao fato de que o projeto Escola sem Partido apenas iria reverberar outras leis. Sim, eu já disse que, independentemente da aprovação ou rejeição do projeto de lei, já existem preceitos constitucionais e normas legais que proíbem a doutrinação política e ideológica, assim também as atividades estatais que venham vilipendiar as convicções religiosas e morais dos pais na educação dos filhos. Porém, a maioria dessas normas existentes, como citei, são princípios constitucionais, e os princípios são muito vagos, abstratos. Então, usando a expressão do colega Ailton, esse projeto de lei vem tipificar quais são as condutas proibidas. Uma coisa é a Constituição dizer que o professor deve respeitar o princípio da moralidade administrativa. Agora, o que é a moralidade administrativa dentro da sala de aula? E aí o projeto de lei vem e especifica. A Constituição preconiza: o professor deve observar o princípio da impessoalidade, art. 37, caput; agora, o que é respeitar esse princípio? O projeto de lei vem e define. Então, a importância desse projeto de lei é dar até maior segurança jurídica para os alunos e também para os professores, pois eles estarão plenamente cientes do que podem ou não fazer, do que é lícito e do que ilícito dentro da sala de aula. O SR. PRESIDENTE (Deputado Pastor Eurico) - Muito obrigado. Agradecemos aos nobres convidados as respostas dadas. Agora, dando sequência, vamos dar oportunidade aos ilustres Deputados inscritos aqui para fazerem suas colocações, antecipando que o prazo é de 3 minutos, como de praxe, mas com tolerância. Iniciando, concedo a palavra ao Líder do PSOL, o nobre Deputado Glauber Braga, do Rio de Janeiro. O SR. DEPUTADO GLAUBER BRAGA - Poxa vida, Presidente, eu tinha tanta coisa para falar, mas, como o Procurador Fábio Aragão fez aqui uma acusação, vou ter de me ater aos fatos. Dos membros do Sindicato do Pedro II, no Rio de Janeiro, em torno de 17 membros, um único tem filiação partidária ao PSOL. Trata-se de um sindicato plural, com as mais variadas forças em sua composição. O que o Procurador coloca como acusação é uma ficção jurídica, qual seja a de que o referido núcleo estaria sendo articulado pelo sindicato no Colégio Pedro II. E essa ficção baseia-se em um conjunto de inverdades, de mentiras. E digo isso porque o senhor utilizou no procedimento uma foto do Prof. Tarcísio, que hoje é Vereador pelo PSOL na cidade do Rio de Janeiro, com um adesivo no peito, quando o Prof. Tarcísio tirou aquela foto fora do espaço escolar. Naquele dia ele estava, inclusive, na Ordem dos Advogados do Brasil, na OAB. Além disso, o senhor disse que ele utilizou o espaço escolar para fazer campanha própria e a campanha de Marcelo Freixo no Rio de Janeiro, não percebendo, eu imagino, que a legislação escolar inclusive exigia que ele, como candidato a Vereador que era, não estivesse presente no espaço escolar, exatamente porque estava afastado das suas tarefas e funções, para a defesa da sua candidatura. E as reuniões foram realizadas, tal como permite o Estado Democrático de Direito, fora do espaço escolar. E o senhor, Procurador, não tem nenhuma autoridade para determinar que reuniões não possam ser realizadas fora do espaço escolar. (Manifestação e apupos na plateia.) As manifestações de carinho não me afetam. O senhor não sabe, mas teve a oportunidade de colocar no procedimento que existe uma aliança entre a Reitoria do Pedro II e o Prof. Tarcísio. Acho que o senhor desconhece ou finge desconhecer que, inclusive, o próprio Prof. Tarcísio disputou a eleição dentro do Colégio Pedro II contra o atual reitor. Imagino que o senhor não sabe disso ou fingiu não saber. O senhor tem uma ação e atuação nas redes sociais - essa, sim - de proselitismo e de defesas e repercussão de matérias da família Bolsonaro. Isso tem que ficar claro. O senhor faz isso em páginas que tem sua participação nas redes sociais. Então, não venha trazer para cá um discurso de neutralidade quando o senhor, no exercício de suas atividades públicas, não a desempenha. (Palmas.) E, como está terminando o meu tempo, se alguém comete abuso de poder, esse alguém é o senhor no exercício das suas tarefas... (O microfone é desligado.) (Apupos na plateia.) (Manifestação na plateia: Nas redes sociais.) O SR. PRESIDENTE (Deputado Pastor Eurico) - Peço que conclua, nobre Deputado. Pode concluir, Deputado, por favor. O SR. DEPUTADO GLAUBER BRAGA - ...no exercício, Procurador, das suas tarefas e funções. Olha, aquilo de que o senhor acusa o PSOL, o Prof. Tarcísio e outros professores de terem realizado no Colégio Pedro II não aconteceu. Mas eu faço questão - para o senhor avaliar se, a partir disso, haverá motivo para me processar, se quiser, pois aí terá oportunidade de fazê-lo - de colocar no meu gabinete, e quero ver a autoridade que o senhor tem para retirar o que vou colocar lá, os seguintes dizeres: Fábio Aragão, mentiroso e farsante, porque é isso que senhor é. (Apupos na plateia.) O SR. PRESIDENTE (Deputado Sóstenes Cavalcante) - Nós iríamos passar a palavra a outros oradores, mas, como existiu aqui uma fala direta do Deputado, acho justo... O SR. DEPUTADO GLAUBER BRAGA - Não. Ele fez mesmo com o PSOL. Eu esperei meu tempo para poder respondê-lo. Eu esperei o meu tempo. O SR. PRESIDENTE (Deputado Pastor Eurico) - Eu acho justo... O SR. DEPUTADO EDUARDO BOLSONARO - Não. Você não exigiu. O SR. PRESIDENTE (Deputado Pastor Eurico) - Eu acho justo que o convidado tenha direito a resposta. O SR. DEPUTADO GLAUBER BRAGA - Eu esperei o meu tempo. Ele fez uma acusação ao PSOL. O SR. DEPUTADO EDUARDO BOLSONARO - Mas não acusou o Glauber de nada. O SR. PRESIDENTE (Deputado Pastor Eurico) - Acho justo. O convidado terá direito à resposta. O SR. DEPUTADO EDUARDO BOLSONARO - Certo, Presidente. (Intervenções simultâneas ininteligíveis.) (Não identificado) - Sr. Presidente, aqui estamos debatendo, e eu acho de bom alvitre permitir ao convidado que faça sua réplica. O SR. PRESIDENTE (Deputado Sóstenes Cavalcante) - Eu sou o Presidente. Eu estou presidindo neste momento. V.Sa. tem a palavra para... O SR. DEPUTADO GLAUBER BRAGA - Eu fiquei esperando por uma hora. O senhor não estava aqui! Eu esperei por uma hora ele falar. (Intervenções simultâneas ininteligíveis.) O SR. PRESIDENTE (Deputado Sóstenes Cavalcante) - Não é praxe nesta Casa alguém fazer uma acusação, e a pessoa acusada não ter o direito à réplica. (Palmas.) Por favor... O SR. FÁBIO ARAGÃO - Boa tarde. O SR. DEPUTADO GLAUBER BRAGA - Ele fez uma acusação, e eu esperei. Eu esperei por uma hora para poder responder, por uma hora! Esperei por uma hora entre os demais convidados. O SR. PRESIDENTE (Deputado Sóstenes Cavalcante) - Pode falar. O SR. FÁBIO ARAGÃO - Boa tarde. Primeiramente, eu gostaria de frisar que eu tenho 13 anos de Ministério Público Federal e tenho percebido o seguinte: sempre que o Ministério Público Federal propõe ações penais ou ações de improbidade administrativa, obviamente os réus alegam perseguição. Sempre. Isso é praxe. Isso estava acontecendo até na Lava- Jato (palmas), quando diziam que o Ministério Público estava a serviço da Direita e nunca iria tocar em Eduardo Cunha. Você ouvia isso. E agora nós sabemos que o Eduardo Cunha foi condenado. No meu histórico eu ajuizei... No meu histórico funcional... O SR. DEPUTADO GLAUBER BRAGA - O senhor faz um jogo... O SR. DEPUTADO EDUARDO BOLSONARO - Sr. Presidente, garanta a palavra ao orador. Presidente, eu não vim aqui para ficar ouvindo o Deputado. O SR. PRESIDENTE (Deputado Pastor Eurico) - Está garantida a palavra. Não há som. Pode responder. O SR. FÁBIO ARAGÃO - Na minha atuação funcional eu já ajuizei ações de improbidade e até ações penais contra membros de diversos partidos. Na verdade, o PSOL foi último, porque isso aconteceu recentemente. O SR. DEPUTADO GLAUBER BRAGA - (Ininteligível) da família Bolsonaro na sua página? O SR. DEPUTADO EDUARDO BOLSONARO - (Ininteligível) não faz besteira não! (Intervenções simultâneas ininteligíveis.) O SR. FÁBIO ARAGÃO - Deixem-me falar. Deixem-me concluir. Então, na verdade, ao longo da minha história funcional eu já movi ações contra diversos partidos. O SR. DEPUTADO GLAUBER BRAGA - Publicou coisas da família Bolsonaro na sua página ou não publicou? É uma pergunta. O SR. FÁBIO ARAGÃO - Eu posso concluir? O SR. DEPUTADO GLAUBER BRAGA - Responda! O SR. PRESIDENTE (Deputado Sóstenes Cavalcante) - Você já fez essa pergunta. (Não identificado) - Presidente, tem como cortar o som? Ele tem que respeitar o... O SR. PRESIDENTE (Deputado Sóstenes Cavalcante) - Já está cortado o microfone. Ele pode falar. O SR. FÁBIO ARAGÃO - Então, nobre Deputado, vou responder, mas vou fazer só essa breve introdução: movi ações contra todos os partidos. Nesse caso, foi contra a fundação de um núcleo do PSOL dentro do Colégio Pedro II. Caso exista um núcleo de outro partido lá, o senhor poderá comparecer ao meu gabinete e trazer as provas. (Palmas.) Caso o senhor ache... O SR. DEPUTADO GLAUBER BRAGA - Publicou na sua página ou não publicou coisas relacionadas à família Bolsonaro? É essa a pergunta. Vai fugir da resposta? O SR. PRESIDENTE (Deputado Pastor Eurico) - Responda, por favor. O SR. FÁBIO ARAGÃO - Eu vou responder. Um: sinceramente, não me recordo, porque que eu não... O SR. DEPUTADO GLAUBER BRAGA - Ah! Não se recorda! Não se recorda. A quem o senhor quer enganar? A quem o senhor quer enganar? Ora, ora... O SR. DEPUTADO EDUARDO BOLSONARO - Presidente, eu quero ouvir o... O SR. FÁBIO ARAGÃO - Um: não me recordo. Dois: ainda que eu compartilhasse alguma notícia, eu teria que ver a notícia, poderia ser uma notícia sobre vários fatos... O SR. DEPUTADO GLAUBER BRAGA - Não se recorda. O SR. FÁBIO ARAGÃO - ...ainda assim, eu o estaria fazendo na condição de cidadão... O SR. DEPUTADO GLAUBER BRAGA - O senhor faz proselitismo de extrema direita. É isso que o senhor faz. É isso que o senhor faz! O SR. FÁBIO ARAGÃO - ...tal como eu falei aqui que os professores... Eu falei aqui, e está gravado, que os professores podem... O SR. DEPUTADO GLAUBER BRAGA - Está com amnésia. Não se recorda. Está com amnésia? O SR. FÁBIO ARAGÃO - Eles podem ter opinião política, só que eles não podem usar o espaço público. Se compartilhei alguma coisa de algum partido político no passado, o que eu não me recordo... O SR. DEPUTADO GLAUBER BRAGA - A conversa já está mudando, não é? Já está mudando a conversa. O SR. DEPUTADO EDUARDO BOLSONARO - (Ininteligível) a conversa dele, é? O SR. DEPUTADO GLAUBER BRAGA - A conversa já está mudando. O SR. FÁBIO ARAGÃO - Para concluir minha fala, que está sendo interrompida por V.Exa., quero dizer que no crime de estupro, a palavra da vítima é essencial. No caso do Colégio Pedro II, todas as provas dos autos foram pais de alunos que trouxeram ao Ministério Público. As provas não foram tiradas da cartola. Foram os pais que fizeram vídeos, tiraram fotos e prestaram depoimento sob o compromisso de dizer a verdade. Caso eles prestem falso testemunho, eles podem ser acionados por crime de falso testemunho. O SR. DEPUTADO GLAUBER BRAGA - O senhor também pode ser acionado pelo tipo de trabalho que está fazendo, que é de perseguição política. Extremista! O SR. FÁBIO ARAGÃO - Então, na verdade, toda prova coligida aos autos foi fruto disso. E o Ministério Público Federal agiu de forma imparcial, como sempre tem agido. O SR. DEPUTADO GLAUBER BRAGA - Mentira! Mentira! Farsante! O senhor é um farsante, isso é mentira! O SR. FÁBIO ARAGÃO - E dou como exemplo a própria Operação Lava-Jato, em que há membros da Direita e há membros da Esquerda envolvidos. Muito obrigado. O SR. DEPUTADO GLAUBER BRAGA - Mentira! Farsante! O SR. PRESIDENTE (Deputado Sóstenes Cavalcante) - Agradeço ao nobre orador. O próximo orador inscrito é o Deputado Bacelar, que tem o tempo regimental. O SR. DEPUTADO BACELAR - Sr. Presidente, Sr. Relator, Sras. e Srs. Deputados, senhores expositores, a minha primeira indagação aos dois ilustres expositores é se eles têm conhecimento da nota técnica da Procuradoria Federal dos Direitos do Cidadão que demonstra que a iniciativa legislativa aqui em questão nasce eivada de inconstitucionalidade. Essa nota técnica da Procuradoria Federal dos Direitos do Cidadão foi encaminhada ao Conselho Nacional dos Procuradores-Gerais de Justiça, ao Conselho Nacional do Ministério Público, enfim, às diversas instituições do Ministério Público. Diz textualmente a nota técnica que o PL subverte a atual ordem constitucional por inúmeras razões: primeiro, confunde a educação escolar com aquela que é fornecida pelos pais, e, com isso, os espaços público e privado; além disso, impede o pluralismo de ideias e de concepções pedagógicas (art. 206, inciso III, da Constituição Federal); nega a liberdade de cátedra (art. 206, inciso II, da Constituição Federal); e contraria o princípio da laicidade do Estado, porque permite, no âmbito da escola - espaço público, na concepção constitucional - a prevalência de visões morais e religiosas particulares. Essa é uma nota técnica da Procuradoria Federal dos Direitos do Cidadão. Além disso, eu queria perguntar se é do conhecimento dos ilustres expositores que partido político e que organização da sociedade civil defende escola com partido. Em que programa partidário está a defesa da escola com partido? Há abusos, sim. Há abusos de todas as vertentes. Há abusos de todas as vertentes, mas, Srs. Procuradores, são fatos isolados. (Manifestação na plateia.) (O Sr. Presidente faz soarem as campainhas.) O SR. DEPUTADO BACELAR - O exemplo do professor de música do Colégio Pedro II deveria ter sido resolvido dentro do próprio colégio. Não é a lei que vai resolver isso. É dentro do conselho escolar, é indo conversar com o diretor, é indo conversar com os coordenadores pedagógicos que se resolve. Não é um agente externo que vai influir na pedagogia da escola. Para finalizar a minha intervenção, faço duas observações. Primeiro, Dr. Ailton, a ocupação das escolas foi um dos atos de protagonismo mais positivos da juventude brasileira. (Apupos na plateia.) Foi isso que impediu que as escolas do Estado de Goiás fossem entregues à iniciativa privada, como queria o Governador do Estado de Goiás. Foi a ocupação das escolas em São Paulo que desnudou para o Brasil as condições da merenda escolar no Estado mais rico do Brasil. Se não tivesse havido essas ocupações, essas situações estariam efetivadas. Finalmente, nós, no respeito da laicidade do Estado, não podemos permitir mantra em escola, porque é um hino do hinduísmo. Eu gostaria de fazer essa reparação à sua... (Riso.) Obrigado, Presidente. O SR. PRESIDENTE (Deputado Pastor Eurico) - Agradecemos ao nobre Deputado Bacelar, sempre presente nesta Comissão, fazendo suas colocações dignas de serem respondidas. Dando sequência, passamos a oportunidade de se pronunciar ao nobre representante do PSDB do Distrito Federal, o Deputado Izalci. S.Exa. tem 3 minutos, e ainda a mesma tolerância que foi dada aos demais. O SR. DEPUTADO IZALCI LUCAS - Primeiro, eu gostaria de pedir a V.Exa. que retirasse das notas taquigráficas essas acusações e falas que foram feitas aqui, que realmente... O SR. DEPUTADO GLAUBER BRAGA - Então, tire as acusações ao PSOL também. Se não tirar as acusações ao PSOL, eu não retiro as minhas. O SR. DEPUTADO IZALCI LUCAS - Sr. Presidente, eu preciso que V.Exa., como Presidente da Comissão, garanta a palavra pelo menos ao Parlamentar. Quando eu terminar de falar, V.Exa. pode dar espaço para outros falarem. (Palmas.) O SR. PRESIDENTE (Deputado Pastor Eurico) - A palavra está garantida a V.Exa. O SR. DEPUTADO IZALCI LUCAS - Não se pode interromper toda hora as falas. Então, garanta a minha fala, por favor. Quero reforçar o pedido que fiz a V.Exa. Eu nunca participei de audiência pública de uma Comissão - é a primeira vez - em que um Parlamentar desrespeita de forma tão contundente... O SR. DEPUTADO GLAUBER BRAGA - V.Exa. chegou atrasado. O SR. DEPUTADO IZALCI LUCAS - Não, eu estava aqui desde o início. Mas eu não vou discutir com V.Exa. Sr. Presidente, eu quero pedir a V.Exa. que garanta a minha fala e que retire as acusações. Se vai retirar ou não, cabe a V.Exa. decidir. Sr. Procurador, eu quero, inclusive em nome do meu partido, pedir desculpas a V.Sa., que tem todo direito de expressar sua opinião aqui. Quero também parabenizá-lo pela iniciativa. Eu tive o privilégio de assinar esse projeto de lei, porque é patente, é notório, é óbvio que o PT e os seus puxadinhos todos dominaram a educação no País. (Palmas.) Esses sindicatos, de forma irresponsável e inconsequente, espalharam em todo o País cartazes acusando Parlamentares, sem o projeto ter sequer sido votado. Está aí o resultado da Previdência. Eles agem como se fossem donos das escolas. Aqui em Brasília eles fazem campanha, sim, há anos e anos. Entram nas escolas com camisetas, com button, e fazem campanha nas escolas. Quem não defende a escola sem partido defende a escola com partido, só que não é qualquer partido, tem que ser o partido deles, como foi dito aqui anteriormente. (Palmas.) Aproveito a presença do meu amigo Deputado Bacelar, que fez um apelo há pouco em relação a um projeto que está sob sua relatoria, que cria a Lei de Responsabilidade Educacional, para sugerir que se apense esse projeto ao da Escola sem Partido. Não se pode criar a Lei de Responsabilidade Educacional atribuindo a responsabilidade apenas a alguns. Nós precisamos fazer com que todos possam exercer a responsabilidade. Sinceramente, eu ainda não tinha visto nenhuma defesa do projeto, como as feitas aqui. É verdade tudo o que vocês falaram aqui. Há um abuso, sim. Eu dei aula a vida toda, mas chegamos a um estado em que essa ação sindical e de partidos radicais tem interferido, sim, na educação. Eu fui Presidente da Comissão da Reforma do Ensino Médio, que discutiu o projeto que, talvez, tenha sido o mais importante votado nesta Casa nos últimos anos. Tal projeto foi motivo de debate na Comissão da Educação durante anos, e depois, só porque o Governo mudou, alguns ficaram contra as propostas. Tudo que estava no projeto foi tirado de quase 10 anos das discussões que ocorreram aqui. A ocupação foi profissional. Aqui em Brasília, eu fui ver as escolas ocupadas em Taguatinga e fiz gravações. A maioria dos estudantes não era das escolas, era da Universidade de Brasília e filiados partidários do PT e seus puxadinhos. (Palmas nas galerias.) Eu lamento não ouvir aqui o contraponto. Eu vim aqui também para ouvir os argumentos contrários. Quero parabenizar os Procuradores, que se expressaram de forma muito clara e deixaram a Comissão muito à vontade. Eu até pediria que o Relator nos informasse se já existe uma data para votar esse projeto, porque já fizemos diversas audiências públicas. Era isso que eu queria pedir a V.Exa. O SR. PRESIDENTE (Deputado Pastor Eurico) - Deputado Izalci, iremos analisar seu pedido, haja vista que eu não estava aqui, para depois decidir. Em sequência, passaremos a oportunidade de se pronunciar ao nobre Deputado Alan Rick, do PRB do Acre, que tem 3 minutos mais a tolerância de 2 minutos, como os outros oradores tiveram. O SR. DEPUTADO ALAN RICK - Sr. Presidente Deputado Pastor Eurico, Relator Deputado Flavinho, eu venho em primeiro lugar cumprimentar V.Exas. e os Procuradores Dr. Ailton Benedito e Dr. Fábio Aragão pelas brilhantes explanações nesta tarde. Senhores, eu creio que o Programa Escola sem Partido e o projeto de lei ao qual estão apensados os projetos que estamos debatendo nesta Comissão já extrapolaram as paredes desta Comissão da Câmara. A população brasileira, o pai e a mãe que, por não terem condições financeiras, não conseguem colocar seu filho em uma escola confessional, numa escola militar ou num colégio particular do qual eles conheçam o sistema pedagógico, são obrigados por lei a colocar seu filho na sala de aula. Nessa sala de aula há uma autoridade: o professor. Eu sou de um tempo em que o professor era a autoridade absoluta. Nós lhe devíamos total e absoluto respeito, porque assim éramos ensinados na nossa casa. Jean-Jacques Rousseau, quando escreveu O Contrato Social, disse que a família não está nesse contrato, porque ela é um dado da sociedade. E assim eu aprendi. A família é a nossa polis em miniatura, como escreveu Platão em A República. Então, o que eu gostaria de deixar claro aqui é o seguinte: o cidadão de bem, o pai e a mãe, que almeja dar a seus filhos a educação plural, como preconiza o art. 2º, inciso II, do próprio projeto, deseja que o professor ensine a eles aquilo que se espera da escola, que ensine Português, Matemática, História, etc., mas que não use da sala de aula para abusar da audiência cativa de crianças e adolescentes para proferir e legitimar a sua ideologia político-partidária. O Escola sem Partido é necessário para o Brasil, é necessário para coibir os abusos, para coibir o uso ostensivo da sala de aula como instrumento político-partidário, como nós temos visto. E já ficou provado aqui, Dr. Miguel Nagib, diversas e diversas vezes, o uso promíscuo da liberdade de cátedra. Aqui há uma dicotomia do direito: confunde-se a liberdade de cátedra com a liberdade de expressão - corrijam-me os nobres procuradores. Há uma confusão aqui na cabeça de alguns. O professor tem liberdade de ensinar, tem liberdade de cátedra. Fora da sala de aula, ele pode se expressar no Facebook, fazer parte do que quiser. Mas, dentro dela, ele deve obedecer à lei, deve respeitar a vulnerabilidade do aluno, deve respeitar os pais. (Palmas.) É o que diz o art. 12, inciso IV, da Convenção Americana sobre Direitos Humanos - Pacto de São José da Costa Rica, da qual o Brasil é signatário: Art. 12..................................................................... IV - os pais (...) têm direito a que seus filhos e pupilos recebam a educação religiosa e moral que esteja de acordo com as suas próprias convicções. O debate aqui está praticamente esgotado, já ouvimos de tudo. Com todo respeito que eu tenho pelo Deputado Glauber, que é um brilhante Parlamentar, eu digo: nós precisamos dar um basta à utilização ostensiva - e eu diria mais - e promíscua da sala de aula para doutrinar crianças e adolescentes para esta ou aquela corrente política. Longa vida ao Escola sem Partido! (Palmas.) Muito obrigado, Sr. Presidente. O SR. PRESIDENTE (Deputado Pastor Eurico) - Muito obrigado, Deputado Alan Rick. Dando sequência aos trabalhos, vamos ouvir agora o nobre Deputado do DEM do Rio de Janeiro. O SR. DEPUTADO GLAUBER BRAGA - Sr. Presidente, eu só queria fazer uma observação. Eu queria participar de todas as explanações, mas começou a Ordem do Dia no Plenário da Casa. Não vai ser interrompida a fala dos convidados e dos outros Parlamentares? O SR. PRESIDENTE (Deputado Pastor Eurico) - Não, não vai. O SR. DEPUTADO GLAUBER BRAGA - Mas foi iniciada a Ordem do Dia e está sendo votada lá projeto de urgência. Eu queria saber se há possibilidade de fazermos um intervalo, para irmos até lá. O SR. PRESIDENTE (Deputado Pastor Eurico) - Só há dois Deputados inscritos. Um deles é o Deputado Sóstenes Cavalcante, que tem boa síntese. Com a palavra o Deputado Lincoln Portela. O SR. DEPUTADO LINCOLN PORTELA - É só para descontrair um pouco. Deputado Glauber, se V.Exa. sair, nós vamos falar mal de você. (Risos.) Não saia! O SR. PRESIDENTE (Deputado Pastor Eurico) - S.Exa. não merece isso. Com a palavra o Deputado Sóstenes Cavalcante, que é exímio na síntese. O SR. DEPUTADO SÓSTENES CAVALCANTE - Sr. Presidente, hoje eu vou fazer uma leitura de uma carta dos pais dos alunos do Colégio Pedro II. Se possível, gostaria que fosse acrescentado o tempo de Líder, para que possa concluir aqui o que me foi pedido pelos pais dos alunos daquela instituição. O SR. PRESIDENTE (Deputado Pastor Eurico) - Nobre Deputado, eu informo a V.Exa. que nós temos de cumprir rigorosamente o Regimento. Não sei se V.Exa. tem autorização da Liderança. O SR. DEPUTADO SÓSTENES CAVALCANTE - Sr. Presidente, eu me esqueci de solicitar com antecedência. Se não chegar até eu terminar os meus 3 minutos pode cortar minha fala, sem problema. O SR. PRESIDENTE (Deputado Pastor Eurico) - Eu só queria que V.Exa. entendesse que assim como o direito de um deve ser o de todos. O SR. DEPUTADO SÓSTENES CAVALCANTE - Sr. Presidente, inicialmente, lamento a ausência do contraditório nesta oportunidade. Essa ausência já não me espanta. Na última audiência, apesar de contar com a presença de duas pessoas contrárias e duas favoráveis ao projeto, eu fiz a mesma pergunta aos quatro convidados. As duas pessoas contrárias ao projeto não me responderam, sabe por quê? Porque vieram a uma audiência pública, custeada pelo Estado, e sequer leram o texto do projeto. A pergunta era simples, mas eles não sabiam responder, porque vieram a esta audiência pública só para criticar, sem conhecer o texto que estamos debatendo. Essa é a velha tática da extrema Esquerda, pela qual tenho respeito. Existem boas pessoas na Esquerda, com pensamentos equilibrados e bom debate, mas a extrema Esquerda sempre se comporta dessa forma. Eu parabenizo os Procuradores. Não pude chegar antes porque tinha compromisso no Estado, mas tenho convicção do que digo, até porque conheci nessa trajetória o Procurador Fábio Aragão, que, assim como eu, foi procurado por pais de alunos desesperados, em um momento de muito difícil no Colégio Pedro II. Eu o acompanhei numa audiência, quando o conheci pessoalmente. Quero aqui render minha homenagem pela sua solidariedade não só aos pais, mas, em especial, às crianças menores, que são vulneráveis, sim, a esse tipo de doutrinação que anda acontecendo na escola. Quero deixar registrada uma pergunta, antes de eu ler parte da carta dos pais. Eu obtive informações que na UFF, Universidade Federal Fluminense, houve um episódio parecido: um sindicato ocupava um espaço e há muito tempo não pagava aluguel, porque outra praxe é também não pagar aluguel! Gostaria de saber se o sindicato que ocupa espaço no Colégio Pedro II está pagando ou não o aluguel, e se está pagando o preço devido, correspondente ao aplicado no mercado imobiliário do Rio de Janeiro, ou valor inferior, se é que está pagando. Isso não ficou claro quando eu li a peça, e eu gostaria de saber. Esta é a pergunta que deixo a V.Sa. nesta audiência pública. Chegou a autorização, Sr. Presidente? Posso usar o tempo destinado à Liderança? O SR. PRESIDENTE (Deputado Pastor Eurico) - Nobre Deputado, com a aquiescência de V.Exa., como aqui primamos pelo correto, eu queria que entendesse que eu só poderia lhe dar a oportunidade de falar pelo tempo de Liderança se estivesse com a carta em mãos. Por isso fiz aquela colocação. V.Exa. tem 5 minutos, que, segundo as normas, devem ser improrrogáveis. O SR. DEPUTADO SÓSTENES CAVALCANTE - Obrigado, Sr. Presidente, acho que 5 minutos serão suficientes para, nesta hora, com muita alegria, ser a voz desta Carta Aberta dos Pais dos Alunos do Colégio Pedro II à comunidade escolar e a toda a sociedade brasileira acerca das motivações das denúncias ao Ministério Público Federal e das ofensas, intimidações e manipulações do Reitor Oscar Halac. A carta diz o seguinte: Desvendando o que há por trás de tantas ofensas, intimidações e manipulações por parte do Senhor Reitor Oscar Halac, através de Carta Aberta (13/03/2017) e Nota Pública nº 002 (20/03/2017), e manifestando a preocupação em explicar à sociedade, que valoriza a família e uma educação de qualidade, nós, pais e responsáveis de alunos do Colégio Pedro II, viemos, por meio desta Carta Aberta, explicitar a verdadeira motivação das denúncias no Ministério Público Federal. Tais ações não partiram de nenhuma intriga ou inimizade com qualquer servidor do Colégio Pedro II, pois nossa ação não é contra o colégio. Eu passarei um pouco mais adiante. Em razão do tempo, eu vou ler parte dos parágrafos. Passo então ao segundo parágrafo, que diz o seguinte, da metade para frente: Portanto, apontaremos somente algumas pertinentes, como: a manipulação ideológica e imposição político-partidária de forma velada, ensino de gênero e a irresponsabilidade com a coisa pública. Foi publicada pelo Reitor Oscar, em 22 de julho de 2016, a Portaria nº 2.449, conhecida no Brasil como a Portaria da Saia, que determina a distinção de uniformes entre masculino e feminino. Essa portaria se fundamentou na Resolução nº 12 do Conselho Nacional de Combate à Discriminação e Promoção dos Direitos de Lésbicas, Gays, Travestis e Transexuais (CNCD/LGBT). Tal conjuntura suscita imediatamente o questionamento quanto à competência do referido Conselho em estabelecer regras direcionadas às instituições e redes de ensino, regras genéricas e indiscriminadas, desrespeitando as faixas etárias, os níveis de escolaridade, as questões regionais e a diversidade dos alunos. Foram diversas as reclamações por parte dos alunos: que meninos vestidos de saia entravam em banheiros femininos, meninas com medo de ir aos banheiros, confusão psicológica dos pequeninos, que não entenderam o que estava sendo imposto goela abaixo. Passo agora ao quarto parágrafo: Sucessivas e inúmeras paralisações e greves, motivadas por um sindicato partidário com suas ideologias e lutas, de partidos políticos como o PSOL. Cartazes Fora Temer, professores dentro da escola com adesivos de candidatos, apoio e estímulo às ocupações. Passo ao sexto parágrafo: Ao apresentar os fatos já aqui relatados, o MPF nos ouviu enquanto Comunidade Escolar, ao contrário da direção e reitoria do Colégio Pedro II, que ignora a opinião dos pais. A escola é pública e pertence a toda a comunidade escolar, pais e alunos inclusive. Toda e qualquer pessoa, não importando quantidade, poderia fazer tais denúncias, visto que é responsabilidade não só da família, mas da sociedade e do Estado zelar pela criança e pelo adolescente. Por causa do pouco tempo, passo aos dois últimos parágrafos, fazendo a minha homenagem aos pais que lutam, desesperadamente, no Colégio Pedro II, pela autonomia e liberdade de seus pequenos filhos. Nesse contexto, reafirmamos nossa luta contra os desvios de finalidade ocorridos nessa instituição com as práticas do Senhor Reitor Oscar Halac e de alguns servidores. Não vamos nos intimidar com ameaças veladas. Somos pais e mães batalhadores, e, por isso, zelaremos pela integridade moral e física de nossos filhos, combateremos quaisquer forças que ameacem suas vidas. Por tantos problemas é que somos favoráveis a projetos de lei como o Escola Sem Partido, que, depois de ajustados e aprovados, venham coibir tais irregularidades aqui apresentadas. Não somos partidários, mas apartidários, buscando um ensino de qualidade com garantia de direitos e de pluralismo de ideias para o desenvolvimento pleno de nossos filhos. Eu fico com a pureza das respostas das crianças: É a vida! É bonita e é bonita...! Rio de Janeiro, 23 de março de 2017. Pais e Responsáveis dos alunos do Colégio Pedro II. Pais estes com os quais mantenho contato. Eu já recebi mais de cinquenta deles no meu gabinete. E, quando fui às ocupações, não havia mais do que doze alunos. Eu gostaria que esta Carta Aberta fizesse parte do arquivo desta Comissão. O SR. PRESIDENTE (Deputado Pastor Eurico) - Nós a recebemos e a deixaremos na Comissão. Dando sequência aos trabalhos, passamos a palavra ao Deputado Eduardo Bolsonaro, do PSC, de São Paulo. V.Exa. tem o tempo de 3 minutos, com a tolerância de mais 2 minutos, a mesma dada aos demais oradores. O SR. DEPUTADO EDUARDO BOLSONARO - Sr. Presidente, inicialmente eu gostaria de dizer que é muito cômodo, sob a proteção da imunidade Parlamentar, chegar até os Procuradores, que não têm nada em suas fichas, e acusá-los de farsantes. (Palmas.) Eu queria ver o contrário. Já imaginou, eu chegar na cara de um representante da Esquerda e dizer que ele é farsante e outras coisas mais? Imagine se fosse uma mulher! Ia começar a falar: O senhor é machista, é misógino. Iriam me processar e, quem sabe, até o Supremo Tribunal Federal aceitaria a denúncia. Sr. Presidente, essa não é a conduta de um país sério. É por isso que muitos apelidam o Brasil de república das bananas. Dando um passo adiante, eu vi aqui Deputado que adora o sistema comunista, Cuba, botando o dedo na cara do Procurador, dizendo que distribuição de material eleitoral em escola é invenção. Se dermos uma voltinha rápida no Facebook - agora não vai dar para ver, mas, quando for editado o vídeo, eu o coloco aqui -, e o aluno chega a colocar o nome da escola, veremos distribuição de material do Deputado Marcelo Freixo, quando candidato a Prefeito do Rio de Janeiro, do PSOL. E ele é do Colégio Estadual Compositor Luiz Carlos da Vila. (Manifestação no plenário.) Sr. Presidente, como bem-dito pelo Deputado Alan Rick, as discussões da Escola sem Partido já extrapolaram nesta Casa. Ninguém mais aguentar essa cara de santo. Chegam a emboscar as nossas crianças dentro das salas de aula, como foi bem-dito aqui, também pela audiência obrigatória, a audiência cativa. Eu queria parabenizar os Procuradores da República Fábio Aragão e Ailton Benedito pelas exposições. Não é só aos senhores e ao gabinete do Deputado Sóstenes Cavalcante que chegam essas denúncias. No nosso também chove esse tipo de denúncia. Por isso, com uma petição que está aqui em minha mão, eu acredito no seguinte: o Colégio Pedro II é uma autarquia, é pago com os nossos tributos, não é dinheiro do Governo, é dinheiro nosso. E, até onde eu sei, ainda não revogaram a Lei 8.112, que dispõe no seu art. 117, V, ser proibido ao servidor promover manifestação de apreço ou desapreço no recinto da repartição. Todos nós temos uma vida pessoal e podemos fazer o que bem entendermos nas redes sociais. Prezados Procuradores, pergunto se os senhores já levaram para dentro das suas repartições do Ministério Público cartazes de algum candidato ou manifestação de apreço ou desapreço a algum político? Essa é a diferença. Eles sabem disso, mas eles são rasteiros. Por isso, eu estou falando dessa questão do Dom Pedro II, pedindo apoiamento aos demais colegas, para que consigamos ter assinaturas aqui a fim de instalar a CPI da doutrinação ideológica. (Palmas.) Já passaram por aqui, Deputado Lincoln Portela, argumentos fáticos, argumentos políticos, desconfiança de desvio em obras, favorecimento a partidos políticos. Por que o Dom Pedro II tem uma sala para o PSOL e não tem para o Jair Bolsonaro? (Palmas.) Isso por acaso é democracia? Onde está o debate, a pluralidade de opiniões tão pregada pelo PSOL? Então, peço encarecidamente que possamos entrar aqui juntos para dar um freio, porque todos sabemos que votamos a matéria nesta Casa e lá na ponta pseudoprofessores, travestidos de militantes, fazem o que bem entendem. Todos viram, Prezado Presidente Marcos Rogério, quando foi revogada a questão da ideologia de gênero, professores com o cartaz: Eu vou falar de ideologia de gênero para o seu filho, sim. Ou seja, danem-se os Deputados, dane-se a República, danem-se vocês. Então, agora chegou a hora de darmos uma resposta com força, aqui não é casa da mãe joana não. Avante com a CPI! (Palmas.) O SR. PRESIDENTE (Deputado Marcos Rogério) - Muito obrigado a V.Exa., Deputado Eduardo Bolsonaro. Na sequência, pela ordem de inscrição, ouviremos o Deputado Lincoln Portela. O SR. DEPUTADO GLAUBER BRAGA - Sr. Presidente, o último inscrito é o Deputado Lincoln Portela? O SR. PRESIDENTE (Deputado Marcos Rogério) - O último orador é o Lincoln Portela. O SR. DEPUTADO GLAUBER BRAGA - Não precisa ser agora. Eu peço para utilizar o tempo de liderança do PSOL depois da fala dos Srs. Parlamentares. O SR. PRESIDENTE (Deputado Marcos Rogério) - O.k. Agradeço a V.Exa. Na sequência, passo a palavra, pela ordem de inscrição, ao Deputado Lincoln Portela, pelo tempo regimental. O SR. DEPUTADO LINCOLN PORTELA - Deixe-me falar uma coisa: quanto a isso tudo, esses 25 anos de aparelhamento, de empoderamento das escolas - o meu pessoal vai ficar meio contrariado comigo, vou dar bola nas costas -, a culpa é nossa! A culpa é nossa! Nós nos acomodamos, Deputado Sóstenes, principalmente nós cristãos, principalmente aqueles que têm aquela mentalidade de que política é do diabo. Agora estão vendo o resultado dessa encrenca! Pau que dá em João dá em Sebastião, e eu vou dar no nosso povo também. (Risos.) A culpa é do nosso povo, porque o nosso povo deixou, porque o nosso povo viu, cruzou os braços e não fez nada. Essa é a realidade! (Palmas.) Então nós temos que mudar essas coisas. O Escola sem Partido está ajudando a mudar isso, está ajudando não a fazer uma provocação, mas um contraditório sobre as coisas que estão acontecendo. É preciso ter o contraditório. É preciso nos levantar com a consciência devida, com a habilidade devida, para que, num entendimento, queiramos aquilo que é melhor para o Brasil. É bom o Brasil ter a Esquerda? É. A Esquerda faz um trabalho de Oposição como ninguém faz. Quando vai para o Governo, é uma encrenca (risos), mas, quando faz o trabalho de Oposição, ninguém faz como ela - ninguém faz! É um negócio sensacional - sensacional! Diga-se de passagem, eu estou votando com a Esquerda. Eu já falei isso aqui. Não votei a favor da Proposta de Emenda à Constituição nº 241, de 2016. Não votei a favor do Projeto de Lei Complementar nº 257, de 2016. Não voto a favor da terceirização. Não voto a favor da reforma da Previdência. Não voto a favor da reforma trabalhista. É um negócio meio complicado, mas nós temos que ficar mais atentos. O nosso povo tem que ficar mais esperto também. A escola sem partido está fazendo o nosso povo se levantar. A escola sem partido está sendo um marco importantíssimo para que mudemos essas coisas. Então estou fazendo aqui o nosso mea-culpa, e nós temos que resolver essas coisas. Mas que bom que hoje companheiros, amigos, colegas aqui da Casa que pensam de maneira diferente estão aqui até o final do debate! Que bom! Eles não estavam ficando e, quando ficavam, estavam ficando sozinhos, porque o pessoal correu da raia e deixou só um ou dois para defender. É complicado. Eu acho que eles devem fazer com que esta Comissão termine depressa, porque, quanto mais tempo ela demorar, mais coisas ruins virão à tona. Não adianta querer dizer que não é. É, gente! Não dá mais. Tem que mudar, tem que chegar a um acordo, tem que ouvir o contraditório, tem que tomar um posicionamento mais democrático, mas democrático de verdade, não é democrático com uma tendência só, porque democrático com uma tendência só não é democracia. Aos Procuradores, com os quais eu não pude estar aqui, porque eu estava na Comissão de Constituição e Justiça e de Cidadania, eu quero dizer uma coisa: que bom que Brasil tem Ministério Público! Que bom que o Brasil tem magistratura! Que bom que o Brasil tem Defensoria Pública para poder defender aqueles que não têm condição. Nós não devemos nem desrespeitar, nem ter medo, mas, sim, dar o devido respeito a quem se dá o respeito. Quero parabenizar os nossos expositores. Apesar de eu não ter estado aqui, as informações que eu tive foram as melhores possíveis das verdades ditas pelos senhores. Muito bem! Que bom! Estamos acabando como assédio sexual que existe por aí, estamos acabando com o assédio moral que existe por aí, estamos acabando com o assédio religioso que existe por aí. E queremos, sim, uma escola democrática, onde os incautos, os carentes de juízo, aqueles destituídos de malícia não fiquem como ovelhinhas sendo devoradas por aqueles que já têm experiência, garras e dentes afiados. (Risos.) Às vezes, com a língua um pouco mais afiada, mas querendo consenso, querendo democracia de fato, querendo que todos tenham participação, que todos falem, que todos se respeitem. Não dá mais para continuarmos dessa maneira. Vamos chegar a um denominador comum para que possamos ter uma escola melhor no nosso Brasil. Era o que eu tinha a dizer, Sr. Presidente. O SR. PRESIDENTE (Deputado Marcos Rogério) - Agradeço a V.Exa., Deputado Lincoln Portela, e passo a palavra neste momento ao eminente Deputado Pastor Eurico, Vice-Presidente desta Comissão e com presença permanente nos trabalhos desta Comissão Especial. V.Exa. tem a palavra. O SR. DEPUTADO PASTOR EURICO - Sr. Presidente, hoje eu estou admirado com minha paciência. (Risos.) E eu gostaria, com muita honra, antes de falar, de deixar meu companheiro Glauber se pronunciar, porque ele havia pedido a palavra antes de mim. (Intervenção inaudível fora do microfone.) O SR. PRESIDENTE (Deputado Marcos Rogério) - V.Exa. tem a palavra, Deputado Pastor Eurico. O SR. DEPUTADO PASTOR EURICO - Sr. Presidente, desde o princípio que nós fizemos questão de pontuar, mais uma vez, a isonomia desta Comissão e também a valorização do contraditório. Houve sempre uma preocupação de se ter nas nossas audiências as participações de ambos os lados, para que não pairasse nenhuma dúvida sobre esta Comissão. E fico muito feliz quando nós temos uma audiência como esta, apesar de não termos o contraditório presente. Mas, pelo menos, justificaram que não estariam aqui. Nós estamos vendo que há um jogo de falácias contra esse projeto. Faço coro com os oradores que disseram que esse nome Escola Sem Partido não deveria existir. Mas aqui nesta Casa é comum se dar alguns nomes, e nós já fomos vitimados aqui por alguns deles. Tivemos a Lei da Palmada, que não tinha nada a ver. Aquela chamada Lei da Palmada era uma afronta direta ao pátrio poder, mas era chamada Lei da Palmada. E tantas outras que não vou mencionar agora por conta do pouco tempo. O SR. DEPUTADO PR. MARCO FELICIANO - Tem outra famosa, a da cura gay. O SR. DEPUTADO PASTOR EURICO - Bom, tem a chamada cura gay - nós reapresentamos o projeto -, e não tem nada a ver. Se bem que eu creio que Deus cura tudo até gay, certo? (Manifestação nas galerias.) O SR. DEPUTADO PASTOR EURICO - Dizem que não é doença, mas é um desvio de conduta, e quem tem conduta desviada também pode tê-la de volta. Eu tenho meus posicionamentos e respeito os demais. Mas, Sr. Presidente, é difícil para nós termos de assistir as pessoas aqui falarem, e todos têm o direito de falar. Se falam o que me agrada ou não, eu tenho de ouvir e ponderar. E eu queria pedir desculpas hoje. Não sou muito de pedir desculpas, até porque têm horas que vemos cada coisa acontecendo! Mas eu quero pedir desculpas ao Dr. Fábio hoje. Eu nem lhe conhecia, mas o senhor, por favor, não volte daqui decepcionado, pensando que aqui é tudo farinha do mesmo saco. (Palmas.) Não. Eu acho que o respeito deve ser mantido. Aquela história de que todos Deputados calçam 40, não é verdade. Eu calço 42, está certo? Então, respeito a posição de cada um, mas, pela forma como V.Sa. foi desrespeitado hoje aqui, eu queria ter uma borracha para, como naquela linguagem antiga das escolas, apagar essa desgraça, fazer de conta que nem existiu, porque foi uma falta de respeito. V.Exa. fez suas colocações aqui e tem suas razões de fazê-lo. E eu quero aproveitar também a fala do Deputado Sóstenes Cavalcante, que trouxe aqui o registro dos pais que, com certeza, sabem o que estão fazendo. Então, deixo bem claro que a vinda dos senhores aqui foi importantíssima para vermos que existem pessoas sérias, com os pés no chão, que também pensam em prol dos nossos alunos, dos nossos estudantes. Aqueles que já passaram pela escola fundamental, coitados, foram vitimados por uma situação terrrível. Mas vamos proteger os que estão começando agora, porque senão essas pessoas vão querer voltar a doutrinar e fazer um novo exército para a desgraça dos estudantes neste Brasil. Parabéns aos senhores. (Palmas.) O SR. PRESIDENTE (Deputado Marcos Rogério) - agradeço a V.Exa. Passo a palavra, pela Liderança, ao Deputado Glauber Braga. O SR. DEPUTADO GLAUBER BRAGA - Sr. Presidente, Sras. e Srs. Deputados, convidados, com toda a calma, como ser humano, todos que estão aqui merecem respeito. Como o Procurador que está utilizando de seu cargo para a realização de abuso de autoridade por um projeto que de neutro não tem nada, repito, é farsante. (Manifestações nas galerias.) Pode sorrir, pode rir, mas a verdade é que ele está se utilizando do exercício do cargo exatamente com esse objetivo. (Manifestações nas galerias.) Alguns Parlamentares utilizam esta Comissão para aquilo que querem fazer no espaço das unidades escolares, que é a criação de tribunais pedagógicos. O desrespeito que existe aqui por parte de vários Parlamentares contra a população negra brasileira, contra as mulheres, repito, contra a população LGBT... (Manifestações nas galerias.) O SR. DEPUTADO LINCOLN PORTELA - Deputado acusado de racismo, tem de ir para o Conselho de Ética. Eu me sinto acusado agora. O SR. DEPUTADO GLAUBER BRAGA - Fique calmo. Ouça. O SR. DEPUTADO LINCOLN PORTELA - Não, opa! Não pode generalizar. Não, Glauber, aí não. O SR. DEPUTADO GLAUBER BRAGA - Engraçado, né? É fácil falar, mas é difícil ouvir. O SR. PRESIDENTE (Deputado Marcos Rogério) - Deputado Glauber... O SR. DEPUTADO GLAUBER BRAGA - Deixe-me concluir. Ele quer estabelecer o tribunal pedagógico comigo aqui, me censurando? É isso, é o tribunal pedagógico? (Manifestações nas galerias.) No dia em que um Parlamentar desta Comissão ou de qualquer outra quiser exercitar censura com aquilo que vou dizer, estabelecendo qualquer tipo de tentativa de limitar minha fala por medo, está muito enganado que isso vai acontecer. Nem o V.Exa. nem qualquer outro Parlamentar vai conseguir fazer isso. Esta Comissão tem um conjunto de Parlamentares que querem estabelecer sim, nas escolas brasileiras, um tribunal de exceção pedagógico, para colocarem em prática o seu projeto, que, de neutralidade, não tem absolutamente nada. Nada! (Manifestação na plateia.) E respeitem meu direito de fala. Ou é exatamente isso que vocês querem fazer com os professores em sala de aula, com os profissionais da educação? (Manifestação na plateia.) É isso? É isso? Vocês querem que o professor, quando começar a falar, tenha medo em relação ao que está dizendo, porque pode ser levado a um tribunal, sob a alegação de estabelecer, no ambiente escolar, um espaço de educação crítica? (Manifestação na plateia.) Não adianta, não vão me limitar e não vão fazer com que eu não diga o que tem de ser dito. Alguns Parlamentares que aqui me antecederam utilizam esses microfones para fazer aquilo que já fazem há muito tempo - não é de hoje -, que é defender a sua ideologia de extrema direita. (Manifestação na plateia.) Eu já perguntei isto aqui para vários e faço mais uma vez esta pergunta: o professor de Geografia ou de História, por exemplo, que disser em sala de aula que o que aconteceu em 1964 no Brasil foi um golpe estará cometendo ilegalidade? (Manifestação na plateia: Sim!) A maioria dos que estão nesta sala acham que sim. Exatamente por termos a convicção de que não há ilegalidade é que somos contra esse tribunal de exceção pedagógico, que parte dos Parlamentares desta Comissão querem colocar em prática. Nós vamos continuar defendendo uma escola que seja livre, plural, que combata todo e qualquer tipo de discriminação e que não tenha, nos tribunais pedagógicos que querem criminalizar professores e profissionais da educação, a sua orientação. (Manifestação na plateia: Constituição! Lei!) A ditadura acabou em 1985. Se alguns dos senhores querem retomar o período de exceção dentro das escolas, podem ter certeza, não contem conosco. (Palmas.) Pelo contrário, contem com nossa resistência contra esse tipo de ataque. Se querem colocar de volta... (Manifestação na plateia.) (O Sr. Presidente faz soarem as campainhas.) O SR. DEPUTADO GLAUBER BRAGA - Desculpe-me, Presidente. (O Sr. Presidente faz soarem as campainhas.) O SR. DEPUTADO GLAUBER BRAGA - Se querem colocar de novo, dentro de sala de aula, medo nos professores em relação àquilo que eles vão dizer, não contem conosco. Vocês vão contar... (Manifestação na plateia.) É engraçado, não é? O Sr. Nagib está aqui falando atrás de mim. Um dia desses perguntei a ele o seguinte: Sr. Nagib, diga-me uma coisa, o senhor acha que houve golpe em 1964? Ele me respondeu assim, Deputado Bacelar: Não sei, porque não estudei esse período da História. É engraçado, porque o Sr. Nagib conhece a história de Cuba, a história da Coreia do Norte tão bem, mas a história do Brasil ele diz que não teve tempo suficiente para estudar profundamente. (Manifestação na plateia.) O que os senhores querem instituir é tribunal de exceção pedagógico nas escolas brasileiras! E nós vamos resistir a isso! Não vamos aceitar! (Manifestação na plateia: Mentira! Mentira! Mentira!) (O Sr. Presidente faz soarem as campainhas.) O SR. PRESIDENTE (Deputado Marcos Rogério) - Passo a palavra... O SR. DEPUTADO SÓSTENES CAVALCANTE - Pela ordem, Sr. Presidente! Pela ordem! (O Sr. Presidente faz soarem as campainhas.) O SR. PRESIDENTE (Deputado Marcos Rogério) - Vou pedir a atenção do Plenário. (Manifestação na plateia.) (O Sr. Presidente faz soarem as campainhas.) O SR. PRESIDENTE (Deputado Marcos Rogério) - Vou pedir ao Plenário... (O Sr. Presidente faz soarem as campainhas.) O SR. PRESIDENTE (Deputado Marcos Rogério) - Com todo o respeito, eu quero dizer ao Plenário que, do mesmo jeito que existem opiniões fortes a favor da matéria, existem opiniões fortes contra a matéria. É preciso que haja respeito mútuo, por mais que isso seja difícil para quem participa de manifestações como esta. O Deputado Glauber tem a opinião dele. Ela pode divergir da maioria das nossas opiniões, mas ele tem o direito de se manifestar. E não cabe a quem vem à Comissão discutir com os Parlamentares neste momento. Infelizmente não podemos abrir a palavra a quem não tem o nome na pauta da reunião, o que só pode ocorrer por meio da aprovação de requerimento. Lamento, mas é a regra. Temos de seguir dessa maneira. Do contrário, não conseguiremos avançar. O SR. DEPUTADO GLAUBER BRAGA - Sr. Presidente, começou a Ordem do Dia no plenário da Câmara dos Deputados. Vou ter de me dirigir até lá, mas depois lerei as notas taquigráficas desta reunião, para poder responder, na próxima reunião, os questionamentos que surgirem. (Manifestação na plateia.) O SR. PRESIDENTE (Deputado Marcos Rogério) - V.Exa. conhece as regras. (Manifestação na plateia.) O Deputado Sóstenes me pediu a palavra pela ordem. Na sequência, falará o Deputado Pr. Marco Feliciano, pela Liderança, e depois o Deputado Eduardo Bolsonaro. Tem a palavra o Deputado Sóstenes. O SR. DEPUTADO SÓSTENES CAVALCANTE - O meu pedido, Sr. Presidente, tem clareza quanto ao que acaba de acontecer, e sei que V.Exa. é um exímio regimentalista desta Casa. É a segunda vez que uma pessoa que está participando de todas essas audiências públicas é citado, o Sr. Nagib. Da outra vez, V.Exa. não acatou pedido de um colega Parlamentar, fazendo-se valer do Regimento. Eu gostaria de fazer esta pergunta: se eu novamente apresentar o pedido, V.Exa. vai indeferi-lo? Imagino que sim. Esta é a segunda pergunta: eu posso então apresentar um novo requerimento para que, numa nova audiência pública, ele esteja aqui para responder ao Deputado Glauber? Em toda reunião, ele insiste em fazer a pergunta, sabendo que um dos motivadores desse projeto não pode responder-lhe. Eu consulto V.Exa. se posso apresentar um requerimento, para que V.Exa. o coloque em apreciação, a fim de o trazermos como convidado para responder essa pergunta, que, para mim, é muito capciosa. O SR. DEPUTADO PASTOR EURICO - Já estou subscrevendo o requerimento. (Palmas.) O SR. PRESIDENTE (Deputado Marcos Rogério) - Penso que V.Exa. tem o apoio não só de seus colegas que estão aqui, mas também da grande maioria ou até de todos. O apelo de V.Exa. é regimental. Eu tenho que atender, não por concessão, mas por dever regimental, o apelo de V.Exa. O SR. DEPUTADO SÓSTENES CAVALCANTE - Muito obrigado, Sr. Presidente. (Palmas.) O SR. DEPUTADO PASTOR EURICO - Só lamento ele já não esteja pronto para eu assiná-lo já. O SR. DEPUTADO PR. MARCO FELICIANO - Sr. Presidente, quero fazer um questionamento. O SR. PRESIDENTE (Deputado Marcos Rogério) - Tem a palavra o Deputado Pr. Marco Feliciano. O SR. DEPUTADO PR. MARCO FELICIANO - Como vai ser apresentado novo requerimento para que o Dr. Miguel Nagib possa falar e tem sido praxe desta Comissão convidar dois expositores de cada lado, eu queria propor que, no dia em que isso acontecer, convidássemos apenas o Dr. Miguel Nagib para fazer o contraponto. Daríamos a ele então os dois horários, 40 minutos, para que ele possa falar adequadamente, porque os 20 minutos em que ele vem falando aqui acabam sendo muito pouco. Ele é o autor do projeto. Quanto ao outro lado, podemos convidar dois. Não sei se é possível isso. O SR. PRESIDENTE (Deputado Marcos Rogério) - Vamos seguir o Regimento. Em ambiente de discordância, sempre que se foge ao Regimento, perde-se o controle. O pedido do Deputado Sóstenes, sendo subscrito o requerimento, é regimental. Eu o submeterei à apreciação do Plenário. Teremos a honra de ouvir aqui mais uma vez o Prof. Miguel Nagib (palmas), que está presente em todas as reuniões de debate desta Comissão. Eu solicito ao Deputado Pr. Marco Feliciano que tenha um pouco de tolerância. O Deputado Eduardo Bolsonaro me pede a palavra como Líder. Ele tem, portanto, precedência. (Palmas.) O SR. DEPUTADO EDUARDO BOLSONARO - O Deputado Pr. Marco Feliciano pode falar primeiro. Antiguidade é posto. O SR. PRESIDENTE (Deputado Marcos Rogério) - Agradeço a V.Exa. a concessão. Deputado, V.Exa. conhece as regras, V.Exa. já foi Líder. É ainda, não é? Continua Líder? O SR. DEPUTADO PR. MARCO FELICIANO - Não, agora não mais. Nós temos novo Líder. Eu sou um dos Vice-Líderes. (Não identificado) - Foi cassado, foi cassado. O PSOL o cassou. O SR. PRESIDENTE (Deputado Marcos Rogério) - (Riso.) Exerceu... O SR. DEPUTADO PR. MARCO FELICIANO - Eu fui o único Líder partidário desta Casa que abriu mão do cargo, porque é impossível liderar dois Bolsonaros. (Risos.) O SR. PRESIDENTE (Deputado Marcos Rogério) - Agradeço a V.Exa. Seguindo então a lista de inscritos, passo a palavra ao nobre Deputado Pr. Marco Feliciano. O SR. DEPUTADO PR. MARCO FELICIANO - Sr. Presidente, Sras. e Srs. Deputados, nossos debatedores que aqui vieram, quero pedir escusas porque não consegui chegar a tempo. Falei até com o Dr. Miguel Nagib. Nós tínhamos até uma fala anterior, e não consegui chegar a tempo, por causa do voo. Mas eu me sinto contemplado aqui por todas as falas dos meus amigos. E fiquei chocado com a fala do Deputado Glauber Braga. Ele disse que vai ler as notas taquigráficas. Então, quero mandar para ele um recado. O PSOL, o partido que não quer o apoio do Escola sem Partido, que não apoia o Escola sem Partido, ou seja, que não protege as nossas crianças, tem no seu cerne, em suas vísceras, a natureza assassina, principalmente assassina de crianças. Explico o porquê. Um dos fundadores do PSOL, o Sr. Achille Lollo, italiano de ultraesquerda, ateou fogo à casa de um gari, quando morava na Itália, e matou dois filhos desse gari, foram queimados: um menino de 8 anos e o Virgílio, de 22 anos. Tendo sido condenado da Itália, fugiu para o Brasil. Chegando ao Brasil, recebeu aqui o apoio do nosso País. Juntou-se a algumas figuras tidas como intelectuais e fundou o PSOL. Então, está na raiz desse partido assassinar crianças, está na raiz desse partido assassinar pessoas que têm o pensamento diferente do deles. É claro que a beleza de ser cult - é isso que a extrema esquerda faz - dá a eles a liberdade de serem aplaudidos pela imprensa. Mas, dentro desta Casa, ainda existem pessoas de bem, pessoas que têm o pensamento contrário ao deles e têm coragem de o defender. Eu quero parabenizar mais uma vez o Escola sem Partido, que faz aqui o seu papel. Integrantes do PSOL dizem que nós somos contra a democracia. Eu queria saber qual é o símbolo de democracia deles. O símbolo de democracia deles foi dado, em uma foto, pelo Deputado Jean Wyllys. Estava vestido de Che Guevara, alguém que assassinou com suas próprias mãos mais de 700 pessoas. Então, quando alguém desses partidos vem aqui falar contra o Escola sem Partido, eles legitimam o Escola sem Partido. O Escola sem Partido tem de ser aprovado. Como eu já disse em outras falas, virou uma coqueluche nacional. Mesmo que aconteça de não passar na Câmara dos Deputados, isto já é fato: os pais, as mães, os alunos hoje estão com sua voz aberta, estão falando, estão denunciando. E as escolas, principalmente essas que têm viés esquerdista, estão apavoradas. O apavoramento delas decorre disto: o povo brasileiro não vai se calar mais. Mais uma vez, quero parabenizar os debatedores que aqui vieram, os nossos Deputados e dar legitimidade ao que vai acontecer daqui a pouco com o nosso líder, que hoje representa o Líder do meu partido. Eu me refiro ao Deputado Eduardo Bolsonaro. Precisamos atuar, e vamos atuar com muita ênfase. Muito obrigado, Sr. Presidente. (Palmas.) O SR. PRESIDENTE (Deputado Marcos Rogério) - Eu agradeço a V.Exa., Deputado Pr. Marco Feliciano. Tem a palavra, pela Liderança do PSC, o Deputado Eduardo Bolsonaro, que dispõe do tempo regimental atribuído ao partido de S.Exa. O SR. DEPUTADO EDUARDO BOLSONARO - Nós que somos do baixo clero, Sr. Presidente, quando temos 5 minutos, nós nos lambuzamos. Sr. Presidente, eu apresentei esse ofício para falar durante o tempo de Líder para fazer um contraponto à fala do Deputado Glauber, do PSOL. Eu não sei se eu deveria, mas vou dar uma dica para a Esquerda. Sabem por que Trump foi eleito nos Estados Unidos? Exatamente por causa de discursos como os deles. Eles é que nos promovem. A população vê um fato, algo que está na cara, algo que é patente, notório, e o pessoal de esquerda nega a existência desse fato. A pessoa diz então: Calma aí! Espere lá! Se eu tenho que me identificar com um dos dois, não vou ficar com o lado da mentira, vou ficar com o que me resta, que é o lado, nos Estados Unidos, de Trump. (Palmas.) A síntese disso é pisar fora do politicamente correto. Na França, Le Pen; na Holanda, Geert Wilders. No Brasil, o Deputado Jair Bolsonaro está despontando em algumas pesquisas. Imagine, Sr. Presidente, se encomendássemos a pesquisa - sabemos como é feita uma pesquisa -, qual seria a intenção de voto para eles. Volto ao tema do Escola sem Partido. Mais uma vez vou explicar não aos Deputados que aqui estão presentes, que já estão carecas de saber disto, tampouco aos Deputados de esquerda, que negam a realidade, insistem na mentira, mas sim àqueles que nos assistem que o Projeto Escola sem Partido nada mais é, prezado Deputado Flavinho, do que a fixação de um cartaz, nas escolas, com seis deveres do professor. Nós não estamos criando dever algum. Esses seis deveres já estão previstos na nossa Constituição ou em tratados internacionais, como o Pacto de San José da Costa Rica. Os deveres estão aí para quem quiser ver. Quando edito vídeo, também coloco lá os deveres. Não há nada de mais. Agora, eles insistem em dizer que se vai colocar professor na prisão, que se quer estabelecer a Lei da Mordaça, censura, que se quer fazer voltar a ditadura, o nazismo, o fascismo. Com esse negócio todo, prezado Procurador Ailton Benedito, nem sei mais como eles conseguem ter tanta criatividade. Sr. Presidente, gostaria de saber dessa Presidência se já estão definidos os locais e as datas das audiências fora da Câmara dos Deputados. Informo desde já que estarei presente sempre que possível. Encerro esta minha fala, antes dizendo que eles seguem esta máxima atribuída a Maquiavel: os fins justificam os meios. Então, não importa mentir se for por uma causa maior; não importa emboscar crianças nas escolas, se o objetivo final for o socialismo, a igualdade em que não haverá nem mais a inveja. Esse é o pensamento doentio. Quero crer que, mais cedo ou mais tarde, essa ideologia comunista que já matou mais de 100 milhões de pessoas em todo o mundo será criminalizada, terá o mesmo tratamento do nazismo, um nefasto sistema que matou mais de 6 milhões de pessoas, com o qual ninguém nesta Comissão concorda, em que pese continuar sendo tachada dessa maneira pelos seus opositores. Muito obrigado, Sr. Presidente. (Palmas.) O SR. PRESIDENTE (Deputado Marcos Rogério) - Esta Presidência agradece a V.Exa., Deputado Eduardo Bolsonaro. Tem a palavra, pela Liderança do PRB, o Deputado Lincoln Portela, que dispõe do tempo regimental destinado ao partido de S.Exa. O SR. DEPUTADO LINCOLN PORTELA - Sr. Presidente, nobre Relator, senhores expositores, Sras. e Srs. Parlamentares, senhoras e senhores, até que eu tento não perder as estribeiras. Nas duas últimas vezes em que falei aqui, procurei não as perder. Estou aqui há 19 anos. Há 19 anos ouço o pessoal da Esquerda dizer que os cristãos, principalmente os cristãos evangélicos, são racistas. Os caras são tão burros que não sabem que 70% dos evangélicos são afrodescendentes. Vão dizer que esses 70% são racistas também? Vão ser burros assim lá no inferno! (Risos.) Pelo amor de Deus! Isso cansa a nossa beleza! Em reuniões na Comissão de Direitos Humanos, da qual eu sou titular, dizem que nós somos fascistas, dizem que nós somos nazistas. Ah, isso enche a paciência! Chega um determinado momento em que não dá mais! Somos racistas, somos nazistas, somos fascistas. Só não somos esquerdistas. Deve haver meia dúzia de nós que são, porque em todo lado... Judas andava com Jesus, não é? (Risos. Palmas.) Então, há uns trecos desses por aí. Um antigo pastor, Glycon Terra Pinto, que era Deputado Estadual em Belo Horizonte, dizia - não sou que estou dizendo isto, não, só estou repetindo o que ele disse, estou exercendo o meu livre direito de expressão - que a Esquerda é do diabo. Eu nem vou questionar essa história. Só estou citando o que Glycon Terra Pinto dizia. Era até meio parecido com o Deputado Pastor Eurico, mantinha essa linha dele, um pouco mais brava - está até mais bonzinho nesses dias. Chega! Nós estamos cansados da mesma ladainha. Estamos cansados disso. Agora, uma coisa eu faço, que é descansar a minha cabeça no travesseiro e dizer o seguinte: a Escola sem Partido está dando certo! Está dando certo. Que coisa boa! Está dando certo. O pessoal está nervoso, o pessoal está apavorado, o pessoal está desesperado. Que venham mil processos sobre as mil pessoas que estão sendo atingidas! São 50 mil pessoas atingidas, são 50 mil processos. Processo na cabeça de quem está prejudicando as crianças brasileiras, de quem as está induzindo ao erro! (Palmas.) Eles estão tão desesperados, Sr. Presidente, que determinada emissora da mídia brasileira começou, de uns tempos para cá, a agir de forma mais violenta, mais contundente, mais massificante em cima da erotização das nossas crianças, inclusive com desenho animado, em dia de grande audiência, em horário nobre. Mas por que está acontecendo isso? Porque se está vendo que a Escola sem Partido está dando certo, porque nós estamos alertando os pais. Diga-se que existem pais pastéis também. Existem pais que não participam da educação dos seus filhos, que entregam os seus filhos para a escola e os deixam à esquerda-dará, ao marxista-dará. Não os deixam ao deus-dará, não, porque Deus não dá essas coisas dessa maneira. (Manifestação na plateia: É verdade!) Então, chega! Nós estamos realmente querendo mudar essas coisas. Nós tentamos o diálogo, tentamos a conversa. Ah, mas me chamar de racista? Há Deputados aqui... Então deem nome aos Deputados que são racistas. O Deputado é racista? Leve-o para o Conselho de Ética. Eu peço até peço, Presidente Marcos Rogério, para me filiar lá, se V.Exa. for o Presidente - nem sei se é -, para votar a cassação desse racista. Mas deem o nome do cara! Deem o nome do nome do cara que é racista! Deem o nome do cara que é homofóbico! Fulano cometeu um ato de homofobia. Vocês são homofóbicos! Vocês, quem? Quem é homofóbico? Ah, chega! Chega desse papo furado, desse lero-lero, dessa conversa! Acontece então isso que acontece, chego ao ponto a que chego. Vão cutucando, vão cutucando, vão cutucando, e sai isso que ouviram. Perdoem-me os nobres expositores, que são tremendamente educados, treinados para ter paciência diante da contradição, por mais virulenta que seja. Perdoem-me, mas chega uma hora em que não aguento, não. São 19 anos ouvindo besteira, baboseira. (Manifestação na plateia: Ninguém mais aguenta!) Obrigado. (Palmas.) O SR. PRESIDENTE (Deputado Marcos Rogério) - Esta Presidência agradece a V.Exa. Vamos ouvir agora as considerações finais. Agradeço desde já aos nossos convidados que compareceram aos trabalhos desta Comissão Especial na data de hoje, o Dr. Fábio Aragão e o Dr. Ailton Benedito. Agradeço penhoradamente o esforço de V.Exas. para estarem aqui e trazerem suas contribuições, suas experiências em cada um dos órgãos que representam. Tem a palavra, para suas considerações finais, o Dr. Ailton Benedito, Procurador da República em Goiás, que atua na Procuradoria Regional dos Direitos do Cidadão. Se V.Exa. quiser apresentar ponderações quanto às perguntas ou aos questionamentos que foram feitos, tem essa liberdade. O SR. AILTON BENEDITO - Obrigado, Presidente. Primeiro, eu quero agradecer as manifestações de todos os Deputados. De fato, nós temos que estar sempre treinados para ouvir o contraditório. Isso faz parte da nossa atividade e deve fazer parte da natureza humana, porque, se não houver contraditório, nós vamos voltar à Idade da Pedra, quando se resolvia tudo na base da porretada. O Deputado Bacelar me questionou sobre uma nota técnica expedida pela Procuradoria Federal dos Direitos do Cidadão - PFDC e dirigida a diversos órgãos. Eu me refiro a essa nota técnica como uma opinião daquele órgão do Ministério Público, como há opiniões expedidas por diversos outros do Ministério Público. A minha opinião foi expedida no bojo de um procedimento com recomendações a diversas instituições de ensino para que não utilizassem nas suas estruturas a promoção de atos de natureza político-partidária. A propósito disso, eu até ouso sugerir à própria Comissão que convide a titular da PFDC para que aqui defenda as suas ideias, a sua própria nota técnica relacionada ao Projeto Escola sem Partido. Será uma boa oportunidade para ela esclarecer ao Congresso Nacional o que entende de inconstitucionalidade no projeto. Nós aqui, tanto o colega Fábio quanto eu mesmo, expusemos posições que reforçam a sua constitucionalidade. Também o Deputado Bacelar questionou qual seria a agremiação partidária que usa as escolas para a promoção de atos de natureza político-partidária. Eu me socorro aqui de uma regra do Código de Processo Civil que estabelece que fatos públicos e notórios não precisam de prova. Todos nós sabemos que a hegemonia dentro das instituições de ensino é de natureza essencialmente de esquerda e extrema esquerda. Essa é uma realidade, a depender de quais são os partidos que de alguma forma abraçam essas bandeiras. Eu atuei contra diversas invasões de escola acontecidas no ano de 2016. Eu propus diversas ações, inclusive para que fossem revertidas no Estado de Goiás. A partir da nossa atuação, finalmente os dirigentes das instituições de ensino tomaram providências para reverter as ocupações, as invasões das escolas. É o vício, não é? De fato, eu trato aquilo como é: invasão ilegal de estruturas públicas que devem servir à promoção do conhecimento e do ensino e não meramente a ocupação. Mais uma vez, eu quero agradecer a oportunidade dada por esta Casa. Eu ressalto o meu respeito à Câmara dos Deputados, que, em nome da sociedade, abraça estes temas de extrema importância: educação, sistema de ensino e aquilo que, ao meu entendimento, hoje tem causado grandes prejuízos à formação dos nossos alunos, ou seja, a manipulação político-partidária dentro das estruturas de ensino. Eu reforço a minha posição, especialmente, e do Ministério Público Federal em Goiás de que sempre lutaremos contra esse tipo de ato que, na verdade, viola os direitos fundamentais dos estudantes nas escolas, tanto públicas quanto particulares. Obrigado a todos. (Palmas.) O SR. PRESIDENTE (Deputado Marcos Rogério) - Passo a palavra ao Dr. Fábio Aragão, Procurador da República, titular do 1º Ofício da Tutela Coletiva da Educação no Rio de Janeiro e professor de Direito Constitucional. O SR. FÁBIO ARAGÃO - Primeiramente, gostaria de agradecer aos Parlamentares as manifestações de carinho. Digo ao Pastor Eurico que sairei daqui com uma boa recordação da Câmara dos Deputados. Por mais que o Deputado Glauber tenha se insurgido, esta é função do Ministério Público. Os pais dos alunos colhem provas, prestam depoimentos sobre atos de improbidade administrativa. Em relação ao PSOL, se eu arquivasse o procedimento, aí sim eu estaria cometendo crime. As provas foram apresentadas e me coube propor a ação. Se fosse um membro de outro partido político, eu agiria com a mesma energia, como já fiz em outras ocasiões. Talvez um dia eu faça um ranking. Acho que eu até já propus mais ações contra membros da Direita do que da Esquerda. Na verdade, o Ministério Público não é pautado nem pela Direita nem pela Esquerda, nós somos pautados pelas leis que regem este País, e, obviamente, em sendo cometidos atos de ilegalidade, nós iremos combatê-los, doa a quem doer. Obviamente, quando o Ministério Público formula uma acusação, todos os acusados vão alegar perseguição. Nós vemos isso na Lava-Jato e nós vimos isso hoje aqui, nesta Casa do Povo. Nós agimos tecnicamente, nós queremos apenas o cumprimento dessas leis e nós demonstramos objetivamente que o Projeto de Lei nº 867, de 2015, está plenamente de acordo com a Constituição da República. Respondo ainda questão levantada pelo nobre Parlamentar. Pergunta se não seria melhor chamar o diretor do colégio para conversar, etc. Ora, em relação ao Colégio Pedro II, várias vezes o Reitor Oscar Halac foi ao meu gabinete. Antes de propor a ação, eu expedi uma recomendação para o Pedro II a fim de que eles cessassem a atividade político-partidária. Eu não propus a ação primeiramente. Pedi uma recomendação para que eles cessassem. Só que eles não cessaram. Parece até que eles se sentiram mais ofendidos e intensificaram o ato. Se eles tivessem recebido a recomendação e cessado essa atividade, estaria ótimo para ambos os lados, eles parariam de praticar os atos ilícitos, eu arquivaria o procedimento, e isso não geraria o que gerou. Mas eles continuaram reiterando a conduta, razão pela qual a ação de improbidade foi necessária, doa a quem doer. O Ministério Público é a voz da sociedade perante o Poder Judiciário, e muitas vezes as nossas ações atingem interesses políticos, e aí vêm as represálias. Mas nós não nos intimidamos e continuaremos cumprindo com o nosso papel constitucional. Muito obrigado. (Palmas.) O SR. PRESIDENTE (Deputado Marcos Rogério) - Esta Presidência agradece mais uma vez aos nossos convidados que compareceram a esta reunião: o Dr. Fábio Aragão e o Dr. Ailton Benedito. Certamente, as falas de V.Exas. nesta reunião contribuem muito para o esclarecimento dos Deputados, que formarão suas convicções para votar essa proposta. Com a tolerância dos Deputados, eu queria informar, a pedido do Deputado Eduardo Bolsonaro, a pauta das reuniões regionais preestabelecida. Eu enviei ofício à Presidência da Casa, solicitando autorização para a realização desses eventos regionais. Farei o anúncio neste momento. Depois vou pedir que seja encaminhada a cada um dos gabinetes dos membros da Comissão uma tabela. Mas os que eventualmente não são da Comissão podem agora tomar conhecimento disso. Estão autorizadas estas reuniões, com base no seguinte cronograma: no dia 17 de abril, segunda-feira, no Rio de Janeiro, a requerimento do Deputado Paulo Freire e do Deputado Eduardo Bolsonaro; no dia 24 de abril, em São José dos Campos, São Paulo, conforme proposta do Deputado Flavinho; no dia 28 de abril, em Ariquemes, Rondônia, de acordo com proposta do Deputado Flavinho; no dia 5 de maio, em Campinas, conforme proposta do Deputado Paulo Freire; no dia 12 de maio, em Porto Velho; no dia 15 de maio, em São Paulo, Capital; no dia 19 de maio, em Caruaru, Pernambuco; no dia 26 de maio, em Belo Horizonte, Minas Gerais; no dia 29 de maio, em Salvador, Bahia; no dia 2 de junho, em Porto Alegre, Rio Grande do Sul. Essas são as reuniões regionais que foram aprovadas, por meio de requerimentos aqui apresentados. Pode ser que, nas próximas reuniões, sejam aprovados requerimentos relativos a outras cidades também. Mas, até este momento, são essas as reuniões, que já contam com a autorização do Presidente da Casa. Pode ser que haja alguma alteração, porque há Estados em que acontecerá mais de uma reunião. Talvez ocorra unificação de reuniões em um mesmo Estado. Eu vou comunicando isso aos gabinetes dos Srs. Parlamentares. Nada mais havendo a tratar, vou encerrar os trabalhos, antes convocando reunião para o dia 18 de abril, às 15 horas, em plenário a definir, destinada a audiência pública e deliberação de requerimentos. Agradeço a presença de todos. Está encerrada a presente reunião.']"
      ]
     },
     "execution_count": 23,
     "metadata": {},
     "output_type": "execute_result"
    }
   ],
   "source": [
    "EMPILHADOS[0]"
   ]
  },
  {
   "cell_type": "markdown",
   "id": "e1c4fd84",
   "metadata": {},
   "source": [
    "### Cria uma lista com os discursos de todos os deputados organizado por data"
   ]
  },
  {
   "cell_type": "raw",
   "id": "a67d4c59",
   "metadata": {},
   "source": [
    "Usei Regex para selecionar o nome dos oradores e também o discurso deles na comissão. \n",
    "Fiz isso para quando for selecionar as falas, separar o discurso e os argumentos em defesa e contra ESP.\n",
    "Outra razão para indentificar os atores e seus discursos foi para verifiar os sentidos dos termos doutrinação e ideologia de gênero."
   ]
  },
  {
   "cell_type": "code",
   "execution_count": 30,
   "id": "8156cde1",
   "metadata": {},
   "outputs": [],
   "source": [
    "array_=[]\n",
    "    \n",
    "## Nome e discurso do ator\n",
    "for i,j in zip(tab_todos.Texto, tab_todos.Data.dt.date):\n",
    "    data = str(j)\n",
    "    pattern2 = re.compile(r'[ O SR. | O SRA. ]([\\s\\S]*?)SR.|SRA',re.MULTILINE)\n",
    "    dec2 = re.findall(pattern2,str(i))\n",
    "    salva = pd.DataFrame(dec2, columns=['Discurso'])\n",
    "    salva['Data'] = j\n",
    "    salva['Ano'] = j.year\n",
    "    salva.to_csv(r'./Listas com discursos/' + data + '_texto.csv', sep=';', encoding='utf-8-sig')\n",
    "    \n",
    "    array_.append(salva)\n",
    "    discursos = pd.concat(array_, axis=0)\n",
    "    discursos.to_csv(r'./Listas com discursos/discursos_texto.csv', sep=';', encoding='utf-8-sig')"
   ]
  },
  {
   "cell_type": "markdown",
   "id": "60a8dec6",
   "metadata": {},
   "source": [
    "### Exemplo de discursos após a extração individual"
   ]
  },
  {
   "cell_type": "code",
   "execution_count": 32,
   "id": "2f7734ca",
   "metadata": {},
   "outputs": [
    {
     "data": {
      "text/html": [
       "<div>\n",
       "<style scoped>\n",
       "    .dataframe tbody tr th:only-of-type {\n",
       "        vertical-align: middle;\n",
       "    }\n",
       "\n",
       "    .dataframe tbody tr th {\n",
       "        vertical-align: top;\n",
       "    }\n",
       "\n",
       "    .dataframe thead th {\n",
       "        text-align: right;\n",
       "    }\n",
       "</style>\n",
       "<table border=\"1\" class=\"dataframe\">\n",
       "  <thead>\n",
       "    <tr style=\"text-align: right;\">\n",
       "      <th></th>\n",
       "      <th>Discurso</th>\n",
       "      <th>Data</th>\n",
       "      <th>Ano</th>\n",
       "    </tr>\n",
       "  </thead>\n",
       "  <tbody>\n",
       "    <tr>\n",
       "      <th>0</th>\n",
       "      <td>RA DOS DEPUTADOS DEPARTAMENTO DE TAQUIGRAFIA, ...</td>\n",
       "      <td>2017-02-14</td>\n",
       "      <td>2017</td>\n",
       "    </tr>\n",
       "    <tr>\n",
       "      <th>1</th>\n",
       "      <td>PRESIDENTE (Deputado Marcos Rogério) - Boa tar...</td>\n",
       "      <td>2017-02-14</td>\n",
       "      <td>2017</td>\n",
       "    </tr>\n",
       "    <tr>\n",
       "      <th>2</th>\n",
       "      <td>DEPUTADO PASTOR EURICO - Sr. Presidente! O</td>\n",
       "      <td>2017-02-14</td>\n",
       "      <td>2017</td>\n",
       "    </tr>\n",
       "    <tr>\n",
       "      <th>3</th>\n",
       "      <td>PRESIDENTE (Deputado Marcos Rogério) - Concedo...</td>\n",
       "      <td>2017-02-14</td>\n",
       "      <td>2017</td>\n",
       "    </tr>\n",
       "    <tr>\n",
       "      <th>4</th>\n",
       "      <td>DEPUTADO PASTOR EURICO - A título de sugestão,...</td>\n",
       "      <td>2017-02-14</td>\n",
       "      <td>2017</td>\n",
       "    </tr>\n",
       "    <tr>\n",
       "      <th>...</th>\n",
       "      <td>...</td>\n",
       "      <td>...</td>\n",
       "      <td>...</td>\n",
       "    </tr>\n",
       "    <tr>\n",
       "      <th>886</th>\n",
       "      <td>PR. MARCO FELICIANO (PODE - SP) - Sr. Presiden...</td>\n",
       "      <td>2018-11-22</td>\n",
       "      <td>2018</td>\n",
       "    </tr>\n",
       "    <tr>\n",
       "      <th>887</th>\n",
       "      <td>PRESIDENTE (Marcos Rogério. DEM - RO) - Agrade...</td>\n",
       "      <td>2018-11-22</td>\n",
       "      <td>2018</td>\n",
       "    </tr>\n",
       "    <tr>\n",
       "      <th>888</th>\n",
       "      <td>FLAVINHO (PSC - SP) - Eu tenho plena certeza d...</td>\n",
       "      <td>2018-11-22</td>\n",
       "      <td>2018</td>\n",
       "    </tr>\n",
       "    <tr>\n",
       "      <th>889</th>\n",
       "      <td>PRESIDENTE (Marcos Rogério. DEM - RO) - Esta P...</td>\n",
       "      <td>2018-11-22</td>\n",
       "      <td>2018</td>\n",
       "    </tr>\n",
       "    <tr>\n",
       "      <th>890</th>\n",
       "      <td>SÓSTENES CAVALCANTE (DEM - RJ) - Sr. President...</td>\n",
       "      <td>2018-11-22</td>\n",
       "      <td>2018</td>\n",
       "    </tr>\n",
       "  </tbody>\n",
       "</table>\n",
       "<p>5508 rows × 3 columns</p>\n",
       "</div>"
      ],
      "text/plain": [
       "                                              Discurso        Data   Ano\n",
       "0    RA DOS DEPUTADOS DEPARTAMENTO DE TAQUIGRAFIA, ...  2017-02-14  2017\n",
       "1    PRESIDENTE (Deputado Marcos Rogério) - Boa tar...  2017-02-14  2017\n",
       "2          DEPUTADO PASTOR EURICO - Sr. Presidente! O   2017-02-14  2017\n",
       "3    PRESIDENTE (Deputado Marcos Rogério) - Concedo...  2017-02-14  2017\n",
       "4    DEPUTADO PASTOR EURICO - A título de sugestão,...  2017-02-14  2017\n",
       "..                                                 ...         ...   ...\n",
       "886  PR. MARCO FELICIANO (PODE - SP) - Sr. Presiden...  2018-11-22  2018\n",
       "887  PRESIDENTE (Marcos Rogério. DEM - RO) - Agrade...  2018-11-22  2018\n",
       "888  FLAVINHO (PSC - SP) - Eu tenho plena certeza d...  2018-11-22  2018\n",
       "889  PRESIDENTE (Marcos Rogério. DEM - RO) - Esta P...  2018-11-22  2018\n",
       "890  SÓSTENES CAVALCANTE (DEM - RJ) - Sr. President...  2018-11-22  2018\n",
       "\n",
       "[5508 rows x 3 columns]"
      ]
     },
     "execution_count": 32,
     "metadata": {},
     "output_type": "execute_result"
    }
   ],
   "source": [
    "discursos"
   ]
  },
  {
   "cell_type": "markdown",
   "id": "5b0d7e2b",
   "metadata": {},
   "source": [
    "### Reuniões realizadas por ano"
   ]
  },
  {
   "cell_type": "code",
   "execution_count": 33,
   "id": "2c6c5dc7",
   "metadata": {},
   "outputs": [
    {
     "data": {
      "text/plain": [
       "<AxesSubplot:>"
      ]
     },
     "execution_count": 33,
     "metadata": {},
     "output_type": "execute_result"
    },
    {
     "data": {
      "image/png": "[encoded data removed]",
      "text/plain": [
       "<Figure size 432x288 with 1 Axes>"
      ]
     },
     "metadata": {
      "needs_background": "light"
     },
     "output_type": "display_data"
    }
   ],
   "source": [
    "tab_todos.Ano.value_counts().plot.bar(color='royalblue',alpha=0.8, rot=0)"
   ]
  },
  {
   "cell_type": "markdown",
   "id": "21a6fa0f",
   "metadata": {},
   "source": [
    "### Quantidade de falas mapeadas"
   ]
  },
  {
   "cell_type": "code",
   "execution_count": 34,
   "id": "f418ca04",
   "metadata": {},
   "outputs": [
    {
     "name": "stdout",
     "output_type": "stream",
     "text": [
      "\n",
      "\n",
      "As reuniões da Comissão do ESP geraram 5508 intervenções no total.\n",
      "\n",
      "\n"
     ]
    }
   ],
   "source": [
    "print(f'\\n')\n",
    "print(f'As reuniões da Comissão do ESP geraram {discursos.shape[0]} intervenções no total.')\n",
    "print(f'\\n')"
   ]
  },
  {
   "cell_type": "markdown",
   "id": "9e533563",
   "metadata": {},
   "source": [
    "### Falas por ano"
   ]
  },
  {
   "cell_type": "code",
   "execution_count": 35,
   "id": "9aae91a3",
   "metadata": {},
   "outputs": [
    {
     "data": {
      "text/plain": [
       "<AxesSubplot:>"
      ]
     },
     "execution_count": 35,
     "metadata": {},
     "output_type": "execute_result"
    },
    {
     "data": {
      "image/png": "[encoded data removed]",
      "text/plain": [
       "<Figure size 432x288 with 1 Axes>"
      ]
     },
     "metadata": {
      "needs_background": "light"
     },
     "output_type": "display_data"
    }
   ],
   "source": [
    "discursos.Ano.value_counts().sort_index().plot.bar(color='lightcoral',rot=0)"
   ]
  },
  {
   "cell_type": "code",
   "execution_count": 36,
   "id": "57099c3d",
   "metadata": {},
   "outputs": [
    {
     "data": {
      "text/plain": [
       "min         1.000000\n",
       "max       891.000000\n",
       "mean      273.714286\n",
       "std       278.280553\n",
       "median    195.000000\n",
       "Name: Data, dtype: float64"
      ]
     },
     "execution_count": 36,
     "metadata": {},
     "output_type": "execute_result"
    }
   ],
   "source": [
    "discursos[discursos['Ano']==2018].Data.value_counts().sort_index(ascending=True).agg(['min', 'max', 'mean','std', 'median'])"
   ]
  },
  {
   "cell_type": "code",
   "execution_count": 37,
   "id": "09e7b36d",
   "metadata": {},
   "outputs": [
    {
     "data": {
      "image/png": "[encoded data removed]",
      "text/plain": [
       "<Figure size 1008x360 with 2 Axes>"
      ]
     },
     "metadata": {
      "needs_background": "light"
     },
     "output_type": "display_data"
    }
   ],
   "source": [
    "fig, axarr = plt.subplots(1, 2, figsize=(14,5))\n",
    "\n",
    "fig.suptitle('(Gráfico 1) - Participação de Deputados na Comisão Escola sem Partido por ano (55a Leg.)',fontsize=16,y=1.)\n",
    "\n",
    "discursos[discursos['Ano']==2017].Data.value_counts().sort_index(ascending=True).plot.barh(\n",
    "    ax=axarr[0],fontsize=12,color=\"lightcoral\",alpha=0.9\n",
    ")\n",
    "axarr[0].set_title(\"Ano de 2017\", fontsize=14)\n",
    "axarr[0].set_xlabel(\"Discursos proferidos\")\n",
    "axarr[0].set_ylabel(\"Data da Audiência Pública\")\n",
    "axarr[0].grid(False)\n",
    "axarr[0].set_facecolor('w')\n",
    "axarr[0].axvline(88, color='k', linestyle='dashed', linewidth=1)\n",
    "axarr[0].axvline(166, color='g', linestyle='dashed', linewidth=1)\n",
    "axarr[0].text(88,15, 'Média 2017')\n",
    "axarr[0].text(166,12, 'Média geral')\n",
    "\n",
    "\n",
    "discursos[discursos['Ano']==2018].Data.value_counts().sort_index(ascending=True).plot.barh(\n",
    "    ax=axarr[1],fontsize=12,color=\"royalblue\",alpha=0.8\n",
    ")\n",
    "axarr[1].set_title(\"Ano de 2018\", fontsize=14)\n",
    "axarr[1].set_xlabel(\"Discursos proferidos\")\n",
    "axarr[1].grid(False)\n",
    "axarr[1].set_facecolor('w')\n",
    "\n",
    "\n",
    "plt.subplots_adjust(hspace=2)\n",
    "\n",
    "import seaborn as sns\n",
    "sns.despine()\n",
    "\n",
    "plt.savefig('Participação_ESP_Data_Debate.png', bbox_inches=\"tight\")"
   ]
  },
  {
   "cell_type": "markdown",
   "id": "32ef9637",
   "metadata": {},
   "source": [
    "### Insere coluna com os nomes dos deputados"
   ]
  },
  {
   "cell_type": "code",
   "execution_count": 41,
   "id": "3227d99f",
   "metadata": {},
   "outputs": [],
   "source": [
    "## Importa arquivo classificado\n",
    "clas = pd.read_csv(r'./Listas com discursos/discursos_texto_class.csv', sep=';',index_col=0, header=0, encoding='utf-8-sig')"
   ]
  },
  {
   "cell_type": "code",
   "execution_count": 42,
   "id": "4687e882",
   "metadata": {},
   "outputs": [
    {
     "data": {
      "text/html": [
       "<div>\n",
       "<style scoped>\n",
       "    .dataframe tbody tr th:only-of-type {\n",
       "        vertical-align: middle;\n",
       "    }\n",
       "\n",
       "    .dataframe tbody tr th {\n",
       "        vertical-align: top;\n",
       "    }\n",
       "\n",
       "    .dataframe thead th {\n",
       "        text-align: right;\n",
       "    }\n",
       "</style>\n",
       "<table border=\"1\" class=\"dataframe\">\n",
       "  <thead>\n",
       "    <tr style=\"text-align: right;\">\n",
       "      <th></th>\n",
       "      <th>Discurso</th>\n",
       "      <th>Data</th>\n",
       "      <th>Ano</th>\n",
       "      <th>tipo</th>\n",
       "    </tr>\n",
       "  </thead>\n",
       "  <tbody>\n",
       "    <tr>\n",
       "      <th>888</th>\n",
       "      <td>FLAVINHO (PSC - SP) - Eu tenho plena certeza d...</td>\n",
       "      <td>22/11/2018</td>\n",
       "      <td>2018</td>\n",
       "      <td>2</td>\n",
       "    </tr>\n",
       "    <tr>\n",
       "      <th>889</th>\n",
       "      <td>PRESIDENTE (Marcos Rogério. DEM - RO) - Esta P...</td>\n",
       "      <td>22/11/2018</td>\n",
       "      <td>2018</td>\n",
       "      <td>2</td>\n",
       "    </tr>\n",
       "    <tr>\n",
       "      <th>890</th>\n",
       "      <td>SÓSTENES CAVALCANTE (DEM - RJ) - Sr. President...</td>\n",
       "      <td>22/11/2018</td>\n",
       "      <td>2018</td>\n",
       "      <td>2</td>\n",
       "    </tr>\n",
       "  </tbody>\n",
       "</table>\n",
       "</div>"
      ],
      "text/plain": [
       "                                              Discurso        Data   Ano  tipo\n",
       "888  FLAVINHO (PSC - SP) - Eu tenho plena certeza d...  22/11/2018  2018     2\n",
       "889  PRESIDENTE (Marcos Rogério. DEM - RO) - Esta P...  22/11/2018  2018     2\n",
       "890  SÓSTENES CAVALCANTE (DEM - RJ) - Sr. President...  22/11/2018  2018     2"
      ]
     },
     "execution_count": 42,
     "metadata": {},
     "output_type": "execute_result"
    }
   ],
   "source": [
    "clas.tail(3)"
   ]
  },
  {
   "cell_type": "code",
   "execution_count": 43,
   "id": "fcd4a956",
   "metadata": {},
   "outputs": [],
   "source": [
    "## cria a variável e salva os valores\n",
    "clas['Ator'] = [re.split('-', i, 1)[0] for i in clas.Discurso]"
   ]
  },
  {
   "cell_type": "code",
   "execution_count": 44,
   "id": "bd51b4c7",
   "metadata": {},
   "outputs": [],
   "source": [
    "## Cria variável de nomes para manipulação\n",
    "clas['Nome'] = clas.Ator"
   ]
  },
  {
   "cell_type": "code",
   "execution_count": 45,
   "id": "183124ae",
   "metadata": {},
   "outputs": [],
   "source": [
    "## Faz o tratamento dos dados, substituíndo valores\n",
    "clas['Nome'] = [i.replace('PRESIDENTE ','').replace('PRESIIDENTE ','').replace('DEPUTADO ','').replace('DEPUTADA ','').replace('Deputado ','').replace('Deputada ','').replace('(','').replace(')','').title().strip().replace('Thomas Guilliano','Thomas Giulliano').replace('João Luiz Cesarino Rosa','João Luiz Cesarino Da Rosa').replace('. Dem','').replace(' Pcdob','').replace(' Pt','').replace(' Psc','').replace(' Psdb','').replace(' Pode','').replace(' Psol','').replace(' Prb','').replace(' Pr','').replace(' Bloco/Pp','').replace('. Patri','').replace(' Psb','').replace(' Pdt','').replace(' Dem','').replace(' Patri','').replace(' Psd','').replace(' Bloco/Ptb','').replace(' Bloco/Pode','').replace(' Psl','').replace('a.','a').replace('y.','y').replace('l.','l').replace('Deputadaofessora Marcivania','Deputada Professora Marcivania') for i in clas['Nome']]"
   ]
  },
  {
   "cell_type": "code",
   "execution_count": 46,
   "id": "b01bcdbf",
   "metadata": {},
   "outputs": [],
   "source": [
    "## Variavel nome aplicar Title()\n",
    "clas.Nome = [i.strip().title() for i in clas.Nome]"
   ]
  },
  {
   "cell_type": "code",
   "execution_count": 47,
   "id": "92877023",
   "metadata": {},
   "outputs": [],
   "source": [
    "## Deletar células com valor == zero, que referem-se a informação sobre as reuniões.\n",
    "clas = clas.drop(labels=0, axis=0)"
   ]
  },
  {
   "cell_type": "code",
   "execution_count": 48,
   "id": "aaaecbc4",
   "metadata": {},
   "outputs": [],
   "source": [
    "## Remover o Index do banco\n",
    "#clas.reset_index()"
   ]
  },
  {
   "cell_type": "markdown",
   "id": "74a5a1d1",
   "metadata": {},
   "source": [
    "### Exemplo da saída após a filtragem"
   ]
  },
  {
   "cell_type": "code",
   "execution_count": 50,
   "id": "7d55e2c4",
   "metadata": {},
   "outputs": [
    {
     "data": {
      "text/html": [
       "<div>\n",
       "<style scoped>\n",
       "    .dataframe tbody tr th:only-of-type {\n",
       "        vertical-align: middle;\n",
       "    }\n",
       "\n",
       "    .dataframe tbody tr th {\n",
       "        vertical-align: top;\n",
       "    }\n",
       "\n",
       "    .dataframe thead th {\n",
       "        text-align: right;\n",
       "    }\n",
       "</style>\n",
       "<table border=\"1\" class=\"dataframe\">\n",
       "  <thead>\n",
       "    <tr style=\"text-align: right;\">\n",
       "      <th></th>\n",
       "      <th>Discurso</th>\n",
       "      <th>Data</th>\n",
       "      <th>Ano</th>\n",
       "      <th>tipo</th>\n",
       "      <th>Ator</th>\n",
       "      <th>Nome</th>\n",
       "    </tr>\n",
       "  </thead>\n",
       "  <tbody>\n",
       "    <tr>\n",
       "      <th>1</th>\n",
       "      <td>PRESIDENTE (Deputado Marcos Rogério) - Boa tar...</td>\n",
       "      <td>14/02/2017</td>\n",
       "      <td>2017</td>\n",
       "      <td>1</td>\n",
       "      <td>PRESIDENTE (Deputado Marcos Rogério)</td>\n",
       "      <td>Marcos Rogério</td>\n",
       "    </tr>\n",
       "    <tr>\n",
       "      <th>2</th>\n",
       "      <td>DEPUTADO PASTOR EURICO - Sr. Presidente! O</td>\n",
       "      <td>14/02/2017</td>\n",
       "      <td>2017</td>\n",
       "      <td>1</td>\n",
       "      <td>DEPUTADO PASTOR EURICO</td>\n",
       "      <td>Pastor Eurico</td>\n",
       "    </tr>\n",
       "    <tr>\n",
       "      <th>3</th>\n",
       "      <td>PRESIDENTE (Deputado Marcos Rogério) - Concedo...</td>\n",
       "      <td>14/02/2017</td>\n",
       "      <td>2017</td>\n",
       "      <td>1</td>\n",
       "      <td>PRESIDENTE (Deputado Marcos Rogério)</td>\n",
       "      <td>Marcos Rogério</td>\n",
       "    </tr>\n",
       "    <tr>\n",
       "      <th>4</th>\n",
       "      <td>DEPUTADO PASTOR EURICO - A título de sugestão,...</td>\n",
       "      <td>14/02/2017</td>\n",
       "      <td>2017</td>\n",
       "      <td>1</td>\n",
       "      <td>DEPUTADO PASTOR EURICO</td>\n",
       "      <td>Pastor Eurico</td>\n",
       "    </tr>\n",
       "    <tr>\n",
       "      <th>5</th>\n",
       "      <td>PRESIDENTE (Deputado Marcos Rogério) - Agradeç...</td>\n",
       "      <td>14/02/2017</td>\n",
       "      <td>2017</td>\n",
       "      <td>1</td>\n",
       "      <td>PRESIDENTE (Deputado Marcos Rogério)</td>\n",
       "      <td>Marcos Rogério</td>\n",
       "    </tr>\n",
       "  </tbody>\n",
       "</table>\n",
       "</div>"
      ],
      "text/plain": [
       "                                            Discurso        Data   Ano  tipo  \\\n",
       "1  PRESIDENTE (Deputado Marcos Rogério) - Boa tar...  14/02/2017  2017     1   \n",
       "2        DEPUTADO PASTOR EURICO - Sr. Presidente! O   14/02/2017  2017     1   \n",
       "3  PRESIDENTE (Deputado Marcos Rogério) - Concedo...  14/02/2017  2017     1   \n",
       "4  DEPUTADO PASTOR EURICO - A título de sugestão,...  14/02/2017  2017     1   \n",
       "5  PRESIDENTE (Deputado Marcos Rogério) - Agradeç...  14/02/2017  2017     1   \n",
       "\n",
       "                                    Ator            Nome  \n",
       "1  PRESIDENTE (Deputado Marcos Rogério)   Marcos Rogério  \n",
       "2                DEPUTADO PASTOR EURICO    Pastor Eurico  \n",
       "3  PRESIDENTE (Deputado Marcos Rogério)   Marcos Rogério  \n",
       "4                DEPUTADO PASTOR EURICO    Pastor Eurico  \n",
       "5  PRESIDENTE (Deputado Marcos Rogério)   Marcos Rogério  "
      ]
     },
     "execution_count": 50,
     "metadata": {},
     "output_type": "execute_result"
    }
   ],
   "source": [
    "clas.head()"
   ]
  },
  {
   "cell_type": "markdown",
   "id": "ec8b5e65",
   "metadata": {},
   "source": [
    "### Coluna Discurso sem os dados do ator"
   ]
  },
  {
   "cell_type": "code",
   "execution_count": 51,
   "id": "b550e346",
   "metadata": {},
   "outputs": [],
   "source": [
    "## filtragem do tipo 1\n",
    "clas['DiscursoLimpo'] = [re.split('-', i, 1)[1] for i in clas.Discurso]"
   ]
  },
  {
   "cell_type": "code",
   "execution_count": 52,
   "id": "c82335df",
   "metadata": {},
   "outputs": [
    {
     "name": "stderr",
     "output_type": "stream",
     "text": [
      "C:\\Users\\ANDREG~1\\AppData\\Local\\Temp/ipykernel_6108/3658036674.py:5: SettingWithCopyWarning: \n",
      "A value is trying to be set on a copy of a slice from a DataFrame.\n",
      "Try using .loc[row_indexer,col_indexer] = value instead\n",
      "\n",
      "See the caveats in the documentation: https://pandas.pydata.org/pandas-docs/stable/user_guide/indexing.html#returning-a-view-versus-a-copy\n",
      "  banco_tipo2['DiscursoLimpo'] = [re.split('\\)\\ - ', i, 1)[1] for i in banco_tipo2['Discurso']]\n"
     ]
    }
   ],
   "source": [
    "## filtragem do tipo 2\n",
    "banco_tipo2 = clas[clas['tipo']==2]\n",
    "\n",
    "## salva valores já filtrados\n",
    "banco_tipo2['DiscursoLimpo'] = [re.split('\\)\\ - ', i, 1)[1] for i in banco_tipo2['Discurso']]"
   ]
  },
  {
   "cell_type": "markdown",
   "id": "bd7a5153",
   "metadata": {},
   "source": [
    "### Contatena banco tipo 2 com o banco geral"
   ]
  },
  {
   "cell_type": "code",
   "execution_count": 53,
   "id": "5dd1f1fa",
   "metadata": {},
   "outputs": [],
   "source": [
    "# concat\n",
    "banco_merged = pd.concat([clas[clas['tipo']==1],banco_tipo2], axis=0)"
   ]
  },
  {
   "cell_type": "code",
   "execution_count": 54,
   "id": "0f4314c6",
   "metadata": {},
   "outputs": [
    {
     "data": {
      "text/plain": [
       "(5475, 4)"
      ]
     },
     "execution_count": 54,
     "metadata": {},
     "output_type": "execute_result"
    }
   ],
   "source": [
    "## junta os bancos e usa as colunas filtradas\n",
    "banco_merged_filtrado = banco_merged[['Data', 'Ano', 'Nome', 'DiscursoLimpo']]\n",
    "banco_merged_filtrado.shape"
   ]
  },
  {
   "cell_type": "markdown",
   "id": "fef4852e",
   "metadata": {},
   "source": [
    "### Junta banco de falas com o banco dos integrantes do ESP por religião e partido"
   ]
  },
  {
   "cell_type": "code",
   "execution_count": 56,
   "id": "d19cec47",
   "metadata": {},
   "outputs": [],
   "source": [
    "rel = pd.read_csv(r'./Lista deputados religiosos do ESP/esp_partidos.csv', sep=';', header=0, encoding='cp1252')"
   ]
  },
  {
   "cell_type": "code",
   "execution_count": 58,
   "id": "23f409ff",
   "metadata": {},
   "outputs": [
    {
     "data": {
      "text/html": [
       "<div>\n",
       "<style scoped>\n",
       "    .dataframe tbody tr th:only-of-type {\n",
       "        vertical-align: middle;\n",
       "    }\n",
       "\n",
       "    .dataframe tbody tr th {\n",
       "        vertical-align: top;\n",
       "    }\n",
       "\n",
       "    .dataframe thead th {\n",
       "        text-align: right;\n",
       "    }\n",
       "</style>\n",
       "<table border=\"1\" class=\"dataframe\">\n",
       "  <thead>\n",
       "    <tr style=\"text-align: right;\">\n",
       "      <th></th>\n",
       "      <th>deputadoid</th>\n",
       "      <th>ESP</th>\n",
       "      <th>dataEntrada</th>\n",
       "      <th>dataSaida</th>\n",
       "      <th>ano</th>\n",
       "      <th>condicaoMembro</th>\n",
       "      <th>Parlamentar</th>\n",
       "      <th>Denominação</th>\n",
       "      <th>author1_party_abr</th>\n",
       "      <th>author1_state</th>\n",
       "      <th>rel</th>\n",
       "    </tr>\n",
       "  </thead>\n",
       "  <tbody>\n",
       "    <tr>\n",
       "      <th>0</th>\n",
       "      <td>178836</td>\n",
       "      <td>1.0</td>\n",
       "      <td>05/10/2016</td>\n",
       "      <td>31/12/2018</td>\n",
       "      <td>2016.0</td>\n",
       "      <td>Titular</td>\n",
       "      <td>Alan Rick</td>\n",
       "      <td>Batista</td>\n",
       "      <td>PRB</td>\n",
       "      <td>AC</td>\n",
       "      <td>ev</td>\n",
       "    </tr>\n",
       "    <tr>\n",
       "      <th>1</th>\n",
       "      <td>74057</td>\n",
       "      <td>1.0</td>\n",
       "      <td>03/07/2018</td>\n",
       "      <td>31/12/2018</td>\n",
       "      <td>2018.0</td>\n",
       "      <td>Suplente</td>\n",
       "      <td>ALICE PORTUGAL</td>\n",
       "      <td>NaN</td>\n",
       "      <td>PCdoB</td>\n",
       "      <td>BA</td>\n",
       "      <td>nd</td>\n",
       "    </tr>\n",
       "    <tr>\n",
       "      <th>2</th>\n",
       "      <td>141383</td>\n",
       "      <td>1.0</td>\n",
       "      <td>05/10/2016</td>\n",
       "      <td>31/12/2018</td>\n",
       "      <td>2016.0</td>\n",
       "      <td>Titular</td>\n",
       "      <td>ANTONIO BULHÕES</td>\n",
       "      <td>IURD</td>\n",
       "      <td>PRB</td>\n",
       "      <td>SP</td>\n",
       "      <td>ev</td>\n",
       "    </tr>\n",
       "    <tr>\n",
       "      <th>3</th>\n",
       "      <td>73434</td>\n",
       "      <td>1.0</td>\n",
       "      <td>05/10/2016</td>\n",
       "      <td>31/12/2018</td>\n",
       "      <td>2016.0</td>\n",
       "      <td>Suplente</td>\n",
       "      <td>ARNALDO FARIA DE SÁ</td>\n",
       "      <td>NaN</td>\n",
       "      <td>PTB</td>\n",
       "      <td>SP</td>\n",
       "      <td>nd</td>\n",
       "    </tr>\n",
       "    <tr>\n",
       "      <th>4</th>\n",
       "      <td>74459</td>\n",
       "      <td>1.0</td>\n",
       "      <td>15/02/2017</td>\n",
       "      <td>31/12/2018</td>\n",
       "      <td>2017.0</td>\n",
       "      <td>Suplente</td>\n",
       "      <td>ÁTILA LIRA</td>\n",
       "      <td>NaN</td>\n",
       "      <td>PSB</td>\n",
       "      <td>PI</td>\n",
       "      <td>nd</td>\n",
       "    </tr>\n",
       "  </tbody>\n",
       "</table>\n",
       "</div>"
      ],
      "text/plain": [
       "   deputadoid  ESP dataEntrada   dataSaida     ano condicaoMembro  \\\n",
       "0      178836  1.0  05/10/2016  31/12/2018  2016.0        Titular   \n",
       "1       74057  1.0  03/07/2018  31/12/2018  2018.0       Suplente   \n",
       "2      141383  1.0  05/10/2016  31/12/2018  2016.0        Titular   \n",
       "3       73434  1.0  05/10/2016  31/12/2018  2016.0       Suplente   \n",
       "4       74459  1.0  15/02/2017  31/12/2018  2017.0       Suplente   \n",
       "\n",
       "           Parlamentar Denominação author1_party_abr author1_state rel  \n",
       "0            Alan Rick     Batista        PRB                   AC  ev  \n",
       "1       ALICE PORTUGAL         NaN        PCdoB                 BA  nd  \n",
       "2      ANTONIO BULHÕES        IURD        PRB                   SP  ev  \n",
       "3  ARNALDO FARIA DE SÁ         NaN        PTB                   SP  nd  \n",
       "4           ÁTILA LIRA         NaN        PSB                   PI  nd  "
      ]
     },
     "execution_count": 58,
     "metadata": {},
     "output_type": "execute_result"
    }
   ],
   "source": [
    "rel.head()"
   ]
  },
  {
   "cell_type": "code",
   "execution_count": 59,
   "id": "732fc22a",
   "metadata": {},
   "outputs": [],
   "source": [
    "rel.columns = rel.columns.str.replace('Parlamentar', 'Nome')\n",
    "rel.Nome = rel.Nome.astype(str)\n",
    "rel.Nome = [i.strip().title() for i in rel.Nome]"
   ]
  },
  {
   "cell_type": "code",
   "execution_count": 60,
   "id": "7d838300",
   "metadata": {},
   "outputs": [],
   "source": [
    "## Merge bancos rel e banco_merged\n",
    "merge_esp_rel = pd.merge(banco_merged_filtrado,rel, on='Nome', how='left')\n",
    "merge_esp = pd.DataFrame(merge_esp_rel)"
   ]
  },
  {
   "cell_type": "code",
   "execution_count": 61,
   "id": "1d716f6a",
   "metadata": {},
   "outputs": [
    {
     "name": "stdout",
     "output_type": "stream",
     "text": [
      "<class 'pandas.core.frame.DataFrame'>\n",
      "Int64Index: 5475 entries, 0 to 5474\n",
      "Data columns (total 14 columns):\n",
      " #   Column             Non-Null Count  Dtype  \n",
      "---  ------             --------------  -----  \n",
      " 0   Data               5474 non-null   object \n",
      " 1   Ano                5475 non-null   int64  \n",
      " 2   Nome               5475 non-null   object \n",
      " 3   DiscursoLimpo      5475 non-null   object \n",
      " 4   deputadoid         5046 non-null   float64\n",
      " 5   ESP                4963 non-null   float64\n",
      " 6   dataEntrada        4963 non-null   object \n",
      " 7   dataSaida          4963 non-null   object \n",
      " 8   ano                4963 non-null   float64\n",
      " 9   condicaoMembro     4963 non-null   object \n",
      " 10  Denominação        3043 non-null   object \n",
      " 11  author1_party_abr  5046 non-null   object \n",
      " 12  author1_state      5046 non-null   object \n",
      " 13  rel                5046 non-null   object \n",
      "dtypes: float64(3), int64(1), object(10)\n",
      "memory usage: 641.6+ KB\n"
     ]
    }
   ],
   "source": [
    "merge_esp.info()"
   ]
  },
  {
   "cell_type": "markdown",
   "id": "621cb421",
   "metadata": {},
   "source": [
    "### Importa banco com o posicionamento pró e contra o ESP"
   ]
  },
  {
   "cell_type": "code",
   "execution_count": 63,
   "id": "9774276c",
   "metadata": {},
   "outputs": [],
   "source": [
    "pro_contra_esp = pd.read_csv(r'./Lista pros contras audiencias ESP/lista_pros_contras_audiencias_esp.csv', sep=';', header=0, encoding='cp1252')"
   ]
  },
  {
   "cell_type": "code",
   "execution_count": 64,
   "id": "351d1c29",
   "metadata": {},
   "outputs": [
    {
     "data": {
      "text/html": [
       "<div>\n",
       "<style scoped>\n",
       "    .dataframe tbody tr th:only-of-type {\n",
       "        vertical-align: middle;\n",
       "    }\n",
       "\n",
       "    .dataframe tbody tr th {\n",
       "        vertical-align: top;\n",
       "    }\n",
       "\n",
       "    .dataframe thead th {\n",
       "        text-align: right;\n",
       "    }\n",
       "</style>\n",
       "<table border=\"1\" class=\"dataframe\">\n",
       "  <thead>\n",
       "    <tr style=\"text-align: right;\">\n",
       "      <th></th>\n",
       "      <th>deputadoid</th>\n",
       "      <th>Nome</th>\n",
       "      <th>sit_opus</th>\n",
       "    </tr>\n",
       "  </thead>\n",
       "  <tbody>\n",
       "    <tr>\n",
       "      <th>0</th>\n",
       "      <td>178836</td>\n",
       "      <td>Alan Rick</td>\n",
       "      <td>Pro-ESP</td>\n",
       "    </tr>\n",
       "    <tr>\n",
       "      <th>1</th>\n",
       "      <td>74057</td>\n",
       "      <td>Alice Portugal</td>\n",
       "      <td>Contra-ESP</td>\n",
       "    </tr>\n",
       "  </tbody>\n",
       "</table>\n",
       "</div>"
      ],
      "text/plain": [
       "   deputadoid            Nome    sit_opus\n",
       "0      178836       Alan Rick     Pro-ESP\n",
       "1       74057  Alice Portugal  Contra-ESP"
      ]
     },
     "execution_count": 64,
     "metadata": {},
     "output_type": "execute_result"
    }
   ],
   "source": [
    "pro_contra_esp.head(2)"
   ]
  },
  {
   "cell_type": "code",
   "execution_count": 65,
   "id": "77fd5351",
   "metadata": {},
   "outputs": [],
   "source": [
    "merge_comissao = pd.merge(merge_esp, pro_contra_esp, on=['Nome'], how='left')\n",
    "merge_esp_pro_contra = pd.DataFrame(merge_comissao)"
   ]
  },
  {
   "cell_type": "code",
   "execution_count": 66,
   "id": "fdd60878",
   "metadata": {},
   "outputs": [],
   "source": [
    "## declara colunas int\n",
    "merge_esp_pro_contra = merge_esp_pro_contra.fillna(0).astype({'ESP':int,'ano':int,'Ano':int,'deputadoid_x':int,'deputadoid_y':int})"
   ]
  },
  {
   "cell_type": "markdown",
   "id": "2c26a3e8",
   "metadata": {},
   "source": [
    "## Exporta arquivos final para análise."
   ]
  },
  {
   "cell_type": "code",
   "execution_count": 68,
   "id": "8a7945f8",
   "metadata": {},
   "outputs": [],
   "source": [
    "## Contra-ESP\n",
    "contra_esp = merge_esp_pro_contra[merge_esp_pro_contra['sit_opus']=='Pro-ESP']\n",
    "contra_esp.to_csv(r'./Banco Final/bancofinal_ContraESP.csv', sep=';', header=True, encoding='cp1252')\n",
    "\n",
    "## Pró-ESP\n",
    "pro_esp = merge_esp_pro_contra[merge_esp_pro_contra['sit_opus']=='Pro-ESP']\n",
    "pro_esp.to_csv(r'./Banco Final/bancofinal_ProESP.csv', sep=';', header=True, encoding='cp1252')\n",
    "\n",
    "## Geral\n",
    "merge_esp_pro_contra.to_csv(r'./Banco Final/bancofinalcompleto.csv', sep=';', header=True, encoding='cp1252')"
   ]
  },
  {
   "cell_type": "markdown",
   "id": "6c53efdf",
   "metadata": {},
   "source": [
    "### Exemplo do arquivo final"
   ]
  },
  {
   "cell_type": "code",
   "execution_count": 70,
   "id": "bd9984fa",
   "metadata": {},
   "outputs": [
    {
     "data": {
      "text/html": [
       "<div>\n",
       "<style scoped>\n",
       "    .dataframe tbody tr th:only-of-type {\n",
       "        vertical-align: middle;\n",
       "    }\n",
       "\n",
       "    .dataframe tbody tr th {\n",
       "        vertical-align: top;\n",
       "    }\n",
       "\n",
       "    .dataframe thead th {\n",
       "        text-align: right;\n",
       "    }\n",
       "</style>\n",
       "<table border=\"1\" class=\"dataframe\">\n",
       "  <thead>\n",
       "    <tr style=\"text-align: right;\">\n",
       "      <th></th>\n",
       "      <th>Data</th>\n",
       "      <th>Ano</th>\n",
       "      <th>Nome</th>\n",
       "      <th>DiscursoLimpo</th>\n",
       "      <th>deputadoid_x</th>\n",
       "      <th>ESP</th>\n",
       "      <th>dataEntrada</th>\n",
       "      <th>dataSaida</th>\n",
       "      <th>ano</th>\n",
       "      <th>condicaoMembro</th>\n",
       "      <th>Denominação</th>\n",
       "      <th>author1_party_abr</th>\n",
       "      <th>author1_state</th>\n",
       "      <th>rel</th>\n",
       "      <th>deputadoid_y</th>\n",
       "      <th>sit_opus</th>\n",
       "    </tr>\n",
       "  </thead>\n",
       "  <tbody>\n",
       "    <tr>\n",
       "      <th>0</th>\n",
       "      <td>14/02/2017</td>\n",
       "      <td>2017</td>\n",
       "      <td>Marcos Rogério</td>\n",
       "      <td>Boa tarde a todos. Nos termos regimentais, de...</td>\n",
       "      <td>167722</td>\n",
       "      <td>1</td>\n",
       "      <td>05/10/2016</td>\n",
       "      <td>31/12/2018</td>\n",
       "      <td>2016</td>\n",
       "      <td>Titular</td>\n",
       "      <td>Assembleia de Deus</td>\n",
       "      <td>PDT</td>\n",
       "      <td>RO</td>\n",
       "      <td>ev</td>\n",
       "      <td>167722</td>\n",
       "      <td>Pro-ESP</td>\n",
       "    </tr>\n",
       "    <tr>\n",
       "      <th>1</th>\n",
       "      <td>14/02/2017</td>\n",
       "      <td>2017</td>\n",
       "      <td>Pastor Eurico</td>\n",
       "      <td>Sr. Presidente! O</td>\n",
       "      <td>160642</td>\n",
       "      <td>1</td>\n",
       "      <td>05/10/2016</td>\n",
       "      <td>31/12/2018</td>\n",
       "      <td>2016</td>\n",
       "      <td>Titular</td>\n",
       "      <td>Assembleia de Deus</td>\n",
       "      <td>PSB</td>\n",
       "      <td>PE</td>\n",
       "      <td>ev</td>\n",
       "      <td>160642</td>\n",
       "      <td>Pro-ESP</td>\n",
       "    </tr>\n",
       "    <tr>\n",
       "      <th>2</th>\n",
       "      <td>14/02/2017</td>\n",
       "      <td>2017</td>\n",
       "      <td>Marcos Rogério</td>\n",
       "      <td>Concedo a palavra ao Deputado Pastor Eurico. O</td>\n",
       "      <td>167722</td>\n",
       "      <td>1</td>\n",
       "      <td>05/10/2016</td>\n",
       "      <td>31/12/2018</td>\n",
       "      <td>2016</td>\n",
       "      <td>Titular</td>\n",
       "      <td>Assembleia de Deus</td>\n",
       "      <td>PDT</td>\n",
       "      <td>RO</td>\n",
       "      <td>ev</td>\n",
       "      <td>167722</td>\n",
       "      <td>Pro-ESP</td>\n",
       "    </tr>\n",
       "    <tr>\n",
       "      <th>3</th>\n",
       "      <td>14/02/2017</td>\n",
       "      <td>2017</td>\n",
       "      <td>Pastor Eurico</td>\n",
       "      <td>A título de sugestão, que é importante para o...</td>\n",
       "      <td>160642</td>\n",
       "      <td>1</td>\n",
       "      <td>05/10/2016</td>\n",
       "      <td>31/12/2018</td>\n",
       "      <td>2016</td>\n",
       "      <td>Titular</td>\n",
       "      <td>Assembleia de Deus</td>\n",
       "      <td>PSB</td>\n",
       "      <td>PE</td>\n",
       "      <td>ev</td>\n",
       "      <td>160642</td>\n",
       "      <td>Pro-ESP</td>\n",
       "    </tr>\n",
       "    <tr>\n",
       "      <th>4</th>\n",
       "      <td>14/02/2017</td>\n",
       "      <td>2017</td>\n",
       "      <td>Marcos Rogério</td>\n",
       "      <td>Agradeço a V.Exa. a lembrança. Na sessão ante...</td>\n",
       "      <td>167722</td>\n",
       "      <td>1</td>\n",
       "      <td>05/10/2016</td>\n",
       "      <td>31/12/2018</td>\n",
       "      <td>2016</td>\n",
       "      <td>Titular</td>\n",
       "      <td>Assembleia de Deus</td>\n",
       "      <td>PDT</td>\n",
       "      <td>RO</td>\n",
       "      <td>ev</td>\n",
       "      <td>167722</td>\n",
       "      <td>Pro-ESP</td>\n",
       "    </tr>\n",
       "  </tbody>\n",
       "</table>\n",
       "</div>"
      ],
      "text/plain": [
       "         Data   Ano            Nome  \\\n",
       "0  14/02/2017  2017  Marcos Rogério   \n",
       "1  14/02/2017  2017   Pastor Eurico   \n",
       "2  14/02/2017  2017  Marcos Rogério   \n",
       "3  14/02/2017  2017   Pastor Eurico   \n",
       "4  14/02/2017  2017  Marcos Rogério   \n",
       "\n",
       "                                       DiscursoLimpo  deputadoid_x  ESP  \\\n",
       "0   Boa tarde a todos. Nos termos regimentais, de...        167722    1   \n",
       "1                                 Sr. Presidente! O         160642    1   \n",
       "2    Concedo a palavra ao Deputado Pastor Eurico. O         167722    1   \n",
       "3   A título de sugestão, que é importante para o...        160642    1   \n",
       "4   Agradeço a V.Exa. a lembrança. Na sessão ante...        167722    1   \n",
       "\n",
       "  dataEntrada   dataSaida   ano condicaoMembro         Denominação  \\\n",
       "0  05/10/2016  31/12/2018  2016        Titular  Assembleia de Deus   \n",
       "1  05/10/2016  31/12/2018  2016        Titular  Assembleia de Deus   \n",
       "2  05/10/2016  31/12/2018  2016        Titular  Assembleia de Deus   \n",
       "3  05/10/2016  31/12/2018  2016        Titular  Assembleia de Deus   \n",
       "4  05/10/2016  31/12/2018  2016        Titular  Assembleia de Deus   \n",
       "\n",
       "  author1_party_abr author1_state rel  deputadoid_y sit_opus  \n",
       "0        PDT                   RO  ev        167722  Pro-ESP  \n",
       "1        PSB                   PE  ev        160642  Pro-ESP  \n",
       "2        PDT                   RO  ev        167722  Pro-ESP  \n",
       "3        PSB                   PE  ev        160642  Pro-ESP  \n",
       "4        PDT                   RO  ev        167722  Pro-ESP  "
      ]
     },
     "execution_count": 70,
     "metadata": {},
     "output_type": "execute_result"
    }
   ],
   "source": [
    "merge_esp_pro_contra.head(5)"
   ]
  },
  {
   "cell_type": "code",
   "execution_count": 78,
   "id": "9a1730b2",
   "metadata": {},
   "outputs": [
    {
     "name": "stdout",
     "output_type": "stream",
     "text": [
      "\n",
      "\n",
      "**O banco final possui 5475 linhas e 16 colunas\n",
      "\n",
      "\n"
     ]
    }
   ],
   "source": [
    "print(f'\\n')\n",
    "print(f'**O banco final possui {merge_esp_pro_contra.shape[0]} linhas e {merge_esp_pro_contra.shape[1]} colunas')\n",
    "print(f'\\n')"
   ]
  },
  {
   "cell_type": "code",
   "execution_count": null,
   "id": "f91b8f9b",
   "metadata": {},
   "outputs": [],
   "source": []
  }
 ],
 "metadata": {
  "kernelspec": {
   "display_name": "Python 3 (ipykernel)",
   "language": "python",
   "name": "python3"
  },
  "language_info": {
   "codemirror_mode": {
    "name": "ipython",
    "version": 3
   },
   "file_extension": ".py",
   "mimetype": "text/x-python",
   "name": "python",
   "nbconvert_exporter": "python",
   "pygments_lexer": "ipython3",
   "version": "3.9.7"
  }
 },
 "nbformat": 4,
 "nbformat_minor": 5
}
